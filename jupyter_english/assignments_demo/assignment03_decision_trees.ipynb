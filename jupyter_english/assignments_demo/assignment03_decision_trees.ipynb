{
 "cells": [
  {
   "cell_type": "markdown",
   "metadata": {},
   "source": [
    "<center>\n",
    "<img src=\"../../img/ods_stickers.jpg\">\n",
    "## Open Machine Learning Course\n",
    "<center> Authors: [Maria Sumarokova](https://www.linkedin.com/in/mariya-sumarokova-230b4054/), senior data scientist/analyst at Veon, and [Yury Kashnitsky](https://www.linkedin.com/in/festline/), data scientist at Mail.Ru Group. <br>Translated and edited by Gleb Filatov, Aleksey Kiselev,<br> [Anastasia Manokhina](https://www.linkedin.com/in/anastasiamanokhina/), [Egor Polusmak](https://www.linkedin.com/in/egor-polusmak/), and [Yuanyuan Pao](https://www.linkedin.com/in/yuanyuanpao/) <br>All content is distributed under the [Creative Commons CC BY-NC-SA 4.0](https://creativecommons.org/licenses/by-nc-sa/4.0/) license."
   ]
  },
  {
   "cell_type": "markdown",
   "metadata": {
    "collapsed": true
   },
   "source": [
    "# <center> Assignment #3 (demo)\n",
    "## <center>  Decision trees with a toy task and the UCI Adult dataset \n",
    "\n",
    "Please fill in the answers in the [web-form](https://docs.google.com/forms/d/1wfWYYoqXTkZNOPy1wpewACXaj2MZjBdLOL58htGWYBA/edit)."
   ]
  },
  {
   "cell_type": "markdown",
   "metadata": {},
   "source": [
    "Let's start by loading all necessary libraries:"
   ]
  },
  {
   "cell_type": "code",
   "execution_count": 1,
   "metadata": {},
   "outputs": [],
   "source": [
    "%matplotlib inline\n",
    "from matplotlib import pyplot as plt\n",
    "plt.rcParams['figure.figsize'] = (10, 8)\n",
    "import seaborn as sns\n",
    "import numpy as np\n",
    "import pandas as pd\n",
    "from sklearn.preprocessing import LabelEncoder\n",
    "import collections\n",
    "from sklearn.model_selection import GridSearchCV\n",
    "from sklearn import preprocessing\n",
    "from sklearn.tree import DecisionTreeClassifier, export_graphviz\n",
    "from sklearn.ensemble import RandomForestClassifier\n",
    "from sklearn.metrics import accuracy_score\n",
    "\n",
    "# use .dot format to visualize a tree\n",
    "from ipywidgets import Image\n",
    "from io import StringIO\n",
    "import pydotplus #pip install pydotplus\n",
    "from sklearn.tree import export_graphviz"
   ]
  },
  {
   "cell_type": "markdown",
   "metadata": {},
   "source": [
    "### Part 1. Toy dataset \"Will They? Won't They?\""
   ]
  },
  {
   "cell_type": "markdown",
   "metadata": {},
   "source": [
    "Your goal is to figure out how decision trees work by walking through a toy problem. While a single decision tree does not yield outstanding results, other performant algorithms like gradient boosting and random forests are based on the same idea. That is why knowing how decision trees work might be useful."
   ]
  },
  {
   "cell_type": "markdown",
   "metadata": {},
   "source": [
    "We'll go through a toy example of binary classification - Person A is deciding whether they will go on a second date with Person B. It will depend on their looks, eloquence, alcohol consumption (only for example), and how much money was spent on the first date."
   ]
  },
  {
   "cell_type": "markdown",
   "metadata": {},
   "source": [
    "#### Creating the dataset"
   ]
  },
  {
   "cell_type": "code",
   "execution_count": 2,
   "metadata": {},
   "outputs": [],
   "source": [
    "# Create dataframe with dummy variables\n",
    "def create_df(dic, feature_list):\n",
    "    out = pd.DataFrame(dic)\n",
    "    out = pd.concat([out, pd.get_dummies(out[feature_list])], axis = 1)\n",
    "    out.drop(feature_list, axis = 1, inplace = True)\n",
    "    return out\n",
    "\n",
    "# Some feature values are present in train and absent in test and vice-versa.\n",
    "def intersect_features(train, test):\n",
    "    common_feat = list( set(train.keys()) & set(test.keys()))\n",
    "    return train[common_feat], test[common_feat]"
   ]
  },
  {
   "cell_type": "code",
   "execution_count": 3,
   "metadata": {},
   "outputs": [],
   "source": [
    "features = ['Looks', 'Alcoholic_beverage','Eloquence','Money_spent']"
   ]
  },
  {
   "cell_type": "markdown",
   "metadata": {},
   "source": [
    "#### Training data"
   ]
  },
  {
   "cell_type": "code",
   "execution_count": 4,
   "metadata": {},
   "outputs": [
    {
     "data": {
      "text/html": [
       "<div>\n",
       "<style scoped>\n",
       "    .dataframe tbody tr th:only-of-type {\n",
       "        vertical-align: middle;\n",
       "    }\n",
       "\n",
       "    .dataframe tbody tr th {\n",
       "        vertical-align: top;\n",
       "    }\n",
       "\n",
       "    .dataframe thead th {\n",
       "        text-align: right;\n",
       "    }\n",
       "</style>\n",
       "<table border=\"1\" class=\"dataframe\">\n",
       "  <thead>\n",
       "    <tr style=\"text-align: right;\">\n",
       "      <th></th>\n",
       "      <th>Will_go</th>\n",
       "      <th>Looks_handsome</th>\n",
       "      <th>Looks_repulsive</th>\n",
       "      <th>Alcoholic_beverage_no</th>\n",
       "      <th>Alcoholic_beverage_yes</th>\n",
       "      <th>Eloquence_average</th>\n",
       "      <th>Eloquence_high</th>\n",
       "      <th>Eloquence_low</th>\n",
       "      <th>Money_spent_little</th>\n",
       "      <th>Money_spent_lots</th>\n",
       "    </tr>\n",
       "  </thead>\n",
       "  <tbody>\n",
       "    <tr>\n",
       "      <th>0</th>\n",
       "      <td>0</td>\n",
       "      <td>1</td>\n",
       "      <td>0</td>\n",
       "      <td>0</td>\n",
       "      <td>1</td>\n",
       "      <td>0</td>\n",
       "      <td>1</td>\n",
       "      <td>0</td>\n",
       "      <td>0</td>\n",
       "      <td>1</td>\n",
       "    </tr>\n",
       "    <tr>\n",
       "      <th>1</th>\n",
       "      <td>1</td>\n",
       "      <td>1</td>\n",
       "      <td>0</td>\n",
       "      <td>0</td>\n",
       "      <td>1</td>\n",
       "      <td>0</td>\n",
       "      <td>0</td>\n",
       "      <td>1</td>\n",
       "      <td>1</td>\n",
       "      <td>0</td>\n",
       "    </tr>\n",
       "    <tr>\n",
       "      <th>2</th>\n",
       "      <td>0</td>\n",
       "      <td>1</td>\n",
       "      <td>0</td>\n",
       "      <td>1</td>\n",
       "      <td>0</td>\n",
       "      <td>1</td>\n",
       "      <td>0</td>\n",
       "      <td>0</td>\n",
       "      <td>0</td>\n",
       "      <td>1</td>\n",
       "    </tr>\n",
       "    <tr>\n",
       "      <th>3</th>\n",
       "      <td>1</td>\n",
       "      <td>0</td>\n",
       "      <td>1</td>\n",
       "      <td>1</td>\n",
       "      <td>0</td>\n",
       "      <td>1</td>\n",
       "      <td>0</td>\n",
       "      <td>0</td>\n",
       "      <td>1</td>\n",
       "      <td>0</td>\n",
       "    </tr>\n",
       "    <tr>\n",
       "      <th>4</th>\n",
       "      <td>1</td>\n",
       "      <td>0</td>\n",
       "      <td>1</td>\n",
       "      <td>0</td>\n",
       "      <td>1</td>\n",
       "      <td>0</td>\n",
       "      <td>0</td>\n",
       "      <td>1</td>\n",
       "      <td>0</td>\n",
       "      <td>1</td>\n",
       "    </tr>\n",
       "    <tr>\n",
       "      <th>5</th>\n",
       "      <td>0</td>\n",
       "      <td>0</td>\n",
       "      <td>1</td>\n",
       "      <td>0</td>\n",
       "      <td>1</td>\n",
       "      <td>0</td>\n",
       "      <td>1</td>\n",
       "      <td>0</td>\n",
       "      <td>0</td>\n",
       "      <td>1</td>\n",
       "    </tr>\n",
       "    <tr>\n",
       "      <th>6</th>\n",
       "      <td>0</td>\n",
       "      <td>1</td>\n",
       "      <td>0</td>\n",
       "      <td>0</td>\n",
       "      <td>1</td>\n",
       "      <td>1</td>\n",
       "      <td>0</td>\n",
       "      <td>0</td>\n",
       "      <td>0</td>\n",
       "      <td>1</td>\n",
       "    </tr>\n",
       "  </tbody>\n",
       "</table>\n",
       "</div>"
      ],
      "text/plain": [
       "   Will_go  Looks_handsome  Looks_repulsive  Alcoholic_beverage_no  \\\n",
       "0        0               1                0                      0   \n",
       "1        1               1                0                      0   \n",
       "2        0               1                0                      1   \n",
       "3        1               0                1                      1   \n",
       "4        1               0                1                      0   \n",
       "5        0               0                1                      0   \n",
       "6        0               1                0                      0   \n",
       "\n",
       "   Alcoholic_beverage_yes  Eloquence_average  Eloquence_high  Eloquence_low  \\\n",
       "0                       1                  0               1              0   \n",
       "1                       1                  0               0              1   \n",
       "2                       0                  1               0              0   \n",
       "3                       0                  1               0              0   \n",
       "4                       1                  0               0              1   \n",
       "5                       1                  0               1              0   \n",
       "6                       1                  1               0              0   \n",
       "\n",
       "   Money_spent_little  Money_spent_lots  \n",
       "0                   0                 1  \n",
       "1                   1                 0  \n",
       "2                   0                 1  \n",
       "3                   1                 0  \n",
       "4                   0                 1  \n",
       "5                   0                 1  \n",
       "6                   0                 1  "
      ]
     },
     "execution_count": 4,
     "metadata": {},
     "output_type": "execute_result"
    }
   ],
   "source": [
    "df_train = {}\n",
    "df_train['Looks'] = ['handsome', 'handsome', 'handsome', 'repulsive',\n",
    "                         'repulsive', 'repulsive', 'handsome'] \n",
    "df_train['Alcoholic_beverage'] = ['yes', 'yes', 'no', 'no', 'yes', 'yes', 'yes']\n",
    "df_train['Eloquence'] = ['high', 'low', 'average', 'average', 'low',\n",
    "                                   'high', 'average']\n",
    "df_train['Money_spent'] = ['lots', 'little', 'lots', 'little', 'lots',\n",
    "                                  'lots', 'lots']\n",
    "df_train['Will_go'] = LabelEncoder().fit_transform(['+', '-', '+', '-', '-', '+', '+'])\n",
    "\n",
    "df_train = create_df(df_train, features)\n",
    "df_train"
   ]
  },
  {
   "cell_type": "markdown",
   "metadata": {},
   "source": [
    "#### Test data"
   ]
  },
  {
   "cell_type": "code",
   "execution_count": 5,
   "metadata": {},
   "outputs": [
    {
     "data": {
      "text/html": [
       "<div>\n",
       "<style scoped>\n",
       "    .dataframe tbody tr th:only-of-type {\n",
       "        vertical-align: middle;\n",
       "    }\n",
       "\n",
       "    .dataframe tbody tr th {\n",
       "        vertical-align: top;\n",
       "    }\n",
       "\n",
       "    .dataframe thead th {\n",
       "        text-align: right;\n",
       "    }\n",
       "</style>\n",
       "<table border=\"1\" class=\"dataframe\">\n",
       "  <thead>\n",
       "    <tr style=\"text-align: right;\">\n",
       "      <th></th>\n",
       "      <th>Looks_handsome</th>\n",
       "      <th>Looks_repulsive</th>\n",
       "      <th>Alcoholic_beverage_no</th>\n",
       "      <th>Alcoholic_beverage_yes</th>\n",
       "      <th>Eloquence_average</th>\n",
       "      <th>Eloquence_high</th>\n",
       "      <th>Money_spent_little</th>\n",
       "      <th>Money_spent_lots</th>\n",
       "    </tr>\n",
       "  </thead>\n",
       "  <tbody>\n",
       "    <tr>\n",
       "      <th>0</th>\n",
       "      <td>1</td>\n",
       "      <td>0</td>\n",
       "      <td>1</td>\n",
       "      <td>0</td>\n",
       "      <td>1</td>\n",
       "      <td>0</td>\n",
       "      <td>0</td>\n",
       "      <td>1</td>\n",
       "    </tr>\n",
       "    <tr>\n",
       "      <th>1</th>\n",
       "      <td>1</td>\n",
       "      <td>0</td>\n",
       "      <td>0</td>\n",
       "      <td>1</td>\n",
       "      <td>0</td>\n",
       "      <td>1</td>\n",
       "      <td>1</td>\n",
       "      <td>0</td>\n",
       "    </tr>\n",
       "    <tr>\n",
       "      <th>2</th>\n",
       "      <td>0</td>\n",
       "      <td>1</td>\n",
       "      <td>0</td>\n",
       "      <td>1</td>\n",
       "      <td>1</td>\n",
       "      <td>0</td>\n",
       "      <td>0</td>\n",
       "      <td>1</td>\n",
       "    </tr>\n",
       "  </tbody>\n",
       "</table>\n",
       "</div>"
      ],
      "text/plain": [
       "   Looks_handsome  Looks_repulsive  Alcoholic_beverage_no  \\\n",
       "0               1                0                      1   \n",
       "1               1                0                      0   \n",
       "2               0                1                      0   \n",
       "\n",
       "   Alcoholic_beverage_yes  Eloquence_average  Eloquence_high  \\\n",
       "0                       0                  1               0   \n",
       "1                       1                  0               1   \n",
       "2                       1                  1               0   \n",
       "\n",
       "   Money_spent_little  Money_spent_lots  \n",
       "0                   0                 1  \n",
       "1                   1                 0  \n",
       "2                   0                 1  "
      ]
     },
     "execution_count": 5,
     "metadata": {},
     "output_type": "execute_result"
    }
   ],
   "source": [
    "df_test = {}\n",
    "df_test['Looks'] = ['handsome', 'handsome', 'repulsive'] \n",
    "df_test['Alcoholic_beverage'] = ['no', 'yes', 'yes']\n",
    "df_test['Eloquence'] = ['average', 'high', 'average']\n",
    "df_test['Money_spent'] = ['lots', 'little', 'lots']\n",
    "df_test = create_df(df_test, features)\n",
    "df_test"
   ]
  },
  {
   "cell_type": "code",
   "execution_count": 6,
   "metadata": {},
   "outputs": [
    {
     "data": {
      "text/html": [
       "<div>\n",
       "<style scoped>\n",
       "    .dataframe tbody tr th:only-of-type {\n",
       "        vertical-align: middle;\n",
       "    }\n",
       "\n",
       "    .dataframe tbody tr th {\n",
       "        vertical-align: top;\n",
       "    }\n",
       "\n",
       "    .dataframe thead th {\n",
       "        text-align: right;\n",
       "    }\n",
       "</style>\n",
       "<table border=\"1\" class=\"dataframe\">\n",
       "  <thead>\n",
       "    <tr style=\"text-align: right;\">\n",
       "      <th></th>\n",
       "      <th>Looks_repulsive</th>\n",
       "      <th>Money_spent_lots</th>\n",
       "      <th>Eloquence_average</th>\n",
       "      <th>Alcoholic_beverage_no</th>\n",
       "      <th>Eloquence_high</th>\n",
       "      <th>Looks_handsome</th>\n",
       "      <th>Money_spent_little</th>\n",
       "      <th>Alcoholic_beverage_yes</th>\n",
       "    </tr>\n",
       "  </thead>\n",
       "  <tbody>\n",
       "    <tr>\n",
       "      <th>0</th>\n",
       "      <td>0</td>\n",
       "      <td>1</td>\n",
       "      <td>0</td>\n",
       "      <td>0</td>\n",
       "      <td>1</td>\n",
       "      <td>1</td>\n",
       "      <td>0</td>\n",
       "      <td>1</td>\n",
       "    </tr>\n",
       "    <tr>\n",
       "      <th>1</th>\n",
       "      <td>0</td>\n",
       "      <td>0</td>\n",
       "      <td>0</td>\n",
       "      <td>0</td>\n",
       "      <td>0</td>\n",
       "      <td>1</td>\n",
       "      <td>1</td>\n",
       "      <td>1</td>\n",
       "    </tr>\n",
       "    <tr>\n",
       "      <th>2</th>\n",
       "      <td>0</td>\n",
       "      <td>1</td>\n",
       "      <td>1</td>\n",
       "      <td>1</td>\n",
       "      <td>0</td>\n",
       "      <td>1</td>\n",
       "      <td>0</td>\n",
       "      <td>0</td>\n",
       "    </tr>\n",
       "    <tr>\n",
       "      <th>3</th>\n",
       "      <td>1</td>\n",
       "      <td>0</td>\n",
       "      <td>1</td>\n",
       "      <td>1</td>\n",
       "      <td>0</td>\n",
       "      <td>0</td>\n",
       "      <td>1</td>\n",
       "      <td>0</td>\n",
       "    </tr>\n",
       "    <tr>\n",
       "      <th>4</th>\n",
       "      <td>1</td>\n",
       "      <td>1</td>\n",
       "      <td>0</td>\n",
       "      <td>0</td>\n",
       "      <td>0</td>\n",
       "      <td>0</td>\n",
       "      <td>0</td>\n",
       "      <td>1</td>\n",
       "    </tr>\n",
       "    <tr>\n",
       "      <th>5</th>\n",
       "      <td>1</td>\n",
       "      <td>1</td>\n",
       "      <td>0</td>\n",
       "      <td>0</td>\n",
       "      <td>1</td>\n",
       "      <td>0</td>\n",
       "      <td>0</td>\n",
       "      <td>1</td>\n",
       "    </tr>\n",
       "    <tr>\n",
       "      <th>6</th>\n",
       "      <td>0</td>\n",
       "      <td>1</td>\n",
       "      <td>1</td>\n",
       "      <td>0</td>\n",
       "      <td>0</td>\n",
       "      <td>1</td>\n",
       "      <td>0</td>\n",
       "      <td>1</td>\n",
       "    </tr>\n",
       "  </tbody>\n",
       "</table>\n",
       "</div>"
      ],
      "text/plain": [
       "   Looks_repulsive  Money_spent_lots  Eloquence_average  \\\n",
       "0                0                 1                  0   \n",
       "1                0                 0                  0   \n",
       "2                0                 1                  1   \n",
       "3                1                 0                  1   \n",
       "4                1                 1                  0   \n",
       "5                1                 1                  0   \n",
       "6                0                 1                  1   \n",
       "\n",
       "   Alcoholic_beverage_no  Eloquence_high  Looks_handsome  Money_spent_little  \\\n",
       "0                      0               1               1                   0   \n",
       "1                      0               0               1                   1   \n",
       "2                      1               0               1                   0   \n",
       "3                      1               0               0                   1   \n",
       "4                      0               0               0                   0   \n",
       "5                      0               1               0                   0   \n",
       "6                      0               0               1                   0   \n",
       "\n",
       "   Alcoholic_beverage_yes  \n",
       "0                       1  \n",
       "1                       1  \n",
       "2                       0  \n",
       "3                       0  \n",
       "4                       1  \n",
       "5                       1  \n",
       "6                       1  "
      ]
     },
     "execution_count": 6,
     "metadata": {},
     "output_type": "execute_result"
    }
   ],
   "source": [
    "# Some feature values are present in train and absent in test and vice-versa.\n",
    "y = df_train['Will_go']\n",
    "df_train, df_test = intersect_features(train=df_train, test=df_test)\n",
    "df_train"
   ]
  },
  {
   "cell_type": "code",
   "execution_count": 7,
   "metadata": {},
   "outputs": [
    {
     "data": {
      "text/html": [
       "<div>\n",
       "<style scoped>\n",
       "    .dataframe tbody tr th:only-of-type {\n",
       "        vertical-align: middle;\n",
       "    }\n",
       "\n",
       "    .dataframe tbody tr th {\n",
       "        vertical-align: top;\n",
       "    }\n",
       "\n",
       "    .dataframe thead th {\n",
       "        text-align: right;\n",
       "    }\n",
       "</style>\n",
       "<table border=\"1\" class=\"dataframe\">\n",
       "  <thead>\n",
       "    <tr style=\"text-align: right;\">\n",
       "      <th></th>\n",
       "      <th>Looks_repulsive</th>\n",
       "      <th>Money_spent_lots</th>\n",
       "      <th>Eloquence_average</th>\n",
       "      <th>Alcoholic_beverage_no</th>\n",
       "      <th>Eloquence_high</th>\n",
       "      <th>Looks_handsome</th>\n",
       "      <th>Money_spent_little</th>\n",
       "      <th>Alcoholic_beverage_yes</th>\n",
       "    </tr>\n",
       "  </thead>\n",
       "  <tbody>\n",
       "    <tr>\n",
       "      <th>0</th>\n",
       "      <td>0</td>\n",
       "      <td>1</td>\n",
       "      <td>1</td>\n",
       "      <td>1</td>\n",
       "      <td>0</td>\n",
       "      <td>1</td>\n",
       "      <td>0</td>\n",
       "      <td>0</td>\n",
       "    </tr>\n",
       "    <tr>\n",
       "      <th>1</th>\n",
       "      <td>0</td>\n",
       "      <td>0</td>\n",
       "      <td>0</td>\n",
       "      <td>0</td>\n",
       "      <td>1</td>\n",
       "      <td>1</td>\n",
       "      <td>1</td>\n",
       "      <td>1</td>\n",
       "    </tr>\n",
       "    <tr>\n",
       "      <th>2</th>\n",
       "      <td>1</td>\n",
       "      <td>1</td>\n",
       "      <td>1</td>\n",
       "      <td>0</td>\n",
       "      <td>0</td>\n",
       "      <td>0</td>\n",
       "      <td>0</td>\n",
       "      <td>1</td>\n",
       "    </tr>\n",
       "  </tbody>\n",
       "</table>\n",
       "</div>"
      ],
      "text/plain": [
       "   Looks_repulsive  Money_spent_lots  Eloquence_average  \\\n",
       "0                0                 1                  1   \n",
       "1                0                 0                  0   \n",
       "2                1                 1                  1   \n",
       "\n",
       "   Alcoholic_beverage_no  Eloquence_high  Looks_handsome  Money_spent_little  \\\n",
       "0                      1               0               1                   0   \n",
       "1                      0               1               1                   1   \n",
       "2                      0               0               0                   0   \n",
       "\n",
       "   Alcoholic_beverage_yes  \n",
       "0                       0  \n",
       "1                       1  \n",
       "2                       1  "
      ]
     },
     "execution_count": 7,
     "metadata": {},
     "output_type": "execute_result"
    }
   ],
   "source": [
    "df_test"
   ]
  },
  {
   "cell_type": "markdown",
   "metadata": {},
   "source": [
    "#### Draw a decision tree (by hand or in any graphics editor) for this dataset. Optionally you can also implement tree construction and draw it here."
   ]
  },
  {
   "cell_type": "markdown",
   "metadata": {},
   "source": [
    "1\\. What is the entropy $S_0$ of the initial system? By system states, we mean values of the binary feature \"Will_go\" - 0 or 1 - two states in total."
   ]
  },
  {
   "cell_type": "markdown",
   "metadata": {},
   "source": [
    "2\\. Let's split the data by the feature \"Looks_handsome\". What is the entropy $S_1$ of the left group - the one with \"Looks_handsome\". What is the entropy $S_2$ in the opposite group? What is the information gain (IG) if we consider such a split?"
   ]
  },
  {
   "cell_type": "code",
   "execution_count": 8,
   "metadata": {},
   "outputs": [],
   "source": [
    "def entropy(data):\n",
    "    keys = set(data)\n",
    "    entropy = 0\n",
    "    for i in keys:\n",
    "        p = sum([data[k] == i for k in range(len(data))]) / len(data)\n",
    "        entropy -= p * np.log2(p)\n",
    "    return entropy"
   ]
  },
  {
   "cell_type": "code",
   "execution_count": 9,
   "metadata": {},
   "outputs": [
    {
     "data": {
      "text/plain": [
       "0.9852281360342515"
      ]
     },
     "execution_count": 9,
     "metadata": {},
     "output_type": "execute_result"
    }
   ],
   "source": [
    "# 1\n",
    "entropy(y.values) # 0.99"
   ]
  },
  {
   "cell_type": "code",
   "execution_count": 10,
   "metadata": {},
   "outputs": [
    {
     "name": "stdout",
     "output_type": "stream",
     "text": [
      "For handsome :  0.8112781244591328 \n",
      " For not handsome :  0.9182958340544896 \n",
      " Information Gain :  0.12808527889139443\n"
     ]
    }
   ],
   "source": [
    "s0 = y.values\n",
    "s1 = y.loc[df_train[df_train['Looks_handsome'] == 1].index].values\n",
    "s2 = y.loc[df_train[df_train['Looks_handsome'] == 0].index].values\n",
    "\n",
    "print(\n",
    "    'For handsome : ', entropy(s1), '\\n',\n",
    "    'For not handsome : ', entropy(s2), '\\n',\n",
    "    'Information Gain : ', entropy(s0) - \n",
    "                           len(s1) / len(s0) * entropy(s1) - \n",
    "                           len(s2) / len(s0) * entropy(s2)\n",
    ")\n",
    "# 0.13"
   ]
  },
  {
   "cell_type": "markdown",
   "metadata": {},
   "source": [
    "#### Train a decision tree using sklearn on the training data. You may choose any depth for the tree."
   ]
  },
  {
   "cell_type": "code",
   "execution_count": 11,
   "metadata": {},
   "outputs": [
    {
     "data": {
      "text/plain": [
       "DecisionTreeClassifier(class_weight=None, criterion='entropy', max_depth=None,\n",
       "            max_features=None, max_leaf_nodes=None,\n",
       "            min_impurity_decrease=0.0, min_impurity_split=None,\n",
       "            min_samples_leaf=1, min_samples_split=2,\n",
       "            min_weight_fraction_leaf=0.0, presort=False, random_state=17,\n",
       "            splitter='best')"
      ]
     },
     "execution_count": 11,
     "metadata": {},
     "output_type": "execute_result"
    }
   ],
   "source": [
    "date_tree = DecisionTreeClassifier(random_state=17, criterion='entropy')\n",
    "date_tree.fit(df_train.values, y.values)"
   ]
  },
  {
   "cell_type": "markdown",
   "metadata": {},
   "source": [
    "#### Additional: display the resulting tree using graphviz. You can use pydot or [web-service](https://www.coolutils.com/ru/online/DOT-to-PNG) dot2png."
   ]
  },
  {
   "cell_type": "code",
   "execution_count": 12,
   "metadata": {},
   "outputs": [
    {
     "data": {
      "application/vnd.jupyter.widget-view+json": {
       "model_id": "91ac8bf927af463e8070ab142186b430",
       "version_major": 2,
       "version_minor": 0
      },
      "text/html": [
       "<p>Failed to display Jupyter Widget of type <code>Image</code>.</p>\n",
       "<p>\n",
       "  If you're reading this message in the Jupyter Notebook or JupyterLab Notebook, it may mean\n",
       "  that the widgets JavaScript is still loading. If this message persists, it\n",
       "  likely means that the widgets JavaScript library is either not installed or\n",
       "  not enabled. See the <a href=\"https://ipywidgets.readthedocs.io/en/stable/user_install.html\">Jupyter\n",
       "  Widgets Documentation</a> for setup instructions.\n",
       "</p>\n",
       "<p>\n",
       "  If you're reading this message in another frontend (for example, a static\n",
       "  rendering on GitHub or <a href=\"https://nbviewer.jupyter.org/\">NBViewer</a>),\n",
       "  it may mean that your frontend doesn't currently support widgets.\n",
       "</p>\n"
      ],
      "text/plain": [
       "Image(value=b'\\x89PNG\\r\\n\\x1a\\n\\x00\\x00\\x00\\rIHDR\\x00\\x00\\x01\\xf8\\x00\\x00\\x01\\xf1\\x08\\x02\\x00\\x00\\x00\\x0eE9\\xe0\\x00\\x00\\x00\\x06bKGD\\x00\\xff\\x00\\xff\\x00\\xff\\xa0\\xbd\\xa7\\x93\\x00\\x00 \\x00IDATx\\x9c\\xec\\xddu\\\\\\x93\\xdb\\x1b\\x00\\xf0\\x07\\xd8\\xe8\\x06\\xe9\\x16,LT\\x14\\x15\\xbb\\x13\\x15;\\xaf\\xdd\\\\\\xd4k``\\x07\\n\\xb6\\xd7\\xae\\x8b\\x89\\x8d\\x08\\n\"\\x12\\x12\\x8a\\x8a\\x82`\\x82\\xd2\\xdd\\r\\xdb\\xef\\x8fW\\xf7\\x9b\\xdb\\xd8\\xc6\\xd8X=\\xdf\\x8f\\x7f\\xb0\\xb3\\xf3\\x9e\\x9d\\x03\\xf8pv\\xde\\xb3\\xf3\\xc8P\\xa9T@\\x08!$\\xb9d\\x85\\xdd\\x01\\x84\\x10B\\x82\\x85\\x81\\x1e!\\x84$\\x1c\\x06z\\x84\\x10\\x92p$aw\\x00\\tGXXXVV\\x96\\xb0{\\x81\\x90\\x18300ptt\\x14v/\\xb8\"\\x837c\\xa5\\x13\\x99L\\xae\\xab\\xab\\x13v/\\x10\\x12c$\\x12\\xa9\\xb6\\xb6V\\xd8\\xbd\\xe0\\n\\x06z)%##\\xe3}|\\x9f\\xf3\\xa8!\\xc2\\xee\\x08Bb\\xe9\\xb6_\\xe0\\xcc\\x15\\x1b\\xc4%~\\xe2\\x1a=B\\x08I8\\x0c\\xf4\\x08!$\\xe10\\xd0#\\x84\\x90\\x84\\xc3@\\x8f\\x10B\\x12\\x0e\\x03=B\\x08I8\\xdcG\\x8f\\x1a\\xa4h\\xd9\\x95\\xf6\\xf5\\xd1\\x9d\\x1b\\x17\\xcdtfY\\xed\\xe1\\xd3\\x90\\xc9\\x8b\\xd7\\xd0\\x1eV%\\xc7\\n\\xbcg\\x88\\xee\\xa7\\xc3\\xc7o\\xb8 \\xdal6\\xcf\\xc2\\xa3\\xf7\\x9f8\\xff\\xf6C\"\\x00\\xd8ul\\xb7~\\xf9\\xbc\\x81\\xbd{\\xb0\\xbf\\x84\\xfe7\\x9cF\\x1c\\xc7\\xce\\x11\\xce\\xe8Q\\x83\\xaa\\x92ci\\xbf\\xf4\\x9e\\xa7/\\xd7\\xd5\\xd73\\xd7\\xa1R\\xa9\\xbb\\x8f\\x9ca\\xae\\x8f\\x04\\x8d\\xe5\\xb7z\\xe0\\xa4\\xf9\\x03\\'\\xcd\\xe7o\\x9bb\\xc1\\xfb\\xce\\xa3Q\\xb3\\x96\\xb5om\\x93\\x14\\xe6\\x9b\\x14\\xe6k\\xdb\\xcaz\\xd4\\xac\\xe5\\xd7\\xef?\\x16v\\xbfD\\x05\\xce\\xe8\\x11g\\xad[Z|\\xfa\\x96r\\xe3\\xbe\\xff\\xcc\\x89\\xa3\\x19\\x9ez\\x14\\xf4B(]\\x920\\xc4\\xd4\\xb2\\xe9q\\x96\\xc2\\xb4\\xad\\xbb\\xa1\\x96\\xf9\\xf5\\x8a\\xa2 +\\'\\xcfe\\xeb\\xbe\\x1ev\\x1d=\\xdd\\xd7\\xca\\xc8\\xc8\\x00\\x80\\xa7\\xfb\\xda\\xd7\\xef\\x13Vm\\xde;\\xa8OO=]m6\\xd7J\\xc6w\\x80#\\x9c\\xd1#\\xce\\xd6-\\xfb\\x0b\\x00\\x0e\\xfc{\\x91B\\xa10<\\xb5\\xfb\\xc8\\x99M.\\x8b\\x84\\xd1)\\xc4B\\xc8\\xed\\x0b!\\xb7/\\x08\\xbb\\x17\\xec\\xa4fd\\x1d<u\\xa9\\xdb\\xf0)|l\\xf3\\xe2\\xad\\xfb\\xe5\\x15\\x95s\\'\\x8f#\\xa2<\\x00\\xc8\\xc8\\xc8\\xcc\\x9d<\\xae\\xb4\\xbc\\xe2\\xd2\\xad\\x07||!\\xf1\\x85\\x81\\x1eq6e\\xdc\\x08\\x0bS\\xe3O\\xdfR\\xee\\x05\\x04\\xd3\\x97?\\nzA\\xa5\\xc2\\x98!\\xfd\\x84\\xd51$.\\n\\x8aJ\\xce]\\xbb3h\\xf2\\x82V}F\\xbb\\x1f<\\xa1\\xdfB\\x87\\x8f\\x8d\\x07\\x87\\xc7\\x00@\\xf7\\xce\\xed\\xe9\\x0b\\x89\\x87Aa\\x91||!\\xf1\\x85\\x81\\x1eqF\\x92\\x93[\\xbbd\\x0e\\x00x\\x9c\\xf8c\\xb6\\xb8\\xfb\\xc8\\x19\\xb7U\\x0bi\\xd3(\\x06\\xd9\\xb9\\xf9\\xcb\\xddv[9\\x8cP\\xb3\\xe9a\\xe50b\\xc5\\xa6=9y\\x05\\xb4g\\x15-\\xbb\\x12\\xff\\xd22\\xb3\\x9d\\x17\\xae\\xd6\\xb5u4\\xed6\\xe4/\\xd7\\xcd\\x05\\x85\\xc5\\xf4\\x8d\\xe4\\xe6\\x17\\xac\\xdc\\xbc\\x97h\\xc4\\xb2\\xe7\\xf0e\\x1bwe\\xe7\\xe63\\xb4@\\xfc\\xbb\\xe5\\xfb\\x84(o\\xd5g4Q\\xc2q\\\\\\xc5\\xa5e\\xff\\xec\\xf4l\\xd3w\\xacFk\\x07\\xa3.\\x03\\xfaM\\xfck\\xc3\\x9eC\\xaf\\xe2\\x12\\x18\\xdaO\\xfc\\xf2}\\xcc\\x9c\\x15-\\xda;\\xea\\xd8\\xf6q\\x9a\\xb7*\\xe9k2\\x97=\\xe4r\\x98\\xb4\\xae\\x125\\x97l\\xd8\\xc9\\xb1\\xe7,\\xd1^\\x8bc\\xcb\\x8dzE\\xf6\\x03d\\xaf\\xb2\\xaa\\xda\\xe7\\xd1\\xd3\\x89\\x0b\\\\\\xcd\\xbb\\x0fY\\xb1iOeU\\x95\\xc7\\xe6\\xd5\\xdf#\\x03\\xfc\\xfe;\\xc9\\xb2\\xe7l\\xfe\\xb1y\\x15\\xe2\\'bb\\xa8O_hjd\\x00\\x00\\x9f\\xbe\\xa5\\xb0\\xef\\xa1\\xfb\\xc1\\x13\\xad\\x1d\\xc7\\xa8\\xb7\\xea\\xd9\\xd2a\\xe4r\\xb7\\xddY9y\\\\\\x0eM\\xbc\\xe0\\x1a=\\xe2\\xca,\\xe71{\\x8e\\x9d\\x8b\\xfb\\xf8\\xe9qp\\xd8\\xc8\\x81\\x8e\\x00\\xf0(\\xe8\\x05\\x85B\\x1d;\\xb4?\\xcb\\xfa\\xd9\\xb9\\xf9\\xbd\\xc7\\xcd\\xaa\\xa7P.z\\xed\\xec\\xda\\xc9\\xf6\\xf5\\xbb\\xf8\\xb9\\xae\\x9b\\x9f\\xbex\\x19~\\xff\\n\\xb1fZ\\x95\\x1cK\\xfc\\xef\\xdd\\xe2ql\\xd7\\xfa\\x95\\x86\\xfa-\\xb6x\\x1c;\\xe3}\\x9bD\"\\x9d=\\xb0\\x8dh$\\'\\xaf\\xa0\\x8f\\xd3\\xec\\xaa\\xea\\xea\\x0b^;{v\\xed\\x18\\x97\\xf0\\xe9/\\xd7-\\xc1\\x111Q\\x8f\\xaej\\xaa\\xabU%\\xc7>\\x8f\\x88\\x191s\\xa9\\x81\\x9e\\xee\\x97\\x08?2\\xe9\\xd7/\\xf3\\xc6\\x95\\x0b\\x1e>}~\\xef\\xfc\\x11\\x8e\\x83Z\\xb0\\xc6\\xdd70\\xe4\\xe0\\xd6\\xb5\\x7fMq\"\\x93I)\\xa9\\x19[<\\x8e9:\\xcd&\\xd6mi=\\\\\\xbaq\\xd7\\xde\\r.\\x1d\\xda\\xd9\\xbcz\\x1b?\\xd7u\\xf3\\x00\\xe7yQ\\x8f\\xae\\x9a\\x9b\\x18q\\xec!\\x97\\xc3\\xa4\\xd5i\\xe2z1\\xad\\x1d\\xe6\\x12\\x86\\x96\\xb9\\x7fE\\x8e\\x03d\\xa9\\xbe\\x9e\\x12\\x1c\\x11}\\xfd\\xbe\\xff\\xc3\\'\\xcf\\xcb**,\\xcd\\x8c\\xd7.\\x99;m\\xfc\\xc8VV\\xe6\\r\\xf5\\x9c\\xcb1\\xb2T\\\\R\\n\\x00\\xaa*\\xca\\xf4\\x85\\xc4\\xc3\\xa2\\xe2R6\\x17\\xaa\\xa9([\\x99\\x99D=\\xbaJ\\xa5\\x82_\\xd0\\x0bWw\\x0f\\xff\\xe7\\xe1\\x11\\xf7\\xaf\\x18\\xea\\xb7hJ\\x7fD\\x10\\xce\\xe8\\x11W\\x14\\xe4\\xe5]\\x17\\xce\\x02\\x80}\\xc7\\xcf\\x13%{\\x8e\\x9ee3\\x9d\\xdf\\xee\\xf5oZf\\xf6\\x9e\\r\\xab\\xfa\\xf7\\xea\\xae\\xa6\\xa2<\\xa0\\xb7\\xfd\\xee\\xf5\\xab~\\xa6g\\xee8t\\x8a\\xa1\\xe6\\xbc\\xa9\\xe3\\xdbX[j\\xa8\\xa9\\xaeY<\\x07\\x00\\x82\\xc2\\xa2hO\\xed8t\\xeagz\\xe6\\xce\\x7fV\\x0cv\\xec\\xa9\\xaa\\xac\\xdc\\xbb{\\x97\\x03[\\xd6\\xa4\\xa4\\xa6\\x1f:s\\x85\\xa80\\xa0\\xb7}\\xc7\\xb6\\xad\\xb2r\\xf2n=\\x0c\\xa0]u\\xe2\\xe2\\xf5\\x95\\xf3\\xa6s3\\xa8\\x17\\x91\\xaf\\x00\\xc0\\xc8\\xa0\\x85\\x8a\\xb2\\x92<\\x99\\xdc\\xca\\xca\\xfc\\xf0\\xf6\\xf5\\xcc\\xd56\\xae\\x98\\xef\\xd0\\xad\\x93\\xaa\\xf2\\xafQ\\x14\\x16\\x97\\xec<|\\x9a\\xcb\\x1er3LQ\\xc6\\xfd\\x00\\xe9Y\\xf4\\x186f\\xce\\x8a\\'!\\x113&\\x8ezq\\xe7b\\xe2\\x8b\\x87\\xeek\\x966\\x14\\xe5\\x85(7>l\\xce\\xe4qZ\\x1a\\xea\\xda\\x9a\\xea\\xb3\\x9c\\xc7l]\\xbd$#+g;\\xd3\\xaf\\xa8\\x04\\xc0@\\x8f\\xb85\\x7f\\xda\\x04]m\\xad\\x98\\xb7\\x1fB^\\xbe\\xf2{\\x16ZWW\\xdf\\xd0t\\x1e\\x00\\x1e\\x07\\x87\\x01@\\x7f\\x87\\xee\\xb4\\x92\\x81\\xbd\\xedi\\xe5\\xf4:\\xb7oK|AL\\xa3\\xe8\\xdf;\\xfb=\\x0b\\x05\\x80a\\xfd{\\xd3J\\x1c\\xed\\xed\\x00\\xc0/(\\x94V\\xb2j\\xfe\\x0c\\x008z\\xfe\\x1a\\xf10\\xe4\\xe5+\\n\\x95\\xcaq\\x035\\xc1i\\xc4 \\x00\\x98\\xbel\\xbdu\\xaf\\x91K6\\xec\\xbc\\xed\\x17\\xa8\\xa3\\xad\\xc9<\\xbb\\xeca\\xd7\\x91a\\x14\\xb40\\xcdM\\x0f9\\x0eS\\x94q?@f\\xf2\\xf2dE\\x05\\x05yyy\\xc1u\\x8f\\xa0\\xa1\\xae\\x06\\x00e\\xe5\\x15\\xf4\\x85\\xc4CM\\x8d\\x06\\xdfv0\\x1b7l\\x00\\x00\\x04<\\x0f\\xe7k\\xefD\\x02.\\xdd n)+)\\xae\\x9a?c\\xeb\\x81\\xe3{\\x8f\\x9f++\\xab`3\\x9d\\x07\\x80\\xbc\\xfcB\\x00\\xd0\\xd1\\xd6\\xa4\\x95\\x10_\\xe7\\xd2-\\xd3\\x13\\xd4~\\xbf\\xe3\\x96\\'\\x93\\x01\\x80\\xfe\\xdcW\\xa2\\xb2E\\x8fa\\x0c\\x97|\\xff\\x99F\\xfbz\\xf2\\xd8a\\x9b=\\x8e\\xc5}\\xfc\\x14\\xf2\\xf2U\\xff^\\xdd\\x8f_\\xbc\\xbe\\xe2\\xafi\\\\\\x8e\\xe8\\xf4\\xfe\\xad#\\x07:\\xde|\\x18\\x10\\xf2\\xf2\\xd5\\xa5\\x9b\\xf7/\\xdd\\xbcojdp\\xfb\\xacW\\xa7v\\xad\\xe9\\xab\\xd1\\xafQ\\x10\\xa3 F\\xc7e\\x0f9\\x0eS\\x94q?@z\\xc9\\xd1\\x01\\xc1\\xe1\\xd1\\xd7\\xef\\xfb\\x9f\\xbfv\\xf7\\xc89\\xefVV\\xe6S\\x9dFN\\x1d;\\xdc\\xca\\xdc\\x84e}nn\\xa8\\xb0Y\\xdeicm\\x99\\x9b_\\x90\\x96\\x99M\\xff\\x93J\\xcd\\xc8\\x02\\x80\\xd6--8\\xb6L\\xa3\\xdfB\\x17\\x00\\xf2\\x0b\\x8a\\xb8\\xbfD\\\\`\\xa0G\\x8d\\xb0d\\xf6d\\xaf\\xd3\\x97_D\\xbe\\xee\\xd0\\xc6\\x86\\x98\\xfe4\\xa4\\x85\\xaevfvn~A\\x11m\\xb9\\x93\\xf8\\xff\\xd3\\x82\\xed\\xa6f\\x06z-t2\\xb2r2\\xdf=\\xd7\\xd2Po\\xa8\\x8e<\\x99\\xbct\\xf6\\x14\\xf7\\x83\\'\\x8e\\x9c\\xf7671\\x8az\\xf3\\xfe\\xbfc{\\xb9l_FF\\xc6i\\xf8@\\xa7\\xe1\\x03)\\x14Jdl\\xdc\\xbe\\xe3\\xe7\\x03C#\\x17\\xfd\\xb3=\\xda\\xef\\x1a}\\xb5\\x82\\xc2bm-\\r\\xfaQ\\xe8\\xeahq\\xdfC\\xb1\\xc6\\xdb\\x00IrrC\\xfb\\xf5\\x1a\\xda\\xafWEe\\xd5\\xa3\\xa0\\x177\\xee\\xfb\\xef=zv\\x87\\xd7\\xbf\\xdd;\\xb7\\x9f:n\\xc4\\xa4\\xd1C\\x19\\xf6\\xb67q\\x8d~`\\x1f\\xfb\\xb0\\xe8\\xd8W\\xef\\xe2\\xdb\\xb7\\xb6\\xa6\\x15\\xbe\\x8eK\\x00\\x80\\xc1\\x8e\\x0e\\xdc\\xb7\\x93\\x99\\x9d\\x0b\\x8d\\xfc\\x15\\x15\\x17\\xb8t\\x83\\x1aA]Ue\\xd5\\x82\\x99\\x1aj\\xaa\\x9b\\\\\\x16\\xb1\\x99\\xce\\x03\\xc0\\xa8A}\\x01\\xe0\\xf9\\xcb\\x18ZIpD\\x0c\\xad\\x9cK\\xc4\\xd2Ph\\xd4\\x1fQ \\xe2\\xd5[\\xc7\\xf1s\\xe8K\\x16\\xcepVVR\\x0cx\\x1e\\xb1z\\xbb\\xc7\\xbc\\xa9NJ\\x8a\\n\\\\\\xb6\\xafh\\xd95=+\\x1b\\x00dee{w\\xef\\xe2}|\\x1f\\xfc\\xde\\xc2A\\xefe\\xec;\\x86Q\\x0cv\\xec\\xd9\\xa8\\x1er\\xa4\\xac\\xa4\\x08\\x00\\xb5uu\\x15\\x95UF]\\xd8\\xfd\\x05m\\xac\\x86Z\\xe6\\xf2\\x15\\x9b8@e%\\xc5\\xc9c\\x86\\xdd=\\x7f\\xf8G\\xcc\\xd3c\\xbb6\\x92I\\xa4\\xb5;\\x0eZ\\xf6\\x1c6z\\xf6r\\x9eF\\xc3\\xda\\xdcI\\xe3T\\x94\\x95.\\xfb<\\xa4/\\xbc\\xec\\xf3PUYy\\xce\\xa4\\xb1\\r]\\xa5h\\xd9\\xf5K\\xf2\\x0f\\xfa\\x12b\\xe3V\\xa3~E\\xc5\\x05\\x06z\\xd48n+\\x17d\\xbf\\x7f\\xe14| \\xfbj[]\\x97\\x98\\x19\\x1bn\\xda\\x7f,\\xe4\\xe5\\xab\\xd2\\xf2\\x8a\\x90\\x97\\xaf6{\\x1c336\\xdc\\xf2\\xf7b\\xee_k\\xeb\\xdfK\\xac-\\xcc\\\\\\xb6\\xee\\xbb\\xeb\\x1fTPX\\\\Z^\\xf188l\\xfe\\x1a\\xf7=\\x1bV\\xd1W\\xd3\\xd6T\\x9f9q4\\x95J\\r|\\x11\\xb9d\\xd6\\xe4F\\rg\\xc9\\xfa\\x9d\\x1f?\\x7f\\xab\\xae\\xa9\\xc9\\xc9+\\xf0<u\\t\\x00\\x86\\xf4e\\x9c\\x03\\x9e\\xbdz\\xe7\\xe5\\xebwe\\x15\\xbfF\\xa1\\xa5\\xa1N\\x1b\\x05\\x97=\\xe4\\xa8}\\x1b\\x1b\\x00x\\xfd.\\xc1\\xefYhO\\xbbN\\x8d\\xba\\x96\\xb7\\x96\\xb9|E~\\rP[Kc\\xe1\\x0c\\xe7`\\x9f\\xf3\\x9f\\xc3\\x1fm[\\xb3\\x9c\\x98;\\xf3\\x8b\\xa1~\\x8b\\xc3\\xdb\\xd7G\\xc5\\xc6\\xad\\xddq0\\xbf\\xb0(\\xbf\\xb0h\\xcd\\xf6\\x03\\xd1o\\xde\\x1f\\xdd\\xb5\\x81~\\xc3>\\xf36\\xcd\\xd9\\xab\\xdc\"^\\xbd-\\xaf\\xa8\\xcc\\xce\\xcd?u\\xe5\\xd6\\xbe\\xe3\\xe7\\xac\\xccM\\xb6\\xba6\\xe2WT\\\\`*A)\\xc5M*A\\xe6\\xbdz\\x1c\\xeb\\xd0W\\xcb\\xc9+\\xd8q\\xe8\\x94\\xdf\\xb3\\xd0\\xdc\\xbc\\x82\\x16\\xba\\xda#\\x07:\\xba\\xaf^J{\\xcfN\\x7f!q\\ts\\t\\x00\\x14\\x16\\x97\\xec;~\\xfe\\xc1\\x93\\xe7\\xe9\\x99\\xd9Z\\x9a\\xea\\xdd;\\xb5_\\xbf|\\x9e}\\x97\\x0e\\x0c/\\xfa5\\xe5g\\xc7A\\x13\\x9dG\\r\\xb9rt\\x0f\\x9b\\x111\\x88|\\x1dw\\xfe\\xc6\\xdd\\xb0\\xe87\\x19Y9\\xcaJ\\x8a\\xe6&F\\x13G\\rY9o:1\\xdb\\xa5u\\xe9S\\x98\\xaf\\xab\\xbbGXt,\\x85J\\xedco\\xb7\\x7f\\x93k\\x1bkKZ#\\xec{\\xc8\\xe50c?|\\\\\\xba~\\xe7\\xd7\\x94\\x9f\\xed\\xdb\\xd8\\x9c\\xf7\\xdcnc\\xc9y\\x83J\\x13[fY\\xde\\x94\\x1f\\x81\\xd0\\x05\\x85E\\xed?q\\xe1\\xf7\\xa1fm7\\xac\\x98\\xcfpO\\x9eaG\\xe9\\xab\\xb8\\x04\\xef;\\xbe/\"_\\xa7\\xa4\\xa6S\\xa9`aj4fH\\xff\\xb5K\\xe7\\xb2\\xd96JO\\xbcR\\tb\\xa0\\x97R\\x12\\x963\\x96B\\xa1X9\\x8c\\xb8u\\xea \\x7f\\x03\\x90$\\x1d\\x08\\x83\\xf8K\\xbc\\x02=.\\xdd I\\xe0\\xff<\\xdc\\xd4\\xc8@\\x04\\xa7\\x99\\x08\\x89\\x02\\x0c\\xf4H\\x8c)Zv\\x8dy\\xfb\\xa1\\xb0\\xb8d\\xf7\\x913\\xeb\\x97\\xcf\\x13vw\\x10\\x12Q\\xb8\\xbd\\x12\\x89\\xb7\\xbe\\x13\\xe6jki,\\x9b=e\\xf4`\\xc6\\xb3\\xd5\\xd8\\xef\\xce\\xe6\\xb8 C\\x7f L\\xf3\\xaf\\xde4\\xb1\\xf3\\x08\\xd1\\xc3@\\x8f\\xc4\\x18\\xfbx\\xd7\\xf4\\xa3c\\x9ary\\x13a(G|\\x84K7\\x08!$\\xe1pF\\x8f\\x90T\\xe0!\\xa5jyE\\xe5\\xa1\\xb3\\xff\\xdd}\\x1c\\xf4\\xfdG*\\x99D\\xea\\xd8\\xae\\xf5\\x8a\\xbf\\xa6\\x8d\\x1f1\\x88\\xbe\\xce\\xb7\\x1f\\xa9\\xc7.\\\\\\x0b\\x8d\\x8aM\\xcb\\xc8\\x02\\x00\\x13#\\x83~=\\xbb\\xad\\x9c7\\x9d\\xfe\\xb4\\x03\\xe9I\\xcd*\\xb2pF\\x8f\\x90\\xe4\\xe3!\\xa5jqi\\xd9\\x00\\xe7y\\x87\\xce\\\\Y6g\\xca\\xe7p\\xbf\\xf8\\xe7\\xf7\\x9dG\\x0f\\xf9\\xcbu\\xf3\\x81\\x7f/\\xd1\\xea\\x04\\x86F\\xda\\r\\x9d\\xec\\x1f\\x1c\\xbe\\xe3\\x9f\\xe5\\x9f\\xc2\\x1f}\\n\\x7f\\xb4s\\xdd\\n\\xbfg\\xa1v\\xc3&=\\x0b\\x8f\\x16\\xf8\\xa8\\x10\\xd7pF\\x8f\\xa4\\x94\\xf4\\xec\\x91\\xe7-\\xa5\\xea\\xceC\\xa7\\xde\\'~\\xde\\xeb\\xf6\\xf7\\x82\\xe9\\x13\\x89\\x92\\xa5\\xb3\\xa7\\x14\\x16\\x97n\\xf3<1j\\x90c\\xbbV-\\x01`\\xfd\\xeeC\\xd555\\xe7=\\xb7\\xf7\\xb1\\xb7#\\xea\\x8c\\x1a\\xd4W]Ue\\xc8\\xd4E\\xebvz\\xc6>\\xb9EkM\\x1a\\xbe\\xcf\\xa2\\x0cg\\xf4\\x08I8\\xdeR\\xaa\\xde\\xf3\\x0f\\x06\\x80\\t\\x7f.\\xd4L\\x19;\\xac\\xbe\\x9er\\xe1\\xc6=\\xe2a\\xf2\\xcf4\\x00\\xe8\\xdc\\xbe\\r}\\x9d.\\x1d\\xda\\x02@rj:_\\x07\\x81\\x9a\\x04\\x03=B\\x12\\x8e\\xb7\\x94\\xaa\\xd9\\xb9y\\xf0\\xfb\\xe4^\\x1ac\\x03}\\x00\\x08\\x8fyC<\\xec\\xd2\\xbe-\\x00\\xbc\\x8bO\\xa2\\xafC\\xdc\\x06\\xe8\\xf2\\xfb\\xfc}$\\n0\\xd0#\\xf1#\\xb84\\xad\\xb4k\\xbf\\xffH\\x9b\\xb2d\\xadA\\xa7\\xfe\\xf4\\'aq\\x99\\x05\\xb7\\xa1\\x1c\\xb3<\\'\\xb9\\x15JJU\\xe2(f\"\\xdc\\xd3\\xe4\\xe4\\xe5\\x03@\\xf2\\xcf_\\xb3\\xf5c\\xbb\\xdd,L\\x8d\\xe7\\xafq\\xf7{\\x16ZTRZTR\\xfa88l\\xc1\\xdam\\x96f\\xc6\\xc7w\\xbb\\xd1_(%\\xa9YE\\x16\\x06z$fr\\xf2\\nz\\x8f\\x9b\\xfd\\xe0I\\xf0\\x19\\x0f\\xf7\\xcc\\xb8\\xe7\\xde\\xc7\\xf6\\x06\\x85E\\xf5\\x9b\\xf8WQ\\xc9\\xaf\\xec\\xa0\\xb4\\xe5`\"M\\xeb\\xb7(\\xff\\xf1#\\x06^\\xbf\\xef\\xbf~\\xcf!Z#\\xb4:U\\xc9\\xb1U\\xc9\\xb1\\xa7\\xf6ma(_\\xb9y\\x8f\\xeb\\xc2Y\\xc9\\xd1O\\x1e\\\\<J\\x94\\x10Yp\\x1f\\x07\\x87]\\xf0\\xdc\\x91\\xf1\\xee\\xf9\\xf9\\x83\\xdb}\\x03C\\xfa8\\xcd\\xa6\\xc5z\\xda\\xb5K7\\xeer[\\xb909\\xe6\\xc9\\xed3^o\\xe3\\x93\\x068\\xcf\\xfb\\x91\\x96AT\\xf0\\xf7\\xfe\\x17\\x00\\x0c\\xf4tK\\xbfDO\\x1e\\xf3+\\x9b\\xc7\\xc6\\x95\\x0bF\\x0c\\xec\\xc3f\\x15\\x9b\\xe8$\\xfb\\x7fl\\xbec\\xbc\\xa5T\\x1d>\\xa0\\x0f\\x00\\xdc\\xf5\\x7fF_\\xf8\\xe0\\xc9s\\x00(\\xaf\\xa8$\\x1e\\xda\\xb6j\\x19\\xedwmh\\xbf^S\\x16\\xaf5\\xe8\\xd4\\xdf\\xa0S\\xffI\\x8bV\\x0f\\xed\\xd7+\\xea\\xd1\\xb5\\xb66V\\xb4\\xabh\\xa9YSb\\x9en[\\xb3\\xf4\\xe6\\x83\\x80^\\xe3f\\xf1\\xf7\\x00K\\xc4\\x1e\\x06z$f\\x9a\\'M\\xeb\\xfa\\xe5\\xf3{v\\xed\\xa4\\xa4\\xa80\\xac\\x7fo\"\\x8cr\\x9f\\x05\\x97M\\x8e\\xd9&&\\xb9mN[\\xff^ld\\xa0\\xb7\\xeb\\xf0\\xe9\\xf3\\xd7\\xef\\xe6\\xe6\\x17\\xe4\\x15\\x14^\\xbcy\\xff\\x8c\\xf7m\\xf8}\\x96=\\x00df\\xe7\\x0e\\x9d\\xba\\xe8\\x8e\\xdf\\xd33\\x07\\xdc\\xd3\\xdf<K\\x7f\\xf3\\xec\\xec\\x81m\\xb7\\x1f=\\x1d6m\\x11\\xfd{,\\xe9I\\xcd*\\xb20\\xd0#1\\xd3<iZ\\xbbu\\xb2e(\\xe1>\\x0b.\\x9b\\x1c\\xb3\\xd0\\xb4$\\xb7\\xbc\\xe1-\\xa5\\xaa\\x91\\x81^\\xe4C\\xef\\xe9\\xe3G\\xed=v\\xce\\xb2\\xc7p\\xbba\\x93\\xa3\\xde\\xbc\\xbf}\\xd6\\x0b\\xe8\\x16\\xee7\\xec9\\x1c\\xf7\\xf1\\x93\\xa7\\xfb\\xba\\xe9\\xe3G\\xe9hi\\xeahiN\\x1f?\\xca\\xd3}\\xed\\xbb\\x84O\\x1b\\xe8\\xde?1\\x90\\xe0\\xd4\\xac\"\\x0b\\xb7W\"1\\xd3<iZi\\x93V\\x1a\\xee\\xb3\\xe0\\xb2\\xc91\\x0b<%\\xb9\\x15VJU\\xfd\\x16:\\xc7vm\\x04\\xd8H+\\xf9\\xf8\\xf9\\x1b\\x00t\\xf9\\xbd\\xcd\\x86\\xf8\\x036\\xac_/\\xfa\\xab\\x88\\xbf\\xc1\\x81\\xa1\\r\\xbe\\x7f\\x92\\xe0\\xd4\\xac\"\\x0b\\x03=\\x123\\xc2J\\xd3\\xca}\\x16\\\\69f\\x81\\xa7$\\xb7\"\\x92R\\x15\\x00^\\xbe~\\x07\\x00\\xb4\\x0f\\xc7VVU5T\\x93\\xcdS\\x12\\x9c\\x9aUd\\xe1\\xd2\\r\\x123\\xc2J\\xd3\\xca}\\x16\\\\69f\\t<\\'\\xb9\\xe5\\ro)U\\x81)\\xabjMm\\xed\\xbf\\x97ovl\\xdbj\\xec\\xd0_\\xdf.\"\\x07\\xe1\\xd3\\xd0?\\xf6h>\\t\\x89\\x00\\x80\\x9e\\xbf\\xd7\\xaf\\xa4*5\\xab\\xc8\\xc2@\\x8f\\xc4\\x8c\\xb0\\xd2\\xb4r\\x9f\\x05\\x97M\\x8eYBS\\x92\\xdc\\xf2\\x80\\xe7\\x94\\xaa\\x00\\xb0d\\xfd\\xceO\\xdfRjjk\\xdf\\'~v^\\xb8:\\xbf\\xa8\\xf8\\xea\\x89}rr\\xbf\\xe2\\xc6\\x9e\\x8d.j*\\xca\\xab\\xb7{\\xdcx\\x10PPX\\\\PX|\\xfd\\xbe\\xff\\xda\\x1d\\x07\\xd5T\\x94\\xf7lt\\xa15\"=\\xa9YE\\x16\\xa6\\x12\\x94Rb\\x9dJPpiZ\\xd9\\xa7\\xc9e\\x9f\\x05\\x17\\xb8\\xcb1K\\xe0-\\xc9mS46\\xa5*\\x00\\xbc\\x88|\\xfd\\xef\\x95\\x9b\\xa1\\xd1\\xb1\\xe5\\xe5\\x95&\\x86\\xfa\\xa3\\x87\\xf4[\\xbfl\\x1emU\\x8a\\xf0\\xfdG\\xda\\xc1S\\x97\\x9e\\xbf\\x8cI\\xcf\\xcc\\x01\\x00cC\\xbd\\x01\\xbd\\xec\\xffY\\xfa\\x97\\xa5\\x991Q\\xa1\\x89\\xa9YE\\x96x\\xa5\\x12\\xc4@/\\xa5\\xc4:\\xd0\\x8b,\\xee\\xcf\\xcf\\x11P\\x92[\\xd4l\\xc4+\\xd0\\xe3\\xd2\\rBB\\x80InQs\\xc2@\\x8fP\\xf3\\xc1$\\xb7H(0\\xd0#\\xc4\\x1f\\xf4\\xe7\\xe7\\xb0\\xa9\\xd6w\\xc2\\\\\\xdb\\x01N#\\x07:2\\'\\xb9EH@p\\x1f=B\\xfc\\xc1\\xcd\\xd2<\\x1e\\xcb\\x8e\\x84\\x02g\\xf4\\x08!$\\xe1pF\\x8f\\x90\\xf0\\xd1V{D|\\xca\\xcffUJ\\xc4{.\\xe5pF\\x8f\\x90\\xf0\\x89{\\x94\\xa4?\\xc7\\r\\x89 \\x9c\\xd1#\\x84\\x1a\\x81\\xf9o\\x92\\xd3\\xbcUS\\xc6\\x0e\\x17Jg\\x10\\x97pF\\x8f\\x10\\xe2\\xd6\\xa4\\xd1C\\x19J\\x92\\x7f\\xa6\\xbf\\xf9\\x908a\\xe4`\\xa1\\xf4\\x07q\\t\\x03=B\\x88[\\xcc\\x07m\\x9e\\xbdz{\\xb6\\xf3X\\x05yy\\xa1\\xf4\\x07q\\t\\x97n\\x90\\x14).-\\xdbu\\xf8\\xb4o\\xe0\\x8b\\xcc\\xec\\\\\\x15eE\\x1b+\\x0b\\x87\\xae\\x1d\\'\\x8e\\x1a\\xda\\xfdw\\x9a\\x91\\xe0\\x88\\xe8\\x13\\x17oD\\xbcz[YU\\xdd\\xd6\\xc6r\\xf5\\xe29\\xb4\\x84\\x7f@w+29*\\xc0u\\x9bGPh\\x94\\xbc<i\\xc4\\xc0\\xbe^\\xdb\\xfe)*.Y\\xbd\\xed@h\\xd4k%%\\xc5\\xa1\\xfdz\\x1d\\xdc\\xba\\x96v\\x96\\x0b\\xed\\xaa\\xb7O}\\xd6\\xed\\xf2\\x8a\\x8a\\x8d\\xa3P\\xa9\\x8e=\\xec\\xf6\\xb9\\xb18\\x03\\x87^n~\\xc1\\x8eC\\xa7\\x89\\xa3utu\\xb4F\\x0c\\xe8\\xe3\\xbez)\\xed\\x182\\x8eca\\xd6\\xc4s\\xedYT\\xae\\xae\\xf9\\xef\\xce\\xa3\\xf0\\xfb\\x97\\xb9\\xbf\\x04\\t\\x05\\x06z$E\\x16\\xacq\\xf7\\r\\x0c9\\xb8u\\xed_S\\x9c\\xc8dRJj\\xc6\\x16\\x8fc\\x8eN\\xb3i\\xd1m\\xe4\\xccec\\x87\\xf6O\\x08\\xb9_QY\\xb5d\\xfd\\x8e\\xd9\\xab\\xdc\\xb44\\xd4\\x87\\xf4\\xfduh{Ur,\\x11+\\xdd\\xf6\\x1d\\xdd\\xb6f\\xd9i\\x0fw\\xf7\\x83\\'N]\\xb9UPT$O&\\xef\\xde\\xb0\\xcaP\\xbf\\xc5\\x16\\x8fcg\\xbco\\xcb\\x93\\xc9\\'\\xf7nf\\xb8j\\xe9\\xc6]{7\\xb8thg\\xf3\\xeam\\xfc\\\\\\xd7\\xcd\\x03\\x9c\\xe7E=\\xbajnb\\xc4\\xb2\\xab9y\\x05}\\x9cfWUW_\\xf0\\xda\\xd9\\xb3k\\xc7\\xb8\\x84O\\x7f\\xb9n\\t\\x8e\\x88\\x89zt\\x95\\xf8\\x13\\xc2q,\\xcc\\xf8~\\xcb\\xf7\\xf6\\xa3\\xa7];\\xb6mh\\x08Ht\\xe0\\xd2\\r\\x92\"/\"_\\x01\\x80\\x91A\\x0b\\x15e%y2\\xb9\\x95\\x95\\xf9\\xe1\\xed\\xeb\\x19\\xea\\x1c\\xd8\\xb2FGK\\xd3\\xd4\\xc8\\xc0k\\xdb:\\x00\\xd8w\\xfc<s;\\xf3\\xa6:\\x11\\xd9h\\xd7/\\x9b\\x07\\x00\\xfe\\xc1\\xe1+\\xfe\\x9a\\xf6\\xabd\\xf9<\\x00\\x08\\x08\\x89`\\xbe\\x8aM.Yf\\x1cS\\xe3r3\\x16A;\\xfd\\xdf\\xad\\xc53\\x05~\\xcc2j:\\x0c\\xf4H\\x8a8\\x8d\\x18\\x04\\x00\\xd3\\x97\\xad\\xb7\\xee5r\\xc9\\x86\\x9d\\xb7\\xfd\\x02u\\xb45\\xe9\\xe7\\xb9U\\xc9\\xb1\\xb4\\xf9\\xa9\\xb5\\x85\\x19\\x00$~\\xfd\\xce\\xdc\\x0e-\\x1b-m!\\xe5\\xff\\xf9i\\xf5Z\\xc0\\xef$J\\x0c\\xd8\\xe7\\x92e\\xc015.\\xc7\\xb1\\x08\\xda\\x9b\\x0f\\x89\\xb9\\x05E\\xc3\\xfa\\xf7\\xe2\\\\\\x15\\t\\x1b.\\xdd )rz\\xff\\xd6\\x91\\x03\\x1do>\\x0c\\x08y\\xf9\\xea\\xd2\\xcd\\xfb\\x97n\\xde752\\xb8}\\xd6\\xabS\\xbb\\xd6\\x00PTR\\xeau\\xfa\\xf2\\x83\\'\\xcf\\xd33s\\xca*~\\xa5\\xd2.(,fn\\x87\\x96\\x8dVVV\\x96e\\t\\xcb\\xd3k\\xd9\\xe7\\x92e\\xc015.\\xfb\\xb1\\xb0\\xc4\\xdf5\\xfaS\\xff\\xddZ0}\\x02\\xed;\\x80D\\x19\\x06z$Eddd\\x9c\\x86\\x0ft\\x1a>\\x90B\\xa1D\\xc6\\xc6\\xed;~>04r\\xd1?\\xdb\\xa3\\xfd\\xae\\x01\\xc0\\x8c\\xe5\\xeb\\x9f\\x85GovY\\xb4l\\xee4mMu\\xe0.2r\\x8f}.Y\\x06\\x1cS\\xe3\\xb2\\x1f\\x0bK|\\x9c\\xef\\x17\\x16\\x97<|\\xf2<\\xfe\\xf9=~5\\x88\\x04\\n\\xff\\x1a#)\\xa2h\\xd95=+\\x1b\\x00dee{w\\xef\\xe2}|\\x1f\\x00$}M&\\x9e\\x8d\\x8c\\x8d\\x03\\x00\\x97\\x85\\xb3\\x88(_]S\\xc3\\xdfW\\xe7\\x98K\\x96\\x1e\\xc7\\xd4\\xb8\\xec\\xc7\"hW|\\x1e\\x8e\\x18\\xd8GW\\xbb\\xc1?TH\\xa4`\\xa0G\\xd2e\\xc9\\xfa\\x9d\\x1f?\\x7f\\xab\\xae\\xa9\\xc9\\xc9+\\xf0<u\\t\\x00h\\x9bjzw\\xef\\x02\\x00\\x07N^(*)-(*\\xd9z\\xe0\\x04\\x7f_\\x9ac.Yz\\xdc\\xa4\\xc6e3\\x16\\x81\\xa2R\\xa9g\\xbco/\\x9e9\\xa9\\x19^\\x0b\\xf1\\x05\\xa6\\x12\\x94R\\xd2\\x99J0\\xf2u\\xdc\\xf9\\x1bw\\xc3\\xa2\\xdfdd\\xe5(+)\\x9a\\x9b\\x18M\\x1c5d\\xe5\\xbc\\xe9\\xcaJ\\x8a\\x00\\x90\\x9b_\\xb0~\\xf7\\xe1\\xc0\\xd0\\xc8\\xe2\\x92R\\x1bK\\xb3\\x8d\\xab\\x16\\xce\\\\\\xb1\\x81\\xb8\\xb0\\xa1\\xdc\\xb3\\\\\\xe6\\xa7\\xe5\\x98K\\x96\\xe5U\\xecS\\xe3\\xb2\\x1f\\x8b@\\x05\\x86Fn\\xdaw4\\xe6\\xf1uA\\xbf\\x90(\\x13\\xafT\\x82\\x18\\xe8\\xa5\\x94t\\x06za\\xe1>\\x97,\\x12\\x17\\xe2\\x15\\xe8q\\xe9\\x06!\\x84$\\x1c\\x06z\\x84\\x10\\x92p\\x18\\xe8\\x11\\x12,.s\\xc9\"$8\\xb8\\x8f\\x1e!\\xc1\\xc2\\xa5y$t8\\xa3G\\x08!\\t\\x87\\x81\\x1e\\xa1\\x06)Zv%\\xfe\\t\\xbb#\\\\\\xa1\\xf5V\\xd1\\xb2\\xeb\\x86=\\x87\\x98+\\xbcz\\x17\\xafb\\xdd\\x9d\\x87\\xe1|H\\xfa\\xb2q\\xcf\\xe1\\xceC\\x9c5Z;\\x98t\\x1d<h\\xf2\\x82{\\xfe\\xcf\\x18\\xeal\\xde\\x7f\\x8c\\xbe\\x03<\\x8e\\x01\\t\\x06\\x06z\\x84\\x1a$\\x8e\\xab.U\\xc9\\xb1U\\xc9\\xb1\\xfb\\xdc\\\\\\x19\\xca+\\xab\\xaa\\xe7\\xaf\\xd9Z_O\\xe1\\xa1\\xcd\\xee#\\xa6F\\xbd}\\x7f\\xe5\\xe8\\x9e\\xac\\xb8\\x90\\'\\xd7O\\xd7S(\\xd3\\x96\\xad;t\\xf6?\\xfa:\\xbb\\xd6\\xaf$^\\x9a\\xf7\\xae#\\x81\\xc1@\\x8f\\x90T\\xd8\\xe2q\\xcc\\xaeC[\\x9e/?{`[\\xc7\\xb6\\xad\\x94\\x14\\x15l[\\xb5<\\xb9g\\x13\\x00\\x1c\\xbb\\xd0\\xe0\\xa1:H\\xd4\\xe0\\xcdX\\x84$_Xt\\xec=\\xff\\xe0\\xd7\\x017n<\\x08\\xe0\\xe1r\\x86y\\xba\\x85\\xa91\\x00\\x94\\x96\\x96\\xf1\\xa7sH\\xf0pF\\x8f\\x90\\x84+\\xab\\xa8X\\xf8\\xcf\\xf6\\x93{75t\\x10fc\\xbd\\x8dO\\x04\\x80\\xbe=\\xbb\\xf1\\xa55\\xd4\\x0cpF\\x8f$\\x13\\xfd\\xfd\\xc0\\x05\\xd3\\'\\x1e\\xdf\\xed\\x06\\x00\\xe9Y\\xd9-\\x1dF\\x12\\x85\\xc4,\\x95}\\x92X6\\xcd2\\x9cc\\x03\\x7fN{\\xd9\\xa7{\\xe5\\xd8\\xe1\\x86\\xf0\\xb6\\x02\\xben\\xa7\\xd7\\xc0\\xde\\xf6\\xf49LxV\\\\Z\\x16\\xfd\\xe6\\xbd\\xab\\xbbG\\x97\\xf6m\\x8e\\xec\\xdc\\xd0\\xf4\\x06Q\\xf3\\xc0@\\x8f$SUr\\xec\\xb4e\\xeb\\xee\\xf9?\\xfbg\\xe9\\xdc\\x9d\\xebV\\x12\\x85\\xc6\\x06\\xfa\\xeek\\x96~KI=wp;Q\\xc2>I,\\xcbf\\x19\"2s\\t\\xc7t\\xaf\\r\\xb5\\xcc\\xfbh\\x1b\\xf6\\xf4\\xc5\\xcb\\xe0\\x88\\x98\\xd7\\x017\\x9a\\xde\\xd4\\x81\\x7f/m\\xf18\\x06\\x00N\\xc3\\x07nq]bb\\xa8\\xdf\\xf46Q\\xf3\\xc0\\xa5\\x1b$\\xb1\\xd6,\\x99\\x03\\x00g\\xbco\\x97\\x94\\x95\\x13%\\x95U\\xd5\\xff^\\xbe\\xb9f\\xf1\\x1c\\xfaj\\xdc$\\x89m\\x14\\x8e\\xe9^\\x9bMQI\\xe9\\xb2\\x8d\\xbb\\xce\\x1epWUVnzk\\xff,\\x9d[\\xf29*\\xfe\\xf9\\xbd\\xf6ml\\xfa\\x8c\\x9b\\xb5\\xf0\\x9fm\\x95U\\xd5Mo\\x165\\x03\\x0c\\xf4Hbu\\xebh\\xdb\\xbfW\\xf7\\xe2\\xd2\\xb23\\xde>D\\xc9\\x15\\x9f\\x87\\xf6\\x9d;\\xb4\\xb5\\xb1\\xa2\\xd5\\xe12Il\\xa3pL\\xf7\\xdal\\\\\\xdd\\xf7\\x8f\\x1f1\\xc8\\xb1\\x07\\xdfv\\xb5\\xcb\\x93\\xc9\\xd6\\x16f\\x9b]\\x16\\xed\\\\\\xb7\\xf2\\xbf\\xdb\\xbe,w\\xeb#\\x11\\x84K7H\\x92\\xad]27\\xe4\\xe5\\xabc\\x17\\xae\\xad\\x9c7\\x9d$G:|\\xee\\xbfK\\x87v\\xd1\\x9e\\xe5>Il\\xa3pL\\xf7\\xca\\x92 \\xd6\\xe8\\xaf\\xdf\\xf7\\x07V\\xfb Y\\xdeWh\\x94\\t#\\x06\\xad\\xddq\\xd0\\xc7\\xf7\\xc9\\x91\\x1d\\xb8R/\\x060\\xd0#I6\\xd8\\xb1gg\\xdb\\xd6\\xef\\x12>y\\xdfy\\xa4\\xa6\\xaab\\xa4\\xaf\\xd7\\xc3\\xae#\\xedY\\xde\\x92\\xc4\\xca\\xc8\\xc8P\\xa9\\xd4\\xda\\xba:2\\x89\\x04\\x00\\xc5L\\xbb\\x0c9\\xa6{eI\\x10k\\xf4\\xccm\\xf2\\xebd|%%E\\x00\\xc0\\xa5\\x1bq\\x81K7H\\xc2\\xadY2\\x17\\x00\\xbcN_\\xf1<u\\xf9\\x9f\\xa5\\x7f\\xd1?\\xc5[\\x92Xb\\xf3LVN\\x1e\\xf10.\\xe1\\x13C\\x05\\x8e\\xe9^\\xc5\\x8e\\xa2e\\xd7O\\xdfR\\xe8K\\x02C#\\x01\\xc0\\xaeC;\\xe1t\\x085\\x12\\x06z$\\xe1&\\x8c\\x18len\\xf2\\xedGj}}\\xfd\\xf0\\x01\\x7fl1\\xe4-I\\xec\\xa0>=\\x01\\xc0\\xeb\\xf4\\x95\\xe2\\xd2\\xb2O\\xdfR.\\xde\\xbc\\xcfP\\x81\\x9bt\\xaf\\xa2\\xa3\\xb6\\xaeN\\xd1\\xb2\\xab\\xb1\\xdd \\xf6\\xd5\\xe6\\xb8\\xb8\\x85E\\xc7\\x96\\x96W\\x14\\x14\\x95\\xdc\\xf2}\\xf2\\xb7\\xfb~%E\\x85\\xbd\\x1b]\\x9a\\xa7\\x93\\xa8\\x890\\xd0#\\t\\'\\'\\'\\xeb\\xbap\\x16\\xfc\\x9e\\xda\\xd3\\xbb\\xe0\\xb5c\\xfa\\xf8Q\\x17o>0\\xeb6d\\xc8\\x94\\x05\\xdd;\\xb7\\'\\xca\\x99O\\x90\\xa7_\\xd2\\xf1\\xd8\\xec:u\\xdcp\\x9fGO\\xadz\\x0ew\\xdb{d\\xe7\\xba\\x15\\x0cu\\xb4\\xb54\\xc2\\xee_\\x9e2v\\xb8\\xdb\\xde\\xa3\\xe6\\xf6Cm\\xfb\\x8f;\\x7f\\xed\\xee\\x95#\\xbb\\xf9xS\\x94\\x07\\xf4g\\x8d\\xd1\\x7f\\x9d\\x9a\\x9e\\x05\\x00\\x1d\\xdb\\xb5bsm\\xe8\\xddK\\xdd:\\xb5_\\xb1i\\x8fi\\xd7A\\x16\\xf6C7\\xef?6r\\xa0c\\xa4\\xefUZ\\x02[$\\xe20g\\xac\\x94\\xc2\\x9c\\xb1\\x92\\x87\\xb7\\xf5\\xf7}\\xc7\\xcfo\\xf3<y\\xf5\\xc4\\xfe\\x89#\\x07\\x0b\\xb1\\x1bb\\x07s\\xc6\"\\x84\\xc4C\\xc4\\xab\\xb7\\xfb\\x8e\\x9f\\x9b2v8\\xbf\\xa2<\\x12M\\x18\\xe8\\x11\\x92(l\\xce\\xa3gv\\xe9\\xd6\\x83%\\xb3\\'\\x9f=\\xb8\\xad\\xe9\\xafK;\\x8f\\xbe\\xe9M!\\xbe\\xc3\\xa5\\x1b)\\x85K7\\x085\\x05.\\xdd \\x84\\x10\\x12!\\x18\\xe8\\x11BH\\xc2a\\xa0G\\x08!\\t\\x87\\x81\\x1e!\\x84$\\x1c\\x06z\\x84\\x10\\x92p\\xb8\\xebFJ\\xc9\\xc8\\xc8\\xd8w\\xe9`\\x8a\\xb9#\\xb8VSS+/O\\x16v/\\x04H\\xe2\\x07\\xc8_\\xa9\\x99\\xd91o?\\x88K\\xfc\\xc4\\xd3+\\xa5\\x94\\xab\\xabkZ\\x1a\\xbbSs\\x11\\xbd\\xea\\xea\\xea\\xe0\\x17\\xcfllllll\\x84\\xdd\\x17\\x81\\xf8\\xf2\\xe5\\xcb\\x97/_\\x06\\r\\x1a\\xa4\\xa0\\xa0 \\xec\\xbe\\x88\\x07sk\\xad\\xde\\xfd\\xc5\\xe6Sf8\\xa3G\\x88\\x83\\xda\\xda\\xdaa\\xc3\\x86%\\'\\'GGG\\xeb\\xe9\\xe9\\t\\xbb;\\x02\\x91\\x9f\\x9f\\xdf\\xb3gO\\x03\\x03\\x83\\xa0\\xa0 \\x8c\\xf5\\x92\\x07\\xd7\\xe8\\x11\\xe2`\\xc5\\x8a\\x15\\xaf_\\xbf~\\xf8\\xf0\\xa1\\xa4Fy\\x00\\xd0\\xd1\\xd1y\\xf8\\xf0\\xe1\\x87\\x0f\\x1f\\x16/^,\\xec\\xbe \\xfe\\xc3@\\x8f\\x10;\\x9e\\x9e\\x9e\\xe7\\xce\\x9d\\xbbz\\xf5j\\x87\\x0e\\x12~Rc\\xdb\\xb6mo\\xdc\\xb8\\xe1\\xed\\xed\\xed\\xe5\\xe5%\\xec\\xbe >\\x93\\xdb\\xb6m\\x9b\\xb0\\xfb\\x80\\x90\\x88\\n\\x08\\x08\\x987o\\xde\\x81\\x03\\x07\\xe6\\xce\\x9d+\\xec\\xbe4\\x07kkk\\x15\\x15\\x95u\\xeb\\xd6\\xd9\\xd9\\xd9\\xb5n\\xddZ\\xd8\\xddA|\\x83k\\xf4\\xa8\\x99\\xc8\\xc8\\xc8p\\xac#R\\xbf\\x8d\\x89\\x89\\x89\\x0e\\x0e\\x0eNNN\\x97.]\\x12v_\\x9a\\xd5\\xe2\\xc5\\x8b\\xaf_\\xbf\\x1e\\x11\\x11!\\xf1ob\\xa4\\x07\\x06z\\xd4L\\x88T\\xab\\xf4\\x0f\\xe1\\xcf\\xc8\\xcePA\\xb8\\xa4\\xf9\\xe6\\xa44\\xdc|\\x966\"\\xf4_\\x0bI61\\n\\xf4\\x18\\xe9\\xa4\\xf9\\xef\\x9cD\\xc2\\x9b\\xb1\\xa8\\x99p\\x0c\\xe2\"\\x12\\xe5A:\\xb6\\xd9\\xb0\\x87\\x9bp$\\x0c\\x06z\\x84\\xfe =\\xdbl\\xd8\\xc3M8\\x92\\x04\\x03=\\x12-2\\xbf}\\xfb\\xf6m\\xc2\\x84\\tZZZ\\xc4C\\xfa\\xa7\\x98+\\xd3\\xb7\\x90\\x93\\x93\\xb3t\\xe9R\\x13\\x13\\x13yyycc\\xe3E\\x8b\\x16eeeq\\xf9\\xea\\x01\\x01\\x01\\xeb\\xd7\\xaf?p\\xe0\\xc0\\x981c\\xf88(15|\\xf8\\xf0\\xfd\\xfb\\xf7\\xff\\xf3\\xcf?\\xbe\\xbe\\xbe\\xc2\\xee\\x0bj\\x1a*B\\xc2\\xc0\\xe6\\xd7\\x8fxj\\xc8\\x90!\\x11\\x11\\x11\\x15\\x15\\x15\\x8f\\x1f?\\xa6\\xd5d\\xbe\\x8a\\xa1$++\\xcb\\xdc\\xdc\\\\__\\xff\\xc9\\x93\\'\\xa5\\xa5\\xa5\\xa1\\xa1\\xa1\\xe6\\xe6\\xe6\\x96\\x96\\x96\\x85\\x85\\x85\\x1c\\xbb\\xf4\\xf1\\xe3G\\r\\r\\x8d9s\\xe6\\xf0>*I\\xb4h\\xd1\"55\\xb5\\xf7\\xef\\xdf\\x0b\\xbb#\\x88w\\x18\\xe8\\x91pp\\x0c\\xf4\\xcf\\x9f?\\xe7\\xe6*\\x86\\x12bM\\xf9\\xfc\\xf9\\xf3\\xb4\\x92\\xbbw\\xef\\x02\\x80\\x9b\\x9b\\x1b\\xfb\\xfe\\xe4\\xe5\\xe5Y[[\\xf7\\xe9\\xd3\\xa7\\xaa\\xaa\\x8a\\xfbQH\\x83\\x9a\\x9a\\x9a\\x01\\x03\\x06XXXdgg\\x0b\\xbb/\\x88G\\xa2\\xb2\\xcf\\x01I\\x1b\\xe6]7\\x0cO\\x95\\x97\\x97+++s\\xbc\\x8a\\xa1\\xc4\\xd8\\xd88#####\\xc3\\xd0\\xd0\\x90(\\xc9\\xcf\\xcf\\xd7\\xd5\\xd5\\xed\\xd0\\xa1\\xc3\\xfb\\xf7\\xef\\x1b\\xea\\x0cn\\xb3a\\x8f\\xd8\\x84\\xa3\\xaf\\xaf\\xff\\xec\\xd93\\xdc\\x84#\\x8e0\\xd0#\\xe1\\xe0\\x18\\xe8\\xb9|\\x8a\\xa1\\x84L&\\xd7\\xd5\\xd51_\\xa8\\xac\\xac\\\\^^\\xdePg\\xf0#B\\x1cI\\xed\\xc7\\xc7$\\x03\\xde\\x8cE\\xe2\\x84\\x08\\xeb\\xb5\\xb5\\xb5\\xc4\\xc3\\xe2\\xe2b\\x86\\n\\xfa\\xfa\\xfa\\x00PPP\\xc0\\xf0\\xd6\\x95M\\x94\\xc7m6\\xdch\\xdb\\xb6\\xed\\xcd\\x9b7\\xbd\\xbd\\xbd===\\x85\\xdd\\x17\\xd4h\\x18\\xe8\\x918100\\x00\\x80\\xcc\\xccL\\xe2\\xe1\\xdb\\xb7o\\x19*899\\x01@HH\\x08}aXXX\\xcf\\x9e=Y6\\x88\\xdbl\\xb87l\\xd8\\xb0\\xfd\\xfb\\xf7\\xaf[\\xb7\\x8e\\xcbM82\\\\\\xe0\\xbe\\x91&w_\\xba5\\xe7\\r\\x01\\x84h\\xd8\\xfc\\xfa\\xb1yj\\xf6\\xec\\xd9\\x00\\xb0b\\xc5\\x8a\\xa2\\xa2\\xa2\\xc4\\xc4\\xc4\\x993g2T\\xce\\xcb\\xcb\\xb3\\xb1\\xb1144\\xf4\\xf1\\xf1\\xc9\\xcb\\xcb+))\\xf1\\xf5\\xf5\\xb5\\xb4\\xb4\\x0c\\t\\tan\\r\\xb7\\xd9\\xf0\\xa0\\xb1\\x9bp\\xd8\\xff\\xa0\\x9b\\xd8\\x02\\xe2\\x12\\xae\\xd1\\xa3\\xe6\\xc6<;\\xa32\\xad\\xb9\\xb3|\\n\\x00\\xf2\\xf2\\xf2\\\\\\\\\\\\\\x02\\x03\\x03+**\\x06\\x0e\\x1cx\\xe2\\xc4\\t333\\x86\\x9a\\x85\\x85\\x85\\xbbv\\xed\\xbaw\\xef^ZZ\\x9a\\xb6\\xb6\\xb6\\xbd\\xbd\\xbd\\x9b\\x9b\\x1b\\xf3\\x8c\\x1e?\\xe5\\xcf\\x9b\\xc6\\xde\\xb8f\\x7f\\xc7\\x85\\x9b\\xf8\\xc3\\xa6\\x05\\xc4%\\x0c\\xf4H\\x1a\\xe16\\x9b\\xa6h\\xd4&\\x9c\\xa6\\x87i\\x0c\\xf4M\\x87k\\xf4H\\x1a\\xe1i6MA\\x9c\\x84\\x13\\x1f\\x1f\\xcf\\xf3I8\\xb8\\xe6\\xde\\xcc0\\xd0#\\xa9\\x83\\xdbl\\x9a\\x8e\\x8f\\x9bp\\x82\\x82\\x82\\xc6\\x8e\\x1d\\xab\\xa5\\xa5\\xa5\\xa8\\xa8hggw\\xe3\\xc6\\r\\xf6\\xf5\\x8b\\x8b\\x8b]]]\\xad\\xac\\xac\\x14\\x15\\x15uttz\\xf5\\xea\\xb5v\\xed\\xda\\x98\\x98\\x18Z\\x85\\xa6\\x9c\\x81!\\xb1\\x84us\\x00!\\xa1\\xf0\\xf7\\xf7\\x97\\x93\\x93\\xf3\\xf4\\xf4\\x14vG$\\xc1\\xc1\\x83\\x07eee\\x1f>|\\xc8\\xa6\\x0e\\xc7\\xc8\\x03\\x00NNN\\xb9\\xb9\\xb9?~\\xfc\\x182d\\x08\\x00\\x04\\x04\\x040\\xb7@{8n\\xdc8\\x008|\\xf8pYYYuuuRR\\xd2\\xf8\\xf1\\xe3i\\x15\\x9ar\\x06\\x86\\x04\\xc3@\\x8f\\xa4\\x08n\\xb3\\xe1;\\x8e\\x9bpXN(\\x19\\x02}rr2\\xf1ubb\"\\x008::\\xb2iA]]\\x1d\\x00|||h%\\xe9\\xe9\\xe9\\xb4\\n<\\x9f\\x81!\\xd9\\xf0f,\\x92\\x16\\xb8\\xcdF\\x108\\xde\\xd6fy+\\xb5\\xa1\\xfd6\\xf5\\xf5\\xf5$\\x12IGG\\'//\\xaf\\xa1\\x16\\xe6\\xcd\\x9bw\\xf1\\xe2E\\x00055\\x1d:t\\xe8\\xd0\\xa1C\\x9d\\x9c\\x9c\\xe4\\xe5\\xe5\\x89gy;\\x03C\\xe2a\\xa0GR\\x01\\xb7\\xd9\\x08\\x0e\\xfbM8\\xec\\xf7\\xcc\\x14\\x15\\x15yxx\\x10{a\\xcb\\xca\\xcah\\xe5\\xd4\\x86O\\xb9\\xa0R\\xa9\\xf7\\xee\\xdd\\xbbv\\xedZpppaa!\\x00\\x98\\x99\\x99=x\\xf0\\xa0s\\xe7\\xce\\xc0\\xeb\\x19\\x18\\x92Oh\\xef%\\x10jFx\\xd6\\xae@\\xb1Y\\x13c\\x1fg\\x88Eyww\\xf7\\xfc\\xfc\\xfc\\x86\\xea7\\xd4B}}}hh\\xe8\\xb0a\\xc3\\x00\\xa0s\\xe7\\xceD\\xa1\\xb1\\xb11\\xb0:\\x03C\\xcaa\\xa0G\\x92\\x8f\\x9b{\\x86\\xa8\\x89\\x02\\x02\\x02\\xe4\\xe4\\xe4\\x0e\\x1e<\\xc8P\\xce>\\xd0\\x13\\x07\\x94\\x96\\x94\\x94\\x10\\x0f\\xab\\xaa\\xaa8\\x06z\\x00HMM\\xa5=,**\\x02\\x00\\x05\\x05\\x05\\xe2\\xe1\\xf2\\xe5\\xcb\\x01\\xe0\\xee\\xdd\\xbb\\xf4-\\x84\\x86\\x86\\xf6\\xe8\\xd1\\x83\\xa7aI\\x08\\x0c\\xf4H\\xc2\\xe16\\x9bf\\xc3\\xf2\\x0f*\\xfb@O\\xcc\\xc77n\\xdcXXX\\x98\\x9f\\x9f\\xbfz\\xf5jn\\x02\\xfd\\xb0a\\xc3\\xe2\\xe3\\xe3\\xab\\xaa\\xaa\\xb2\\xb2\\xb26n\\xdc\\x08\\x00c\\xc7\\x8e%\\x9em\\xd4\\x19\\x18\\xd2\\x03\\x03=\\x92d\\xb8\\xcd\\xa6\\x99\\xd1/\\x91q\\xb3P\\x9c\\x9d\\x9d=k\\xd6,===yy\\xf9\\xf6\\xed\\xdb\\xdf\\xbcy\\x93\\xa12\\xf3\\xe5\\xe1\\xe1\\xe1s\\xe6\\xcc\\xb1\\xb0\\xb0 \\x93\\xc9\\x1a\\x1a\\x1a\\x9d:u\\xda\\xbd{wyy9\\xad\\xcd\\x82\\x82\\x82\\xd5\\xabW[ZZ\\x92\\xc9d}}\\xfd1c\\xc6DFF\\n~\\xe8\"\\ro\\xc6\"\\x89\\x85\\xdbl\\x9a\\x1f\\xde\\xf4\\x16M\\x18\\xe8\\x91d\\xc2\\x88#,\\x98\\x8eJ\\x04\\xe1\\x11\\x08H2\\xe1i6\\xc2\\xd2\\xf4\\x93p\\x10\\xdfa\\xa0Gb\\xef\\xdd\\xbbw\\x0c[\\xa7\\xf14\\x1b\\xe1\\xc2tT\\xa2\\x06\\x03=\\x12o_\\xbe|\\xb1\\xb3\\xb3\\x1b4hPAA\\x01Q\\x82I\\xa3DAc\\x12\\xf5\\xf5\\x95\\x00\\x00 \\x00IDAT\\xd3Q!\\x81\\xc25z$\\xde6o\\xde\\xbc\\x7f\\xff~\\x00066&\\x0e\\xc3\\xc2\\x1c\\xd6\\xa2\\x03\\xb3\\xae\\x8b\\x08\\x0c\\xf4H\\x8cQ(\\x14\\x13\\x13\\x13\"\\x85,\\x89D\\x92\\x97\\x97755\\xd5\\xd3\\xd3\\x0b\\n\\n\\xa2\\x1d~\\x82\\x84\\x08o\\x89\\x8b\\x08\\\\\\xbaAb\\xec\\xd9\\xb3g\\xb4D\\xe1uuu\\x95\\x95\\x95_\\xbe|\\xe9\\xdf\\xbf?Fy\\x11A&\\x93}||H$\\xd2\\x84\\t\\x13\\xaa\\xab\\xab\\x85\\xdd\\x1d\\xe9\\x85\\x81\\x1e\\x89\\xb1K\\x97.\\x91\\xc9d\\xdaC*\\x95J\\xa1Pv\\xed\\xda\\xb5`\\xc1\\x82\\xda\\xdaZ!v\\x0c\\xd1\\xe0&\\x1cQ\\x80K7H\\\\\\x95\\x94\\x94\\xe8\\xe9\\xe9\\xb1\\x9c\\'\\xca\\xc9\\xc9\\xf5\\xee\\xdd\\xfb\\xfe\\xfd\\xfbZZZ\\xcd\\xdf1\\xc4\\xec\\xc9\\x93\\'\\xa3F\\x8d\\xda\\xbf\\x7f\\xff\\x9a5k\\x84\\xdd\\x17i\\x843z$\\xae|||X\\x1eH\\x0b\\x00T*544400\\xb0\\x99\\xbb\\x84\\x1a\\x82\\x9bp\\x84\\x0bg\\xf4H\\\\988\\xc4\\xc4\\xc4P(\\x14\\x86r999##\\xa3\\x7f\\xff\\xfdw\\xd4\\xa8QB\\xe9\\x18j\\x08n\\xc2\\x11\\x16\\x0c\\xf4H,}\\xfd\\xfa\\xb5U\\xabV\\x0c\\xbf\\xbdd2YFFf\\xe3\\xc6\\x8d\\x1b6lPTT\\x14V\\xdfPCp\\x13\\x8e\\xb0\\xe0\\xd2\\r\\x12K\\x97/_&\\x91H\\xb4\\x87\\xb2\\xb2\\xb2\\x000h\\xd0\\xa0\\xa4\\xa4\\xa4m\\xdb\\xb6a\\x94\\x17M\\xb8\\tGX0\\xd0#\\xf1C\\xa5R/^\\xbcH\\xdbW#\\'\\'gbb\\xe2\\xe7\\xe7\\xe7\\xef\\xefoii)\\xdc\\xbe!\\xf6Xn\\xc2)//\\x9f:u\\xaa\\x8b\\x8b\\x8b\\x10;&\\xd9p\\xe9\\x06\\x89\\x9fg\\xcf\\x9e\\r\\x1e<\\x18p\\xadFl\\xd1o\\xc2IMM\\x1d9rdBB\\x02\\x99L\\xce\\xc9\\xc9\\xd1\\xd0\\xd0\\x10v\\xef$\\x90\\xdc\\xb6m\\xdb\\x84\\xdd\\x07\\x84\\x1a\\xc7\\xdd\\xdd\\xfd\\xfd\\xfb\\xf7\\x000z\\xf4\\xe8\\xc7\\x8f\\x1f;99\\xd1/\\xe3 \\xd1gmm\\xad\\xaa\\xaa\\xba~\\xfdz\\r\\r\\x8d\\x193f\\xa4\\xa7\\xa7\\xd7\\xd7\\xd7\\x03\\x80\\xa5\\xa5e\\xd7\\xae]\\x85\\xdd;\\t$Q3\\xfa\\x94\\x94\\x94\\x8d\\x1b7\\x12\\xbf1H\\x82\\xdd\\xbf\\x7f_^^\\xde\\xce\\xce\\xce\\xc0\\xc0@\\xd8}\\x11\\xb2I\\x93&M\\x9a4I\\xd8\\xbd\\xe0\\xd1\\xacY\\xb3n\\xdd\\xbaU__O\\xfc\\x9f\\x95\\x95\\x95\\xed\\xd6\\xad[tt\\xb4\\xb0\\xfb%\\x81$j\\x1e\\x14\\x13\\x13s\\xe3\\xc6\\x8dq\\xf6-\\x85\\xdd\\x11$X\\x8em\\x0cT\\x14\\xc9\\xb2\\xd5\\x195?2\\x84\\xdd\\x17az\\xf55\\x1b\\x00\\xc41\\xd0S\\xa9\\xd4m\\xdb\\xb6]\\xbdz\\x95\\xf8\\x9a(\\xa4P(111IIIm\\xda\\xb4\\x11j\\xef$\\x90D\\x05z\\xc2\\xf9\\xe5\\xc3\\x84\\xdd\\x05\\x84\\x9a\\xc3\\xfc\\x13O\\x84\\xdd\\x05^\\x94\\x97\\x97\\xcf\\x9c9\\x93\\xc8!\\xce\\xf0\\x94\\xbc\\xbc\\xbc\\xb7\\xb7\\xf7\\xae]\\xbb\\x84\\xd21\\t\\x86\\xbbn\\x10B\\xcdj\\xe6\\xcc\\x99\\xf7\\xef\\xdfg\\xfe\\xa4\\x1b\\x00\\xd4\\xd4\\xd4\\x9c?\\x7f\\x9e\\xe5S\\xa8)0\\xd0#\\x84\\x9a\\x95\\x8b\\x8b\\x8b\\x85\\x85\\x85\\x9c\\x9c\\x1c\\xcbg\\xb3\\xb2\\xb2\\x82\\x83\\x83\\x9b\\xb9K\\x12\\x0f\\x03=B\\xa8Y\\xf5\\xef\\xdf\\xff\\xf3\\xe7\\xcf\\x9e\\x9e\\x9e\\x8a\\x8a\\x8a\\xf4\\x87\\x8f\\x12\\xc8d\\xf2\\xc5\\x8b\\x17\\x85\\xd21\\t\\x86\\x81\\x1e!\\xd4\\xdc\\xc8d\\xb2\\x8b\\x8b\\xcb\\xd7\\xaf_\\'O\\x9e\\x0c\\x00\\xf4\\xb3\\xfb\\xda\\xda\\xda\\xdb\\xb7o\\x17\\x15\\x15\\t\\xafw\\x12H\\x02o\\xc6r\\xa4;\\xe7$CI\\xde\\xe5e\\x02}!\\x01\\xb5/\\n\\xa4a\\x8c\\xdc\\x0b\\x89O=\\xe4\\xfb&.%\\x07\\x00:[\\xea\\xb9\\x8e\\xe9\\xda\\xcf\\xd6\\x84\\xfd%\\xcc\\xbf\\x8d 5\\xdfLcccoo\\xef\\xf9\\xf3\\xe7/^\\xbc\\xf8\\xfb\\xf7\\xef\\xb4\\x8d\\xd1\\xf5\\xf5\\xf5w\\xee\\xdc\\x99?\\x7f\\xbep\\xbb\\'I\\xa4qF\\x9fwy\\x19\\xed?\\x12\\xfd\\xd7\\x82x!\\x01\\xb5,:x\\x18\\xe3\\xe8\\xdd\\xf7F\\xef\\xbe\\'\\x88\\xce\\x08\\xd7\\x8d\\xf0O\\xce\\x07|\\xdb\\x99j\\xc7\\x1e\\x9c\\x15{pV[\\x13m\\xe7\\x03\\x0f}^~\\x16v\\xbfD\\xdd\\x80\\x01\\x03\\x12\\x12\\x12<==\\x95\\x95\\x95\\x89\\x95\\x1c*\\x95z\\xee\\xdc9a\\xf7K\\xa2H\\xe3\\x8c\\x1e\\t\\x17E\\x82>\\xa3G\\x93]T\\xb1\\xeeJhwk\\x83=3\\x1ced\\x00\\x00\\xf6\\xccp|\\xfb=\\xe7\\x9f\\xcb/\\xfa\\xdb\\x9a\\xb4\\xd0Pfs\\xad4L\\x08\\xd8#Vr&L\\x98\\xe0\\xea\\xeaz\\xe7\\xce\\x1d*\\x95\\x1a\\x1d\\x1d\\xfd\\xf5\\xebWkkkawMB`\\xa0G\\xcd\\xed\\xf1\\xe6\\t\\xc2\\xed@Z~\\xd9\\xdd\\xa8/\\xb7_~\\x0e\\xdd=\\x85_mz\\x87~\\xac\\xa8\\xae\\x9d\\xde\\xb7\\r\\x11\\xe5\\x01@F\\x06f\\xf4m\\xebz1\\xe4jX\\xd2\\xdf\\xa3\\xed\\xf8\\xf5B\\x82\\xe0\\xe3\\xe3\\xe3\\xe3\\xe3#\\xec^\\x00\\x00\\xc8\\xca\\xca\\xf6\\xed\\xdb\\xf7\\xcd\\x9b7eee\\xe3\\xc6\\x8d\\xb3\\xb5\\xb5\\x15v\\x8f\\xc4\\x92\\x9c\\x9c\\xdc\\xde\\xbd{-,,h%\\x18\\xe8\\x91\\xb4(,\\xaf~\\x18\\xf3\\xd5\\'\\xf2s\\xf4\\xe7LY\\x19\\x19\\xc7v\\x1cV\\xcf\\x1b\\xe5EB\\x1a\\x00tm\\xa9O_h\\xd7R\\x1f\\x00\\x9e\\x7fH\\x15\\xfd@\\xff (\\\\\\xad\\xa5\\x88\\x1c2\\xa3\\xae\\xd0\\xba/5\\'%\\xb5F%;\\xb9R\\xd8\\x9d\\x11K\\xf9\\xaf\\x1f\\x8d\\x1f?\\x1e\\x03=\\xb7r\\x8a+\\xf6\\xdd\\x8d\\t\\x8c\\xfb\\x91WR\\xa9\\xab\\xae4\\xb4\\xb3\\xc5\\x86\\xf1\\xdd\\xe9\\xdf\\x86s\\xac@o\\x90\\xbbO\\\\J.\\xf1\\xf5\\xf8\\x1e\\xd6g\\x97\\r\\x05\\x80\\x92\\xca\\x1a\\x8f{\\xaf\\xfc\\xdf$g\\x16\\x96\\xab(\\x90\\xac\\r\\xb5\\xba\\xdb\\x188\\xd9[\\xdbYqN\\xcb@\\xbb\\x8f\\xf7\\xfa\\xc0\\x0c\\xf7\\x1b\\x91\\xe1\\x89\\xe9\\xc5\\x15\\xd5\\xf0{) \\xaf\\xa4r\\xdf\\xbd\\x98\\'oS\\xf2J*u\\xd4\\x94\\x86t6\\xdf8\\xc1^\\xefw\\xdfh\\xd7F\\xec\\x99\\xb6\\xe5zD\\xcc\\x97L\\n\\x15z\\xb51\\xda1\\xb5W+#-\\x86:\\xb4\\xb5\\x05nn\\xbd\\xb2\\x1f\\x11C\\x0b\\xf4\\xb7\"\\xe7\\x0c\\xb0\\xf5\\x9c\\xdb\\x0f\\x002\\n\\xca:\\xba^\\xa1\\xaf\\xc6~,\\xecU\\xd5\\xd4\\xf9\\xbfM\\xb9\\x1d\\xf99\\xf8\\xfd\\xcf\\xdazJ\\'\\x8b\\x16;\\xa7\\xf5\\x9e\\xd0\\xd3\\x86\\xe1r\\x967E\\x19\\xb0\\x19\\xf5\\xe7\\x8cB\\x000\\xd6V\\xa5/4\\xd1Q\\x05\\x80/\\x99\\x85\\xec\\x9b\\xdd};\\xfaN\\xe4\\xe7\\xac\\xa2r]u\\xe5\\xc1\\x1d\\xcd\\xd6\\x8f\\xb7\\xd7\\xd7\\xe4jh|\\xa4\\xd6\\xb2k\\xab\\xa5\\xa7\\x9b\\xf9E\\x91\\x80D\\xce7f(\\xc1@\\xdf\\xa0\\x9c\\xe2\\x8a!\\xdbn\\xd7S\\xa8\\xff.\\x1e\\xdc\\xc5J\\xef\\xcd\\xf7\\xec%\\xa7\\x82\\x82?\\xfc|\\xbau\"\\x11\\xca9V`p}\\xf5\\xa8\\x89\\x1e\\x0f\\x87t2\\xdf:\\xd9\\x81V\\xb8\\xfc\\xcc3\\xff7\\xc9\\xbbg\\xf4\\x99\\xd5\\xaf-IN\\xeegn\\xc9N\\x9f\\xa8\\xa1\\xdbos\\xb3n\\x9bwy\\x19\\x11\\x9e\\xd6^\\x0e]\\xe7\\xd4\\xfd\\xf4\\x92\\xc1\\xe1I\\x19S=\\x1f\\x01@nq\\xc5\\xd0\\x1dw\\xaaj\\xebO.\\x1adom\\xf0\\xe1G\\xde\\xd23A\\xa1\\ti\\xc1;&i(+\\xd0_\\xebz\\xf1\\xb9\\xfb\\x14\\x87\\xf6\\xa6\\xba\\xb1\\xdf\\xb3\\x97\\x9c\\n\\x1a\\xb9\\xebn\\xf0\\x8e\\xc9f\\xbaj\\xf4u\\x98_\\x91\\r\\xf6#bh!\\xef\\xf2\\xb2\\xbf\\x8e=\\xf1}\\xfd\\xcde\\xb4\\xdd\\x96I=\\x89B#m\\xd5\\x8d\\x13\\xed\\x93\\xb3\\x8b\\x8f/\\x1c\\xc4\\xcdXX\\xaa\\xa7P_$\\xa4\\xde\\x8e\\xfc\\xe2\\x17\\xfb\\xbd\\xbc\\xaa\\xd6\\xbc\\x85\\xfa\\xaaQv\\x93z\\xb5\\xb26\\xd4l\\xe8\\x9b\\xc9\\xf1\\x1b\\xceFIE5\\x00\\xa8(\\xfc\\xb1+\\x9cxXT\\xce.\\xc3\\x86\\xaa\"\\xd9BO=x\\xc7d*@\\xc0\\x9b\\xe4\\r\\xdea\\x81q?\\x02\\xb79\\x1bh\\xaa4\\xa5?\\x08\\xd1\\x93\\xc6]7\\\\\\xda{7&\\xbd\\xa0\\xcc}\\x8a\\x83c;cUEr\\xdfv&[\\';\\xa4\\xe6\\x95\\xee\\xbb\\xf7\\x8a\\xcb\\n\\xf4R\\xf3JG\\xed\\xbe7\\xd1\\xa1\\x15}\\x94\\x07\\x80\\xf0\\xc4t\\x000\\xd4RQV \\xcb\\x93d\\xad\\r5\\xf7\\xcfvllW]\\xc7\\xd8\\xd9\\xdb\\x18(\\xca\\x93\\x06w4#\\x02\\xd6\\xbe{\\xafR\\xf3J7;\\xf7\\x18\\xd0\\xdeTE\\x91\\xdc\\xb3\\xb5\\xe1\\xae\\xe9\\xbd\\x7f\\xe4\\x96\\x1c\\x7f\\xfc\\x8e\\xe1\\xda\\xd5c\\xbb\\xf5\\xb01T\\xf9\\xdd\\xff\\xa2\\xf2j\\x8f{1\\x8d\\xed@SF\\xb4jt\\x17\\x00\\xb8\\xf8,\\xbe\\xb4\\xb2\\x86(\\xa9\\xaa\\xa9;\\x17\\x14\\xbfr\\xe4\\xaf\\xe5\\x0e\\xee\\xc7B\\xcf\\xd6\\xe5\\xd2\\xe4\\x83\\x8f\\x9e\\xbd\\xff1\\xa5wk\\xff-\\x13b\\x0f\\xce\\xdc8\\xd1\\xbe\\xa1(/D)\\xa7\\x17\\xce\\xe8\\xdbVSEAKEa\\x9ac\\x9b\\r\\x13\\xec3\\x0b\\xcb\\xf7\\xddm\\xd2\\x8f\\x00!\\x06\\x18\\xe8\\x1b\\xf4\\xf4]\\n\\x008\\xb6\\xfb\\xff\\x9b bO4Q\\xceM\\x05\\x9a\\xaf\\x99E\\xa3w\\xdfk\\xa1\\xae\\xc4\\xbcV;\\xa6\\x9b\\x15\\x00\\xcc;\\xfe\\xa4\\x93\\xeb\\x95\\xbf/<\\xbf\\x1f\\xf3U[U\\xa9\\xb1\\xb3K;+}\\x86\\x92\\'oS\\x00`pGsZ\\x89Ck#Z9\\xbd\\xee\\xd6\\xff\\xbf\\x96\\xe8\\xff\\xf3\\xf8\\xd4F\\xbd:\\x83\\xc6\\x8e\\xa8\\x8b\\xa5\\x9ec;\\xe3\\x92\\xca\\x9a\\x8b\\xc1\\tD\\xc9\\xb5\\xb0\\xa4\\xaeVz\\xad\\x8d\\xb5\\x1a;\\x16fd99E\\xb2\\x9c\\x02\\x89\\xf5\\xa7\\xed\\xf9H]Y\\x01\\x00\\xca\\xabk\\xe9\\x0b\\x89\\x87\\x9a*\\r\\xbe\\xed`6\\xaa\\xab\\x15\\x00\\x04\\xc6\\xfd\\xe0k\\xef\\x90\\xb4\\xc3\\xa5\\x9b\\x06\\xe5\\x97V\\x01\\x80\\xb6\\xaa\\x12\\xadDGM\\x11\\x00\\xf2J*\\xb9\\xac@3n\\xdf\\xfd\\xd2\\xca\\xda\\xf4\\x82\\xb2;\\x91_&:\\xd8\\xd0?ud\\xfe\\xc0\\xa1\\x9d-\\xeeD~\\tKL\\xf3~\\x91\\xe8\\xfd\"\\xd1DG\\xd5\\xfb\\xef\\x91\\xed\\xcdt\\xb9\\xef\\xaa\\x92<\\xe3\\xcf1\\xaf\\xb4\\x12\\x00l].1\\x94\\'\\xe7\\x143\\x94\\xd0\\xaf~\\x10\\xfd\\'\\xc6\\xc53\\x1eF\\xb4j\\x94]\\xd8\\xc7\\xf4SO\\xe2\\x96\\x0c\\xeb(\\'+{\\xc2\\xff\\xdd\\xa9%\\x83y\\x18\\x0b\\xbd\\xf8\\xc3s^|L\\xbb\\xfd\\xf2\\xf3\\xe5\\x90\\x8f\\'\\x03\\xe2\\xac\\r5\\x9d\\x1dZ9;\\xd8X\\xe8\\xb1N`\\xd4\\xc45\\xfaVFZy%\\x95\\xe9\\x05e\\xf4\\xdf\\xcf\\xb4\\xfc2\\x00\\xb01\\xd4\\xe2\\xd82\\x8d\\xbe\\x862\\x00\\x144\\xedG\\x80\\x10\\x03\\x0c\\xf4\\r\\xd2US\\xca**/(\\xab\\xa4\\xad\\x96\\x12\\x11PW]\\x89\\xcb\\n4\\xfbf9\\x96U\\xd6\\xae<\\x17\\xbc\\xeeJ\\xa8CkC#\\xba[v220\\xba\\x9b\\xd5\\xe8nV\\x14*5\\xe6s\\x96\\x97ol\\xf0\\x87\\x9f+\\xce\\x06\\x87\\xec\\x9c\\xdc\\x94\\xce\\xb7PW\\xca,,\\xffzr>\\xc7\\xe9dAY\\x95\\xb6\\xaa\"}\\xff\\x89pO\\xeb\\x1e\\x95\\n\\xb5\\xf5\\x14\\xb2\\x9c,\\x00\\x94\\xfc^]a\\x83\\x87\\x11\\rho\\xda\\xc1\\\\\\xf7\\xc3\\x8f\\xbc\\x1b\\xe1\\x9f\\xd4\\x14\\xc9\\x86\\xda*\\xdd\\xad\\xff\\x9fQ\\x84\\xfb\\xb1\\xd0#\\xc9\\xc9\\x0e\\xea`6\\xa8\\x83YeM]\\xc0\\x9bd\\x9f\\xc8/\\x9e\\x0f^\\xef\\xbb\\x1b\\xd3\\xb5\\xa5\\xfeD\\x07\\x9b\\xf1\\xf6\\xd6\\x0c\\xf7Q\\x9a\\xb8F\\xdf\\xcf\\xd6\\xe4eRF\\xec\\xb7\\xecv&:\\xb4\\xc27\\xdf\\xb3\\x01`@\\x07S\\xee\\xdb\\xc9**\\x07V\\xbfBH|\\x15\\x7f\\x0cM{t\\xb4\\xfc\\xc7\\x07\\x00P\\xb5\\xe8h<j\\x95F;\\xce\\xcb\\xb3\\xbc]\\xd5\\x10\\\\\\xbaaD\\x9b\\xd9\\r\\xebb\\x01\\x00\\xa1\\ti\\xb4\\xa7\\x88-tD97\\x15h\\xc6tk9\\xcd\\xb1\\xcd\\xc8\\xae\\x96\\xc5\\x15\\xd5+\\xcf\\x05\\xd3\\x7f`Hw\\xce\\xc9\\x8c\\x822\\x00\\x90\\x95\\x91\\xe9\\xd9\\xda\\xf0\\xdc\\xf2\\xa1\\xf0{\\x0bGS\\x8c\\xecj\\t\\x00\\x11I\\xe9\\xf4\\x85Q\\x9f2\\x87\\xed\\xb8\\xc3P3\\xe6K\\x16C\\xff\\x07\\xb4\\xff\\x7f`\"\\xb6\\xa6d\\x17U\\x10\\x0f?\\xfc\\xc8\\xe5\\xf8\\xd2\\xbc\\x8dh\\xd5(;\\x008\\xf6\\xf8\\xed\\x11\\xbf\\xb7\\x7f\\x8f\\xfac\\x81\\x8b\\xfb\\xb1\\xb0\\xa4$O\\x1a\\xdf\\xd3\\xe6\\x9a\\xeb\\xc8\\x84\\xa3s\\x0f\\xce\\xe9G\\x96\\x93\\xddt5\\xbc\\xfd\\xdf\\x97\\'\\x1d\\xf0\\xe5\\xe6r.\\xcd\\xe8\\xdbVY\\x81|=,\\x89\\xbe\\xf0zX\\x92\\x8a\"y\\xbac\\x83i4t\\xe7\\x9c\\xfc\\x96\\xf5\\xc7\\xa1.w\\xa3\\xbe\\x00\\xab_!$\\xa6r_\\xfa|\\xf4\\x9c\\xa6l\\xd2\\xd6n\\x7f\\xa4\\xdd\\xfeH%\\xe36\\x1f\\xbd\\xa6\\xe5Fr\\xf8\\xd5\\xe5\\xed*60\\xd07h\\xc3\\xf8\\xee\\xa6\\xbaj;nE\\x85}L/\\xab\\xaa\\r\\xfb\\x98\\xbe\\xd3\\'\\xd2TWm\\xbdSw.+0\\xf0\\x9a\\xdb_GM\\xe9EB\\xda\\x99\\xc0\\xf7\\xf4\\xe5\\x7f_\\x08IJ/\\xa8\\xa9\\xab\\xcf-\\xae8\\xfa\\xe8\\r\\x00\\x0cl\\xcc\\x1c\\x90\\xa5\\xf5\\xe3\\xed\\xad\\xf45\\xd6]\\t}\\xf8\\xea[AYUYU\\xed\\xd3w)\\xcb\\xcf>s\\xff\\xf3V0\\x00\\\\\\n\\x8e\\x8f\\xfa\\x9cY\\xfe\\xbb\\xff\\x9a*\\n\\xeb\\xc6\\xdb\\xd3\\x9e\\xedok\\n\\x00\\xc7\\x1f\\xbf-\\xa9\\xac\\xf9\\x92Y\\xe8\\xfd\"\\x91\\x9bW\\xe7aDc\\xbb\\xb7\\xb4\\xd0\\xd3H\\xce.\\xa6P\\xa8\\x83;\\x99\\xd3?\\xc5\\xfdX\\xd8\\xd3VU\\x9c;\\xd0\\xf6\\xd1\\xa6\\xf1o=g\\xbbM\\xecA\\xcc\\x9d\\xf9\\xc5@Se\\xff,\\xc7\\x98/Y\\x9b\\xae\\x86\\xe7\\x97V\\xe5\\x97V\\xb9y\\x87\\xbf\\xfa\\x9au`v_\\xfa}\\x9c\\xbasN2\\xac\\x11-\\xfc70\\xeaSfEumNq\\xc5\\xf9\\xa0x\\xcf\\x87\\xb1\\x16z\\x1a\\x1b\\xe8~\\x04\\x92\\'r\\xbe1\\xf3\\xfe?\\x89TS\\x9c\\xf3\\xdd\\xdbM\\xadeW\\xcbi;H\\xaa\\xda$Um\\xcbi;\\xd4,\\xbb${\\xbb\\xd5\\x9648g\\xe2\\xed*\\xf6$*g\\xec\\xad[\\xb7\\xa6L\\x99\\xc2\\xf1=8\\xc7\\xd5XZ\\x0b\\xb9\\xc5\\x15\\xfb\\xee\\xbdz\\xf26%\\xaf\\xb4RWMihg\\xf3\\x8d\\x13\\xec\\xe9\\xdf\\xf2\\xb3\\xaf`\\xb5\\xe4\\x1cm\\xad\\xe3\\xc2\\x8aa\\xf3\\x8e\\xff\\x91\\x0f(h\\x9bsgK\\xbd\\xe8/\\x99\\xff\\x85||\\x99\\x94\\x91YX\\xae$O2m\\xa1\\xeed\\xdfr\\xc9\\xb0N\\xcc\\xcb\\xee\\x1c\\x07\\xc20\\xf0\\xa2\\xf2j\\xaf\\x87\\xaf\\xfdb\\x933\\n\\xca4U\\x15\\xed\\xac\\xf4\\\\\\xc7t\\xedF\\xf7\\x89\\x1e\\xe2\\xf27\\x9e\\xb36\\xfc\\x17\\xf62)\\x9dB\\x85^\\xad\\rwL\\xebM\\xdbG\\x0f\\x00\\xf9\\xa5UnW\\xc3B\\xe2\\xd3*k\\xea\\x1c\\xdb\\x19{\\xcc\\xee\\xdb\\xe9\\xcf\\x1d\\xee\\x0c{%\\x01\\x80\\xfd\\x88\\x98\\xeb\\xd3\\\\\\nNX{\\xf9\\xc5\\xa9%\\x83\\x9d\\x1dZ1\\x8c\\x94\\xe3XD\\xc4\\xf3\\xf8\\xd4C\\xbe\\xb1\\xc4\\xa7%:[\\xe8\\xad\\x1e\\xcbx\\xa8\\x191|\\xda\\xc0\\xdf|\\xcf\\xb9\\x11\\x9e\\x14\\x9e\\x98\\xfe#\\xb7\\x84J\\x05\\xf3\\x16\\xea#\\xec,\\\\F\\xdb\\xb1\\xd96Jo\\xfe\\x89\\'\\xf2\\xe6v\\xb7n\\xddjb\\xb7\\'O\\x9e\\x1c\\x9c\\\\\\xd9l\\xfb\\xe8\\x89(\\xefp>\\x9dcMq\\x97\\xf6\\xe8H\\xea=\\x8f\\x96s\\x0e\\xe8\\xf5\\x9dN+\\xcc\\x0e\\xbd\\xfa\\xfd\\xf2:\\xb3\\x89\\x1b\\x8cG\\xae\\xe4\\xe3U\\xf4\"\\xe7\\x1b\\xdf\\xbcy\\x938\\x19\\x94 \\x8d\\x81\\x1e\\x11\\x18\\x82\\x0e\\x12;\\x18\\xe8E\\\\\\x82\\x87s\\xc9\\xa7\\xc8N\\xdb\\x9f)\\x9b\\xfc\\x7f\\xf9\\xae\"-1\\xce}\\xb0zk\\x07\\xdbu\\xb7\\xf9x\\x15=\\xe6@\\x8f7c\\x11B\\xdc\\xaa-\\xc9K}p\\xb00.\\xb0\\xb6$\\x8f\\xac\\xa6\\xa3\\xd5q\\xb0\\xa9\\xd3Z\\xb2\\xc6\\xafOq\\xd3\\x16d\\xba\\x1ex\\xf5\\xfd\\xea\\xa6\\x92\\xc4\\x08Y\\x05%\\x8dv}-\\xa7\\xed \\xa9j1\\xd4!\\xbe\\xd0s\\x9c\\xd6r\\xeeA\\xfa\\xf2.{_\\xfe\\xf0\\xd9Y\\x92\\x14QWQ\\x02\\xbf\\xff\\x1e\\xd4\\x16\\xe7\\xa4>\\xf0,|\\x1fT[\\x92GV\\xd7\\xfd\\xf5\\xba\\xea-\\x18\\xda\\xec\\xbc\\xf3y\\xca\\xcd\\xed\\xa5__S\\xa9\\x14\\x8d\\xd6=\\xcd\\'oU2\\xb4\\x01\\xa6O\\x8a\\xda,>\\xa9k?\\x0e\\x00\\xde\\xac\\xebQ\\x9d\\x9f\\x06\\r\\xff\\xd5\\xe1f\\x89\\x89\\xcd_\\xac\\xca\\xcc/\\x00 \\xafmD_(\\xafm\\x0c\\x00\\x95Y\\xdf\\xf8{\\x15{\\x18\\xe8\\x11B\\\\\\xa9-\\xc9\\xfd\\xb0k4\\xa5\\xb6\\xdaz\\xc1\\x115\\xebn\\xe5?\\xe2\\xbf\\x9e[U\\xf41\\xac\\xa3\\xfb\\x13\\x92\\xb2:\\x008\\x9cO\\'\"\\xe3\\x8f;{\\xcd\\x9d\\xdd\\xe45\\r~\\xdc\\xd9\\x93\\xfd\\xfc\\x8a\\x8c\\x1c\\xc9z\\xde!\\xa2\\x11Z\\x1d\\x86\\xf8H+\\xff\\xfe\\xdf\\x06\\xd3qkl\\x16\\x1e/\\xf9\\xf42\\xf1\\xf0,\\x00\\xa8-\\xcey\\xbfk\\x14P\\xea\\xad\\x17\\x1cS\\xb5\\xecT\\x96\\xfc\\xee\\xcb\\xd9\\x95E\\xf1!\\x1d6?\"b=\\xed\\xdao\\x97\\xff1\\x9f\\xb4Y\\xd9\\xb4]\\xd9\\xf7\\xb7_\\xce\\xae\\x8c\\xdf3\\xae\\xa3\\xfb\\x13\\x05]S\\x87\\xf3\\xe9\\xc5\\x89\\xe1\\x1f\\x0fN\\x91\\xd7\\xd0\\xb3;\\xf0JF\\xeeW\\xdc3\\x19\\xedR\\xf06\\xa0\\x8d\\xcb\\x95\\x86\\x86\\xdc\\xc4\\xb7\\x1du\\x15\\xc5\\x00 \\xa7\\xf8\\xc7\\xfe.\\xe2a}y\\x83\\x99Ux\\xbb\\x8a=\\xbc\\x19+\\xba\\x88\\x1bw\\r\\xfdkz\\xe3\\x0c_ \\xc4^\\xea\\xfd\\x83\\xd5\\xf9if\\x137h\\xda\\xf6\\x93SPQo\\xd5\\xc3b\\xea\\xb6\\xea\\xbc\\x9f\\x19\\x01\\xff2\\xd4\\xd4\\xef;]\\xc9\\xd0FNI\\xcdx\\xf82\\x00(Nx\\xc1\\xfd\\xab\\x98\\x8c^\\xa5f\\xddMV^Q\\xb3\\xc3@\"\\xce\\xa6\\xde?XS\\x90a\\xe6\\xbcI\\xa3mo9EU\\x8d\\xb6}\\xcc\\x9d\\xdd\\xaa\\xf3\\xd3R\\xef\\x1fd\\xba\\xd6E\\xcd\\xba\\xbb\\x9c\\x82\\nQ\\xa7\\xae\\xa28\\xf5\\x81\\'\\xf1\\x94F\\xdb>*\\xa6\\xedj\\x8as\\xf2\\xa2\\xef\\xd3\\xeag>;o8d!\\x0f\\xdf\\n\\xb1\\x833z\\xd1%\\xd0\\xd5s\\\\\\x9aG\\x8dU\\x18\\x17\\x08\\x00\\x9a\\x1d\\x06\\xd2J\\xd4[\\xf5\\x04\\x80\\xc2\\xb8\\xa7f\\x13\\xd6\\xd3\\xd7T1\\xef@|!\\xafi\\x00\\x005\\xc59\\xdc\\xbf\\x8a\\xaaeg\\x96\\xaf\\xab\\xd1\\xb6\\x0f\\xadD\\xa3\\xad#\\x00\\x14\\xbe\\x0fb\\xbc\\xb6e7\\x86:\\xf4\\x7fc\\x0c\\x87.\\xfaz\\xfe\\xef\\xcc\\xc03-z9\\x03@qb\\x04P\\xa8M\\xd9\\x9c\\xce\\x11IY\\xa3\\xb6$\\xaf\\xbe\\xaa\\x82x\\xc7C\\xa8\\xaf\\xaa\\x00\\x009\\x95\\x06O\\xe3\\xe0\\xed*\\x0e=\\xe1\\xed2\\x84\\x90\\xb4\\xa9-\\xc9\\x07\\x80\\xd8\\xd5]\\x18\\xca\\xabr\\x18\\x0fl\\x90S\\xfc\\xf5\\x91@\\x19\\x12\\x19\\x00\\xa01;>d\\xe5\\x19?,V[Z\\x00\\x00dUmZ\\tIM\\x1b\\x00jK\\xf2\\x18j\\xd2G\\xc6_uJ\\x0bh%\\xba\\xf6N?o\\xef)\\xff\\x99P\\x9c\\x18\\xa1\\xd1\\xb6wf\\xd09\\x83!\\x1c\\xb2\\x156q\\x8d^\\xc9\\xd0\\xa6\\xb6$\\xaf\\xa6 \\x83\\xbec5\\x05\\xe9\\x00\\xa0d\\xd0\\x92\\xbfW\\xb1\\x87\\x81\\x1e\\x89\"~%_%\\x10o_>\\xa6\\xe5\\xdf\\x89\\xfc\\x12\\xf4\\xfegrv1\\x00\\x98\\xe8\\xa8:\\xb46Z1\\xa2\\xb3\\xa5\\xfe\\xff\\x0fE\\xe0\\xa6\\x8e\\xd4\"k\\xe8\\xd6\\x14fu?\\xf6\\x91\\xa4\\xdc\\xac\\xdf\\r\\xb2\\xbaNMQvmY\\x81\\xbc\\xe6\\xaf\\r\\xb5uD\\xe8Wg<T\\xa3\\xae\\xac\\x90v\\xd7\\xf7W\\x1d\\xb5\\xff\\xffy\\x90!\\x91\\r\\x06\\xfd\\xf5\\xf3\\xee\\xfe\\xcc\\xa7\\xa7\\x15tM\\xca\\xbe\\xc5\\xb6Z\\xcc\\xb8\\xe8\\xc4\\xa0\\x89k\\xf4\\x1a\\xed\\x1cK>E\\x96}\\x7fC\\xbf\\x7f\\xa6\\xec\\xfb[\\x00\\xd0l\\xdf\\x8f\\xbfW\\xb1\\x87k\\xf4H\\xe4\\xf07\\xf9*\\xed4\\x85\\xbe\\x9bn>y\\x9b\\xb2cj\\xaf\\xf8#s\\xe2\\x8f\\xcc\\xd92\\xa9\\xe7\\xd3w)\\xbd\\xddn\\x84~\\xfc\\xffg\\x9b\\xb9\\xa9#\\xb5\\xb4\\xbb\\x0c\\x07\\x80\\x92\\xa4\\x97\\xf4\\x85%\\x9f\\xa3?\\xec\\x1e\\xdd\\xa8v\\x889;\\xb5\\xbe\\x8eRS\\xf9j\\x15\\xe7\\x1cRZ\\x9d\\x86\\x00@qb\\x18\\xad\\x84\\xf8\\x9a(\\xa7W\\xfa\\xf5\\x15C\\x1d\\r\\xdb?\"\\xa3~\\xff\\xd9\\xb2\\xf2J\\x85\\x1f\\x82S\\xaem\\xd1s\\x9c.+\\xaf\\x08\\x82\\xa4\\xd7g\\xaa\\xac\\x82rN\\xc4M\\xfa\\xc2\\x9c\\x88\\x9br\\n*z\\xbd\\x1b\\xccn\\xc6\\xdbU\\xeca\\xa0\\x17\\x0f|\\xb9\\x01+\\x16\\xe8\\x93\\xaf\\xea\\xa8)\\xea\\xa8)\\xee\\x99\\xe1\\xd8\\xd5J\\xff\\x9f\\xcb/r\\x8b+\\xd8_K\\xa4z\\xa7\\xff7\\xb8\\x93\\xf9\\xbcA\\xedi\\x15\\xce.\\x1b\\xda\\xcf\\xd6D]I^]I~\\x84\\x9d\\xe5\\x91\\xf9\\x03j\\xea\\xea\\xb7\\\\\\xff#rqSG:\\x99\\x8e[\\xab\\xa8o\\x99\\xec\\xed\\x96\\xff\\xda\\xaf\\xae\\xac\\xb0\\xbe\\xaa\\xac0.\\xe8\\xeb\\xf9\\xbf\\xcd\\x9d75\\xaa\\x1d\\x15\\x93\\xb6\\x00P\\x96\\xfc\\xb6\\xf0]\\xa0\\x9au7\\x8e\\xf5M\\x9d\\xd6*\\xe8\\x98\\xfc\\xbc\\xbd\\xa781\\xa2\\xbe\\xaa\\xac81\\xe2\\xe7\\xed=\\n:&\\xa6\\xe3\\xd60\\xd4\\xcc\\n\\xf9\\xaf\\xf4KL}u9Q\\x87\\xa4\\xac\\xc1P\\x87\\xa4\\xa2\\xd9\\xa2\\xf7$\\xa0R\\x8b\\xe2_\\x18\\x0c\\x9c\\xdb\\xa8n\\xf3@^S\\xdfj\\xc6\\xee\\xd2\\xaf\\xafS\\xae\\xbb\\xd7\\x95\\x15\\xd4\\x95\\x15\\xa4\\\\\\xdfZ\\xfa-\\xd6r\\xd6\\x1e\\xda\\x9eT`\\xfa\\xa80\\x97W5\\n.\\xdd \\xd1\\xc2s\\xf2\\xd5\\xf1=\\x18\\x13I\\xff\\xc8-\\x89K\\xc9\\xbd\\xb2j8\\xf1\\x90\\xf9\\xfes\\x0f\\x1bC\\x00\\xa0?m\\x86\\x9b:R\\x8b\\xa4\\xaa\\xd5a\\xb3_\\x9a\\xef\\xe1\\x1f>\\xbbj\\n3H*Z\\xaa\\x96\\x9dm\\x16\\x9fP\\xb3\\xfa\\xf5C\\xa1\\xdf#O,z0\\x97\\x00\\x80\\xc5\\x8c]\\xdf/\\xad\\xfd\\xe89M\\xc5\\xa4\\xad\\xf5\\x82#\\xcc\\xd7\\xc2\\x9fk&d\\xf5\\x16\\x1d6?J\\xbd\\x7f\\xf0\\xeb\\xb9\\x95\\xb5%\\xf9du\\x1d\\xad\\xceC\\xe9\\xf7\\xd1\\xd3X\\xcd\\xdc\\x93|ms\\xc9\\xa7(*\\x95\\xa2\\xde\\xaa\\xa7\\xc5\\x94\\xad\\n\\xba\\x8cgo\\x18\\rY\\x94\\x1d\\xe2\\xad\\xd3m\\x94\\xbc\\x96\\x01\\x08^\\x8b\\xde\\x93\\xc9\\x9a\\xfa\\xe9~\\xc7\\xde\\xac\\xeb\\t\\x00*\\x16\\x1d\\xdb\\xad\\xbe\\xce\\xf1\\x0e0oW\\xb1\\x81\\x81\\x1e\\x89\\x16\\x9e\\x93\\xaf\\x12\\xa9\\x19\\xe9]\\x0cN\\x98\\xd6\\xa7\\xb5|\\xc3\\x87\\xd1\\x13\\x07 \\xb77\\xd5i\\xa8\\x02\\x97u\\xa4\\x07IY\\xc3b\\x8a\\xbb\\xc5\\x14w\\x96\\xcf2\\xafh\\xb3\\\\\\xe3V\\xb5\\xe8\\xd4q[ 75i\\xc8\\xea-\\xacf\\xef\\x07\\xd8\\xcf\\xbe{\\n\\xba\\xa6mV]f_GQ\\xcf\\\\^]\\xd7`\\xc8\\x02\\xf6\\xd5\\xf8H\\xd3\\xb6\\x9f\\xa6-\\xbb\\xb5u\\x96c\\xe7xU\\xa3`\\xa0\\x178.s\\xb7\\xc6\\x1d\\x9a\\xbd\\xfeJhXb\\xba\\x92<\\xa9\\xbf\\xad\\xe9\\x9e\\x99}h\\xa7\\x073\\xecy\\x9f\\xd9\\xaf\\xed\\xe1y\\x03\\xe8\\xcbY\\xe6\\x8ce\\x9f\\xcf\\x96c\\xceX\\x86\\x95\\xa2\\xb3K\\x87\\x8c\\xefi\\x03\\x00]\\xd6\\xfc\\x97\\x9aW\\n\\ro\\xd0\\x14b\\xf2Uz\\xd5\\xb5\\xf57\\xc2\\x93\\x9e\\xba;\\xb3\\xa9s+\\xe23\\x00\\xfc3\\x9e\\xf5!t\\xdc\\xd7Ab\\xa4\\xf0\\xfd3y\\x1dc\\xda\\xbb\\x10)\\x81\\x81^\\xb0\\xb8\\xcf\\xdd\\xba\\xf3V\\xd4\\xd6\\xc9\\x0e\\x06Z*;oE]\\x0c\\x8e\\'\\x93d\\x8f-\\xf8\\xb5a\\x99V\\x87!>\\xb2\\xc9\\x19\\xcb1\\x9f-\\xc7\\x9c\\xb1y\\x97\\x97\\x85~L\\x9b\\xb0\\xff\\xa1\\xbe\\xa6\\xf2;\\xaf\\xd9\\xc4y\\xf4\\x00\\xb0zl\\xd7\\xc7\\xb1\\xc9\\xd7W\\x8fjh\\xc8\\xc2J\\xbe\\xca\\xe0^\\xf4\\xd7\\xce\\x96zD\\xf2[\\x96\\xe2\\x7f\\xe6\\x1d\\xf1{\\xe3:\\xa6\\xeb\\xa0\\x0efM\\xa9\\x83\\xc4B\\xe4|\\xe3\\xf6\\x9b|\\x95\\x0cZ\\xa6>\\xf02\\x1d\\xeb*\\xec\\xee47\\xbc\\x19+X\\xdc\\xe7;\\x9d\\xdd\\xbf]+#-u%\\xf9\\x95\\xa3\\xba\\x00\\xc0\\xf3\\x0f\\x8d\\xc8\\xe7\\xc7\\x9c3\\x96\\xfb|\\xb6lr\\xc6\\xf6mgbk\\xa6\\x9b]TA\\x1c\\x92N8\\xfb\\xf4\\xc3\\x92a\\x9dx\\xf8V4\\xb3\\x0b\\xcf>\\xcc\\xa7\\xbb\\r\\xcb \\xe1g\\x9e\\xf3\\x01\\xdfy\\x83\\xdaor\\xee\\xd1\\x94:H\\x140\\xac\\xef7$~\\xf7\\x98\\xb7\\x1b{ku\\x1a\\xac\\xd5\\x99q\\x95O\\xe2\\xe1\\x8c^\\xb0\\xd8\\xe4;e\\x08\\x1f\\x1d-~\\xddY\"\\xf2Ue\\x177\\xe2\\xb4t\\xe6\\x9c\\xb1l\\xf3\\xd9\\xfe\\xb1\\xf0\\xc7>g\\xec\\xd2a\\x9dV\\x9c}\\xf6o@\\xdc\\x94\\xde\\xad\\x01 \\xecc:\\x85J\\xe5\\xb8\\xa5\\xbd)\\xd4\\x95\\x15\\xf2J*\\xcb\\xabk\\xe9\\x8f\\xeaml\\xf2\\xd5\\xb8\\x94\\xdc\\xfc\\xd2\\xaaA\\x1dYO\\xc3?\\xa5\\x17\\x8e\\xdb\\xf7`\\xc9\\xb0Nk\\xc75\\xb8\\xe5\\x83\\x9b:HDp\\xb3\\xdb]\\x1a\\x0e\\xcbd\\x03\\x03\\xbd`q\\x9f\\xefTU\\xf1\\xd7b\\x85<I\\x16\\x1a\\xf7YB\\x169c\\xb9\\xcfg\\xcb>g\\xec\\x84\\x9e6;}\"\\xe3\\x7f\\xe6\\x85}Lwlg|\\xfai\\xdc\\xe2\\xa1\\x1d\\xd9wF\\x14\\x92\\xaf\\x9e\\x0f\\xfa0g\\x80\\xad,m\\xe3\\x0e\\x9d\\x8c\\x82\\xb2\\xc9\\x07}\\x97\\x0e\\xef\\xb4fl\\x83\\x11\\x9c\\x9b:\\x08\\x89\\x11\\x0c\\xf4\\x82\\xc5[\\xbe\\xd3\\xa6\\xe3>\\x9f-\\xfb\\x9c\\xb1\\xf2$\\xd9\\x05\\x83;\\xec\\xbe\\x1d}2\\xe0\\x9dY\\x0b\\xb5W_\\xb3\\xcf1mna \\xf4\\xe4\\xabE\\xe5\\xd5~\\xb1\\xc91\\x1e,\\xf2O\\x15WTO\\xf1|4{@;\\xfa\\x08\\xae;\\xe7$}\\x9f\\xb9\\xa9\\x83D\\x1fm\\x19G\\x94\\xe7\\xf2\\x15iIy\\xd1\\xf7\\x8a>\\x04W\\xe6\\xa4\\x00\\x80\\x82\\xb6\\xb1z\\xab\\x1eF\\xc3\\x97*\\xeaY\\xf0\\xf7\\x85p\\x8d^\\xb0\\x9a\\x98\\xef\\x94\\x86\\x98\\xb3\\xd7\\xd6S*k\\xeal\\x96\\x9d\\xe7X\\x9f\\xfb|\\xb6\\xecs\\xc6\\x02\\xc0\\xdc\\x81\\xed\\x95\\xe4IA\\xef\\x7fl\\xf8/lV\\xbf\\xb6\\x8a\\\\\\xa4\\xbej\\n\\xde\\x92\\xaf\\xd2\\xbb\\x16\\x964\\xa4\\x93\\xb9\\x8e\\x1a\\xe3\\x9f\\xb4\\x9a\\xba\\xfa\\x99\\x87\\xfd\\x9dzX\\xb3\\x99\\xa7sS\\x07\\x89\\x05Q\\x8e\\xef4q\\xee\\x83\\n\\xdf\\x05\\x9aO\\xde\\xda\\xcd\\xf3M7\\xcf7f\\x137\\x16\\xbe\\x0f\\x8a\\xdb2\\xa081\\x9c\\xbf/\\x843z\\xc1Z?\\xde\\xfe\\xf9\\x87\\xd4uWB\\xeb)\\xd4>m\\x8d\\xe5Ir/\\x93\\xd27z\\x87\\xd3v\\xd4p\\xc9\\xd6T\\xe7\\xf5\\xb7\\xec7\\xdf\\xb33\\n\\xca\\xbb\\xdb\\x18r\\xac\\xbfa|\\xf7\\xe0\\x0f?w\\xdc\\x8a2\\xd4R\\xedb\\xa5\\xf7\\xf6{NC\\xf9l/\\x05\\xc7k\\xaa(t0\\xd3}\\xf3=\\x879g,\\x00h\\xa9(L\\xed\\xd3\\xe6bp\\xfc\\xf3\\xf8T\\xaf\\xbf\\xfa7\\xaa\\xdb< \\x92\\xaf\\xae<\\x17\\xbc\\xe9j\\xf8\\xea\\xb1\\xdd\\x00\\xc0\\xf3\\xc1\\xebW_\\xb3N,\\x1c\\xc4\\x90|\\x15X\\xbd{\\xa0R\\xe1bp\\xfc\\x89\\x85\\x83\\x98[^r*(\\xf2SF\\xe4\\xa7\\x8c\\xbdwb\\x1azun\\xea \\xc4G6KN*\\x1b\\xff\\x9a\\xc1hw\\x19&KVH<4\\xe3\\xc7\\xcd\\xed\\xcc\\x1f5h\\n\\x0c\\xf4\\x82\\xa5\\xad\\xaa\\xf8\\xd4\\xdd\\xd9\\xeb\\xe1\\xeb\\xed7#i\\xf9NO/\\x1dB\\xcbwJ\\xbfG\\x9e!\\x0b+\\xfdr\\xc1\\xbeY\\x8e.\\x17B\\x9c=|mMuN,\\x1a\\xc4|-\\xfc\\x19\\xf5Zh(?\\xdd:q\\xdf\\xbdWKO\\x07\\x11\\xf9l\\x87u\\xb6`HxK\\xf0\\x98\\xd3\\x8f!g,\\xf3\\x96\\xc4\\xa5\\xc3;]~\\x9e0\\xa6{KC-\\x15>}c\\xd8\\x99\\xe6\\xd8\\xc6@K\\xe5\\x90o\\xac\\xdd\\xda\\xff\\x00\\xa0\\xb3\\x85\\xde\\xed\\x7f\\xc6ry\\x07\\xf8y\\xfcOe\\x05\\xb2\\xbd\\r\\x8b\\x0f=>|\\xc59;\\x0f7u\\x10\\xe2\\x17\\xe6\\xb7\\x1dj6\\xdd\\x01\\xa02\\xfb;\\x7f_\\x08\\x03\\xbd\\xc0i\\xaa(\\xec\\x98\\xd6{\\xc7\\xb4\\xde,\\x9fe\\x9e\\x93\\xb2\\\\\\x0b\\xeel\\xa9\\xf7b\\xe7dnj\\xd2\\xb4\\xd0P\\xf6\\x9c\\xdb\\xcfs.\\x87\\x0f\\xd7\\x99\\xe9\\xaa]s\\x1d\\xc9\\xbe\\x8e\\x85\\x9ez\\x0b\\r%\\x8e\\xb7a\\xf9h@{S\\x86\\x15$\\x06\\r\\x8d}`\\x07\\xb3\\x81\\r\\xecy\\xe7f\\x91\\x1d\\x17\\xe2\\x91p\\xd5\\x95\\xe6\\x03\\x80\\x8aI;\\xfe6\\x8b\\x81\\x1eq\\x16\\xf8\\xee\\x87\\x89\\x8eZ\\xb7\\x96\\x8c\\x9b8\\x11\\xaa\\xaf,M}\\xe0Y\\xf0\\xf6ImQ\\x96\\xac\\x82\\xb2\\x92AK5\\xebn:\\xdd\\xc7\\xd2\\xf2\\x87\\x14\\x7f\\x0c\\xcb\\x0c:_\\xfa%\\x9aRS\\xa5d\\xd4\\xcah\\xc42\"_+\\xe1\\xffif=\\xdf$_\\xdd\\\\\\x9c\\xf0B\\x86D\\xd6\\xea4\\xd8r\\xfa\\xae\\xba\\xf2\\xa2\\xe4k[J>E\\xca\\xca+i\\xb6\\xefo1m\\x07\\xed|v\\x8eIb\\x1b\\xc2>\\xe7-\\xc7\\xb10k\\xe2\\x81\\xf5\\xccr_\\xde\\x01\\x00\\x93q\\xab\\xb9\\xbf\\x84\\x1b\\x18\\xe8Q\\x83t\\xe7\\x9c\\x0c\\xd8:\\xd1\\xda@\\xd3\\xe3\\xfe\\xab\\x7f\\x98\\x16\\xf7\\x11\\x02\\x80\\xaf\\xe7]\\n\\xde>\\xb1\\x98\\xb6]\\xdfq\\xba\\x8c\\x1c\\xb9*\\xef\\xe7\\xcf;{?\\xec\\x1aE\\x8bn\\x1f=\\xa7jw\\x19\\xdeeoD}M\\xe5\\xb7\\x8bk\\xbf\\x9c^FR\\xd6\\xd0l\\xdf\\x9fx\\x96\\x96\\xee\\xf5\\xe7\\xed\\xddf\\x13\\xd6\\xc9\\xcf\\xf3\\xfayw_V\\xf0\\xa5\\xba\\xb2B\\x19\\x92\\xbc\\xf9\\xa4M\\xb4\\xc4\\xb3\\xb2$y\\xab9\\x1e\\x0cW5\\x94$\\x96eW9\\xe6\\xbc\\xe58\\x16f\\xfc\\xbd\\xe5[\\xfe3!\\xdd\\xff\\xb8\\xf1\\xa8U\\x9a\\xed\\x07\\xf0\\xb1Y\\xc0]7R\\x8b\\xcb\\x9c\\xb1\\xc3w\\xdc\\xb1_wuXg\\x8b\\xe1L\\xdbu\\x10\\x02\\x80\\xe2\\xa4\\x97\\x00 \\xafi(\\xab\\xa0,C\"+\\x19\\xb4\\xb4\\x9c\\xb1\\x9b\\xa1\\x8e\\xc5\\xd4m$Um\\x05mc\\xcb\\xe9;\\x01 \\xdd\\xef(s;z\\x8e\\xd3~\\xa5\\x99\\x1d\\xb5\\n\\x00\\n\\xdf?3\\x1c<\\x9f(1!J><c\\xbe\\x8aM\\x92Xf\\x1cs\\xder3\\x16\\xc1)O\\xfd\\x98xh\\xba\\xc1\\x809\\x0cy\\x19\\xf9\\x02g\\xf4R\\n\\x17\\xac\\x11_\\xe8t\\x1d\\x99\\x13~\\xf3\\xf3\\xbf\\x8b\\xe4\\xb5\\x8d\\x88\\x03\\x17\\xb5\\xbb\\x0c\\xa7\\x9f\\xe7\\xd2\\x7f\\xad\\xa8o\\t\\x00\\x15\\x19,r\\xc8\\xfc?\\xcd\\xacF\\x0b\\xc6\\x12M}\\x00\\xa8)\\xcaf\\xbe\\x8a}\\x92X\\x06\\x1cs\\xder\\x1c\\x8b\\xe0Tf|\\xfe\\xe8\\xe1l8t\\x91\\xc9\\x98\\xbf\\x05\\xd1>\\x06z\\x84\\x10\\xefZ\\xce\\xf5\\xd4\\xea48/\\xea~qbxN\\xd8\\xf5\\x9c\\xb0\\xeb\\n\\xda\\xc6\\xadW^T1\\xb3\\x05\\x80\\xba\\x8a\\x92\\x0c\\xff\\x93\\x05o\\xfdk\\n2\\xeb\\xab\\x7f\\x9d\\xeaQW\\xc6\\xe2\\x14RZ\\x9aY\\x90\\x91e]\\xc2\\xea\\xc3\\xe2\\xec\\x93\\xc42\\xe0\\x98\\xf3\\x96\\xfdXX\\xe2\\xcb\\x1a}Ma\\xe6\\xc7C3\\x0c\\x87-6\\x19\\xed\\xc2\\xb15\\xde`\\xa0G\\x8dC[\\xea\\x11\\xf1\\xf9>\\xcb%)\\x11\\xef\\xb3X\\x92\\x91\\xd1\\xb6\\x1b\\xa9m7\\x12\\xa8\\x94\\x92/\\xaf\\xd2\\xfd\\x8e\\x16\\xc5\\x87|\\xbb\\xe8\\xda\\xd1\\xfd)\\x00|\\xfewq\\xf1\\xc7P\\x93\\xb1\\xab\\r\\x07\\xcf\\'\\xa9h\\x02w\\x91\\x91{\\xec\\x93\\xc42\\xe0\\x9c\\xf3\\x96\\xedXXj\\xfa|\\xbf\\xae\\xa2$\\xf1\\xd0L\\xfd~3\\xe9\\xa3<}\\x9e\\x16\\xbe\\xc05z\\xd48\\x18+\\x11\\xbd\\xc8\\xf9\\xc65\\x85\\x99\\x00\\x002\\xb2\\xea\\xadz\\xb4Zr\\n\\x00*3~\\x1dwJ$q5\\x1a\\xb6\\x98\\x88\\xf2\\x94\\xba\\x1a\\xfe\\xbe:\\xc7$\\xb1\\xf48\\xe6\\xbce?\\x16A\\xa0\\xd4\\xd5|:\\xf6\\x97\\x8e\\xfdX\\xc1\\xcd\\xe5\\t8\\xa3G\\x12\\x0b\\xff&5\\x8fo\\x97\\xd6\\x9aO\\xd9\\xaa\\xa8gY_Q\\x9c\\x19x\\x1e\\x004~o\\xaaQo\\xd5\\xa3(>$\\xdd\\xef\\xb8\\xd1\\x88e@\\xa5\\xa4=:\\xc2\\xdf\\x97\\xce\\n\\xf9\\x8f\\xa4\\xa2\\xa9lf[\\xf6\\xfd\\x1d\\xcb$\\xb1\\xf4L\\xc7\\xad-Jx\\x91\\xec\\xedF\\xa5P4\\xda\\xf4\\x92!\\x91K>E%_\\xdbb=\\xcf\\x8b\\x9b\\xb1\\x08\\xc2\\xd7\\xb3+J>G\\x95|\\x8eJ\\xbd\\xe7!\\xb8W\\x01\\x0c\\xf4\\x08\\xa1\\xa6h\\xbf\\xf1~\\xf6\\x8b\\xabIG\\xe6\\xd4\\x14f\\xca\\xca+)\\xea\\x9a\\x9aMXo8d!\\xf1\\xac\\xf5\\xfc#?n\\xed\\xcc\\t\\xbf\\x9e\\xf1\\xf4\\x94\\x92~K\\x931\\x7fg\\x02\\x00\\xdb\\xa4\\xb2\\\\&\\x9e%\\xb0I\\x12\\xcb|\\x15\\xc7\\x9c\\xb7\\xec\\xc7\"\\x08\\xf9\\xaf\\xfd\\x04\\xd78=\\x0c\\xf4\\x08!\\xde\\xa9YwW\\xb3n\\xf03\\x16du]Z\\xfao\\x82C\\xf71\\x7f<\\xe4\"\\xcd,\\x9b\\xd5j6IbY^\\xc5>\\xe7-\\xfb\\xb1\\x08B\\xb3\\x9d\\xbc\\x86\\x81^D\\x95T\\xd6x\\xdc{\\xe5\\xff&9\\xb3\\xb0\\\\E\\x81dm\\xa8\\xd5\\xdd\\xc6\\xc0\\xc9\\xde\\xda\\xce\\xea\\xd7\\xa7\\xf8^$\\xa4\\x9d\\t|\\x1f\\xf5)\\xb3\\xb2\\xa6\\xae\\xb5\\xb1\\xd6\\xaa\\x91]\\x88\\x9c\\xae\\x04\\xda\\xad\\xc8\\xf8#s6\\xfc\\x17\\xf6<>U^Nvhg\\x8b\\xbd\\xb3\\x1c\\x8b\\xca\\xab7z\\x87E$\\xa6+)\\x90\\x07u0\\xdd=\\xa3\\x0f\\xed\\xe4w\\x8e\\x89d\\x1b\\xc2>/.\\xc7\\xb10k\\xe2\\xa1\\xf6\\x84\\xdd\\xb7\\xa3\\xefD~\\xce**\\xd7UW\\x1e\\xdc\\xd1l\\xfdx{}M\\xc6\\xa3~\\x10\\x92\\x06\\x18\\xe8E\\xd4\\xf23\\xcf\\xfc\\xdf$\\xef\\x9e\\xd1gV\\xbf\\xb6$9\\xb9\\x9f\\xb9%;}\\xa2\\x86n\\xbfM\\x8bn\\x13=\\x1e\\x8e\\xecj\\x19\\xe31\\xa3\\xb2\\xa6\\xee\\xef\\x0b\\xcf\\x17\\xfe\\x1b\\xa8\\xa1\\xa2@;\\xe6\\x85\\x96\\x12v\\xfb\\xcdH\\xb7\\x89=\\x8e.\\x18\\xb8\\xfbv\\xd4\\xf9\\xa0\\xf8\\x82\\xb2*y\\x92\\x9c\\xfb\\x1f\\xc9i\\xe5\\x0e\\xfd>\\x93\\x92c\"Y\\x96]\\xe5\\x98\\x17\\x97\\xe3X\\x985}y]U\\x91l\\xa1\\xa7\\x1e\\xbcc2\\x15 \\xe0M\\xf2\\x06\\xef\\xb0\\xc0\\xb8\\x1f\\x81\\xdb\\x9ci\\x07\\xf4#$=p\\xd7\\x8d\\x88\\nOL\\x07\\x00C-\\x15e\\x05\\xb2<I\\xd6\\xdaPs\\xfflG\\x86:\\xbb\\xa6\\xf7\\xd1QS4\\xd1Q\\xdd;\\xb3\\x0f\\x00x\\xf9\\xc62\\xb73\\xab\\xdf\\xafT\\xb4\\xaec\\xba\\x02@`\\xdc\\x8f\\xc5C;\\xfe.\\xb1\\x03\\x80\\xa0\\xb8\\x1f\\xccW\\xb1I$\\xcb\\x8cc^\\\\n\\xc6\\xc2w)\\xa7\\x17\\xce\\xe8\\xdbVSEAKEa\\x9ac\\x9b\\r\\x13\\xec3\\x0b\\xcb\\xf7\\xdd\\xc5\\xc3\\x87%\\x01\\x97Ib\\x11\\r\\xce\\xe8E\\xd4\\x98nV\\xd7\\xc2\\x92\\xe6\\x1d\\x7fb\\xac\\xad:\\xa0\\x83i\\xff\\xf6\\xa6#\\xed\\xac\\xe8\\xe7\\xb9\\xf4_[\\xe9k\\x02\\xc0\\xe7t\\x16\\x9fC\\xa1\\xa5\\xa2\\xa5-\\xa4\\xfc?9\\xad\\x96\\n\\x00d\\x15\\xb1HN\\xcb>\\x91,\\x03\\x8eyq9\\x8e\\xa5\\x19\\x8c\\xeaj\\xb5\\xe5ZD \\xab\\xbfjH\\xec\\x88ER\\x11\\x91\\x82\\x81^D\\x1d\\x99?phg\\x8b;\\x91_\\xc2\\x12\\xd3\\xbc_$z\\xbfH4\\xd1Q\\xf5\\xfe{d{3]\\x00(\\xae\\xa8>\\xe6\\xf7\\xd6/69\\xa3\\xb0\\xac\\xbc\\xaa\\x96\\xb8\\xa4\\xa0\\xac\\x8a\\xb9\\x1dZ*ZZ\\x02U\\x86\\x12\\x96\\xc9i\\xd9\\'\\x92e\\xc01/.\\xfb\\xb1\\xb0\\xc4\\x975zz\\xfa\\x1a\\xca\\x00P\\xd0\\xf0(\\x10\\x92`\\x18\\xe8E\\x94\\x8c\\x0c\\x8c\\xeef5\\xba\\x9b\\x15\\x85J\\x8d\\xf9\\x9c\\xe5\\xe5\\x1b\\x1b\\xfc\\xe1\\xe7\\x8a\\xb3\\xc1!;\\'\\x03\\xc0\\xfc\\x13OC\\xe2S\\xd79u_8\\xb4\\xa3\\x96\\x8a\\x02p\\x17\\x19\\xb9\\xc7>\\x91,\\x03\\x8eyq\\xd9\\x8f\\x85%\\xbe\\xcf\\xf7\\x897.\\xcc)sQ\\xf3\\x13\\x8bl\\xae4\\xf4\\xabCF\\xc3\\x16\\x9bO\\xdeJ|]\\xfc14\\xed\\xd1\\xd1\\xf2\\x1f\\x1f\\x00@\\xd5\\xa2\\xa3\\xf1\\xa8U\\x1a\\xed\\x1a\\xb7 \\xc9M\\xc2\\xd8\\x9f\\xb7\\xf7\\xa4\\xfb\\x9f\\xa0=\\xe4\\xf9;\\x86k\\xf4\"Jw\\xce\\xc9\\x8c\\xcb}\\xc7\\'\\x00\\x00 \\x00IDAT\\x822\\x00\\x90\\x95\\x91\\xe9\\xd9\\xda\\xf0\\xdc\\xf2\\xa1\\x00\\xf09\\xe3\\xd7\\xe2L\\xf4\\xe7L\\x00X6\\xa23\\x11\\xe5k\\xea\\xea\\xf9\\xfb\\xea\\x1c\\x13\\xc9\\xd2\\xe3\\x98\\x17\\x97\\xfdX\\x04Aw\\xce\\xc9oYE\\xf4%w\\xa3\\xbe\\x00\\xab\\x94\\xb9\\xa8\\xf9\\x89E|g\\xe0p>\\xdd\\xe1|:-\\xca\\xe7\\xbe\\xf4\\xf9\\xe89M\\xd9\\xa4\\xad\\xdd\\xfeH\\xbb\\xfd\\x91J\\xc6m>zM\\xcb\\x8dl\\\\\"hn\\x12\\xc6\\x9a9\\xbb\\x11/\\xdd\\xc4\\xfec\\xa0\\x17]\\x7f_\\x08IJ/\\xa8\\xa9\\xab\\xcf-\\xae8\\xfa\\xe8\\r\\x00\\x0c\\xec\\xf0+\\xda\\x12\\x8b\\xe0\\x87}c\\x8b+\\xaa\\x0b\\xcb\\xabw\\xf9D\\xf1\\xf7\\xa5/\\x05\\xc7G}\\xce,\\xaf\\xaa\\r\\xfb\\x98\\xce2\\x91,\\xbd\\xf5\\xe3\\xed\\xad\\xf45\\xd6]\\t}\\xf8\\xea[AYUYU\\xed\\xd3w)\\xcb\\xcf>s\\x9f\\xec\\xc0\\xcdX\\x04d\\xe1\\xbf\\x81Q\\x9f2+\\xaaks\\x8a+\\xce\\x07\\xc5{>\\x8c\\xb5\\xd0\\xd3\\xd8\\xd0\\xf0(\\x10\\xe2RMq\\xcewo7\\xb5\\x96]-\\xa7\\xed \\xa9j\\x93T\\xb5-\\xa7\\xedP\\xb3\\xec\\x92\\xec\\xedV[\\x92\\xdb\\xa8\\xa6l\\x96\\x9c\\xd4h\\xe7(\\xa7\\xa4&\\xa7\\xa4\\xa6\\xddeX\\xcb\\xb9\\x9e\\x94\\xba\\x9a\\x1f7\\xb7\\xf3\\xbd\\xcf\\xb8t#\\xa2\\xfc6\\x8f\\xff/\\xe4\\xe3t/\\xbf\\xcc\\xc2r%y\\x92i\\x0b\\xf5M\\xce=\\x96\\x0c\\xebD<{r\\xd1\\xa0\\xad7^z\\x87&\\x9e\\x0cx\\xd7\\xd2@s\\xcd\\xb8_\\x87\\xb5\\xb2I<\\xcberZ\\x02\\x9bD\\xb2\\xccWq\\xcc\\x8b\\xcb~,\\x82\\xf0\\xd4\\xdd\\xf9Fx\\xd2\\xeaK!?rK\\xa8T0o\\xa1\\xbehH\\x07\\x97\\xd1v\\xf4\\xf7\\x1e\\x10\\xe2MN\\xd8uJu\\x85^\\x9f\\xa9\\xf0\\xfb\\xbe\\x17\\xc8\\xc8\\xb4p\\x9c\\xfa\\xfd\\xf2\\xba\\x9c\\xf0\\x1b\\xc6#Wr\\xd9N\\xb3%\\x8c\\x05\\x0c\\xf4\"\\xab\\x87\\x8da\\x0f\\x1b\\xc3\\x86\\x9e\\xd5UW:\\xf9;E8\\xc1\\xc9\\xde\\x9a\\xfe!7\\xa9h\\xd9\\xac\\x83\\xb3I$\\xcb\\xf2*\\xf6yq\\xd9\\x8fE\\x10\\xec\\xac\\xf4\\xd8|\\x1a\\x0b\\xa1\\xa6(\\xfe\\x18\\x06\\x00\\xaa\\xbf\\x0fN \\x10\\xe7(\\x14\\xc5\\xbf\\xe0>\\xd03\\x13P\\xc2X\\xc0@\\x8f\\x10\\xe2\\x1e\\xfd\\x9dI\\xfd~3\\xadf\\xef\\x07\\x80\\x9a\\xc2\\xcc\\xd8\\xb5\\xbf\\xdeS\\x12\\xb3T\\xf6yb\\xd94K\\x9b\\xe4\\xb2\\xbca\\xcb>\\xe3+\\xc7\\x0e7\\xa4\\xb1+\\xe0\\x95\\x99_\\x00@^\\xdb\\x88\\xbeP^\\xdb\\x18\\x00*\\xb3\\xbe5\\xaa)\\x06\\x02J\\x18\\x0b\\x18\\xe8\\x11B\\xdcs8\\x9f\\xfe\\xf9\\xe4\\xa2\\xfcX?\\xe3\\x91+\\xcc&n$\\n\\xe5\\xb5\\x0cM\\xc7\\xaf\\xab\\xcaN\\xb6\\x9e\\x7f\\x98(a\\x9f\\'\\x96e\\xb3\\x0c\\x11\\x99\\xb9\\x84c\\xc6\\xd7\\x86Z\\xe6y\\xb0\\r\\xa9\\xab(\\x06\\x009\\xc5?\\x8e\\xd3 \\x1e\\xd6\\x97\\x17\\xb1\\xbe\\x86\\x0b\\x82K\\x18\\x0bx3\\x16\\xd1\\xe32\\x91,\\x92fF#\\x96\\x01@\\xd6\\xf3\\xcb\\xf5\\x95\\xa5D\\t\\xa5\\xa6*\\xeb\\xd9E\\xe3\\x11\\x7f\\xac\\xe9q\\x93\\'\\xb6Q8f|\\x15k\\x02M\\x18\\x0b8\\xa3G\\xf4\\xf0\\x00w\\xc4\\x91\\xaaeg\\x8d\\xb6\\xbd\\x8b\\x13#\\xb2B\\xae\\x18\\x8fX\\x0e\\x009\\x117U\\xad\\xba(\\x19\\xb5\\xa2\\xd5\\xe12Ol\\xa3p\\xcc\\xf8\\xdalH\\xca\\x1a\\xb5%y\\xf5U\\x15\\xf4\\xef$\\xea\\xab*\\x00@NE\\x93\\x87\\x06\\x05\\x9d0\\x160\\xd0#\\x84\\x1a\\xcbh\\xc4\\xf2\\xe2\\xc4\\x88\\xcc\\xc0s\\x86C\\x16\\xca\\xc8\\xcae>9m\\xbd\\xf0\\x18\\xedY\\xee\\xf3\\xc46\\n\\xc7\\x8c\\xaf,\\tb\\x8d^\\xc9\\xd0\\xa6\\xb6$\\xaf\\xa6 \\x83>\\xd0\\xd7\\x14\\xa4\\x03\\x80\\x92A\\xcbF5\\x05\\xcd\\x920\\x160\\xd0K\\x12q\\xc9\\xe6J\\xa0_\\x1dZ6\\xa2\\xf3\\x8e\\xa9\\xbd\\x18*\\xc4~\\xcb\\x1e\\xb9\\xebn=\\x85\\xca\\xdbp(T\\xea\\xcd\\xf0O{\\xeeDg\\x16\\x963\\xb7\\xb0\\xe3V\\xe4Q\\xbf\\xb7\\xb4\\x87b\\xf1\\x1d\\x13\\x1d\\x9a\\xb6\\xfdT\\xcc\\xda\\x97\\xff\\x8c\\xcf\\x8d\\xb8%\\xa7\\xa4&\\xafe\\xa0\\xd6\\xb2+\\xedY\\x1e\\xf3\\xc4\\xca\\xc8\\x00\\x95J\\xad\\xaf\\x93\\x91#\\x01\\x00m]\\x88\\x86s\\xc6WV\\x04\\xb1F\\xaf\\xd1\\xce\\xb1\\xe4Sd\\xd9\\xf77\\xca&mh\\x85e\\xdf\\xdf\\x02\\x80f\\xfb\\x06\\x13\\x19\\xb2\\xd4<\\tc\\x01\\xd7\\xe8%\\x898F\\xab\\xbc\\xcb\\xcb\\xf2./c\\x8e\\xf2U5u\\xcb\\xcf>\\xab\\xa7\\xb0:\\x88\\x87\\x0b\\xcf\\xe3S\\x07l\\xb9u5,1\\xb3\\x90\\xc5\\x91m\\x00\\xb0u\\xb2\\x03\\xf1\\xd2\\xbc\\xb5\\x8f\\x88E\\x9b\\x8c\\x80\\x7f3\\xfcO\\x18\\x8dXA\\xff\\x14oyb\\xe5\\xd5[\\x00@Mq6\\xf1\\xb0\\xfcg<C\\x05\\x8e\\x19_\\x9b\\x8d^\\x9f\\xa9\\xb2\\n\\xca9\\x117\\xe9\\x0bs\"n\\xca)\\xa8\\xe8\\xf5\\x9e\\xc2};\\xcd\\x960\\x160\\xd0#\\xd1\\xb4\\xd3\\'\\xaa\\xd3\\xefS6y\\xb0\\xd1;l\\xfdx\\xfbGn\\xe3\\xf9\\xd8%DO\\xbb\\xdb(E=\\xf3\\xaa\\x9c\\x14*\\xa5^\\xab\\xe3@\\xfa\\xa7\\xd4[\\xf5\\x00\\x80t\\xbf\\xe3u\\x15%u\\xe5E?\\xef\\xec\\xe5\\xa6A\\r\\xdb\\xbe\\x00\\x90\\xe1\\xffo}eie\\xe6\\xd7\\x9c\\xb0\\xeb\\x0c\\x15L\\xc7\\xadU\\xd4\\xb7L\\xf6v\\xcb\\x7f\\xedWWVX_UV\\x18\\x17\\xf4\\xf5\\xfc\\xdf\\xe6\\xce\\x9b\\xf84&n\\xc9k\\xea[\\xcd\\xd8]\\xfa\\xf5u\\xcau\\xf7\\xba\\xb2\\x82\\xba\\xb2\\x82\\x94\\xeb[K\\xbf\\xc5Z\\xce\\xdaC\\xdb\\xebI\\xad\\xaf\\x8b\\x9co\\xfc\\xca\\xa5\\x03\\x9bv\\x88\\x84\\xb1\\xa9\\xf7<\"\\xe7\\x1b\\xd3\\xff\\x13D\\x9fq\\xe9\\x06\\x89\\x9c\\x97I\\x19\\xbe\\xaf\\xbf\\x87\\xee\\x9ar\\'\\xf2\\x0bo-\\x84\\xef\\x9eJ\\x92\\xc3I\\x8c\\x00\\xc9\\xc8\\xca\\x19\\r[\\xfa\\xfd\\xbf\\r\\xc4\\xd4\\x9e\\x1e\\x0fyb\\x01\\xc0b\\x8a;\\xb5\\xbe>\\xff\\xd5\\xc3\\x9c\\x88\\x9b\\x1amz[\\xcd\\xdcC\\x1c\\x1d\\xc3}\\xc6\\xd7\\xe6\\xd4\\xa2\\xf7d\\xb2\\xa6~\\xba\\xdf\\xb17\\xebz\\x02\\x80\\x8aE\\xc7v\\xab\\xaf\\xd3\\x1fjV\\x9d\\x9f\\x0e\\x00*\\xa6\\xec>\\xfa\\xd4l\\tc\\x01\\x03=\\x125\\xe5U\\xb5+\\xcf\\x05{\\xfd\\xd5\\xbf\\xa1\\xb30\\xb9\\x81Q\\xbe\\x19\\xe8\\xf7\\x9f\\xa5\\xdf\\x7f\\x16s9\\x0fyb\\x01\\x80\\xa4\\xaam\\xb3\\xe88\\xfbj\\xec3\\xbe63M\\xdb~\\x9a\\xb6\\r\\xae\\xc8\\xe7\\xc7<\\x00\\x00\\x96\\xdf\\x1f\\x9a\\xe6<\\xdc\\r\\x03\\xbdH\\xa0\\xbf39g\\x80\\xad\\xe7\\xdc~\\x00\\x90QP\\xd6\\xd1\\xf5\\nQH\\xac&\\xb3\\xcf\\x13\\xcb\\xa6Y\\xdab4\\xcb\\x1b\\xb6\\xec3\\xber\\xecpCx[\\x01\\xdf|=\\xa2\\xaf\\xad\\xc9\\xe0\\x8ef<\\\\\\x8b\\x90((\\xf9\\x1c\\x9d\\xf6\\xe8\\xb0n\\x0f\\'\\x9dn\\xcd}\\xff\\xa0!\\x18\\xe8EB\\xde\\xe5e\\x7f\\x1d{\\xe2\\xfb\\xfa\\x9b\\xcbh\\xbb-\\x93z\\x12\\x85F\\xda\\xaa\\x1b\\'\\xda\\'g\\x17\\x1f_\\xf8\\xebX\\x1b\\xf6ybY6\\xcb\\x10\\x91\\x99K8f|m\\xa8e\\xdeG\\xdb\\xb0g\\x1f~\\x86&\\xa4\\x85\\xeej\\xc4\\x1d-\\x84\\x9a\\x01\\xb1\\xdcD\\x7f\\x1e=\\x1b9\\xe17\\x0c\\x06\\xce5\\x9b\\xb0\\xb1\\xe9\\xaf\\xcbp\\x1e=\\xcf0\\xd0\\x8b\\x8aU\\xa3\\xbb\\xf8\\xbe\\xfev\\xf1Y\\xfc\\xdf\\xa3\\xed\\xd4\\x94\\xe4\\x01\\xa0\\xaa\\xa6\\xee\\\\P\\xfc\\xfd\\xf5\\x7f\\x1c\\x12B\\xe4\\x89\\x05\\x80\\xbd3\\xfb8l\\xb8\\xee\\xe5\\x1b\\xcb&\\xd0s\\x83\\xc8\\xf8zd\\xfe\\x00\\xe2\\xc4y\"\\xe3\\xeb\\x9c\\xa3\\x01\\xc7\\x1f\\xbf#\\x12\\x016\\x9b\\xe2\\x8a\\xea\\xd5\\x17B\\xfe]<X\\xe5w\\x0e,\\x84\\x84\\x8e\\x87\\x05\\x16\\xeby\\x87\\xf8\\xf5\\xeaf\\xcenf\\xcenMo\\x07\\x972EE\\x17K=\\xc7v\\xc6%\\x955\\x17\\x83\\x13\\x88\\x92kaI]\\xad\\xf4Z\\x1bk\\xd1\\xea\\xe4]^F;.\\x98M\\x9e\\xd8Fa\\x93\\xf1\\xb5\\x89-7\\xd6\\xfa+ac\\xba\\xb7\\xec\\xd5\\xc6\\x88sU\\x84Pc\\xe0\\x8c^\\x84\\xac\\x1ae\\x17\\xf61\\xfd\\xd4\\x93\\xb8%\\xc3:\\xca\\xc9\\xca\\x9e\\xf0\\x7fwj\\xc9`\\xda\\xb3\\xdc\\xe7\\x89m\\x14\\x8e\\x19_Y\\x12\\xc4\\x1a\\xfd\\xed\\xc8\\xcf\\x00p\\xeaI\\\\C\\xaf\\x85\\xdb\\xde\\x11\\xe2\\r\\x06z\\x112\\xa0\\xbdi\\x07s\\xdd\\x0f?\\xf2n\\x84\\x7fRS$\\x1bj\\xabt\\xb76\\xa0=\\xcb[\\x9eX\\x19\\x19\\xa0R\\xa1\\xb6\\x9eB\\x96\\x93\\x05\\x80\\x92J\\xc6O\\xafp\\xcc\\xf8\\xca\\x92 b.s\\x9b\\xc4\\x001\\xbe#\\xd4D\\xb8t#ZV\\x8d\\xb2\\x03\\x80c\\x8f\\xdf\\x1e\\xf1{\\xfb\\xf7\\xa8?6\\x08\\xf3\\x96\\'\\x96\\xd8<\\x93]TA<\\xfc\\xf0\\x831\\xd5\\x19\\xc7\\x8c\\xaf\\x08!q\\x87\\x81^\\xb4\\x8c\\xed\\xde\\xd2BO#9\\xbb\\x98B\\xa1\\x0e\\xeedN\\xff\\x14oyb\\xfb\\xdb\\x9a\\x02\\xc0\\xf1\\xc7oK*k\\xbed\\x16z\\xbfHd\\xa8\\xc0M\\xc6W\\xd1Q[O\\xd1\\x9ds\\xb2\\xf5\\x8a\\x0b\\xc2\\xee\\x08B\\xe2\\x04\\x97nD\\x8b\\x9c\\xac\\xcc\\x8a\\x11\\x9d\\xd7^~\\xb1j4\\xe3)}<\\xe4\\x89\\x05\\x80\\x1d\\xd3z\\xd7Q(\\xf7\\xa2\\xbf^\\x0bKrlg\\xec1\\xbb\\xaf\\xcf\\xcb\\xcf\\xd0\\x98\\x8c\\xafBA\\xbf*E\\xbf\\x80\\x93\\x9e_\\n\\x00\\xb6\\xa6\\xba<\\xb7\\x80\\x90\\x14\\xc2@/r\\xe6\\x0e\\xb4\\x9d;\\xd0\\x96\\xb9\\x9c\\x87<\\xb1\\x00\\xa0\\xa3\\xa6xz\\xc9\\x10\\xf6\\xd5\\xd8g|\\x15\\x8a\\x86\\x82\\xf2\\xdd\\xa8\\xaf\\x000g\\x00\\x8b\\xef\\x0f\\x97- frrr\\xf9\\xaf\\x1f\\t\\xe8\\x94\\x15$\\x14$\\xd2\\x1f\\xb1\\x1d\\x03=\\x12\\x1bQ\\x9f2=\\x1f\\xbe\\x9e\\xd0\\xd3f\\x9c}\\xa3O\\xfdFl\\xec\\xdd\\xbbw\\xc2\\x84\\t\\xc2\\xee\\x05\\xe2\\x1b99\\xb9\\x91#G\\xd2\\x97`\\xa0G\\xc2D,\\xaa\\xb0<\\x8f\\x9e\\xd9\\xd5\\xb0\\xc4\\xf9\\x83;lv\\xee\\xd9\\xf4\\xd7e8\\x8f^\\xcaYXXXXX\\x08\\xbb\\x17H\\x800\\xd0#\\xe1\\xe0ai\\xe5\\xd8\\x82\\x81\\x9c+qg\\xebd\\x87\\xad\"y\\xb7\\x19!A\\xc0]7\\x08!$\\xe10\\xd0#\\x84\\x90\\x84\\xc3@\\x8f\\x10B\\x12\\x0e\\x03=B\\x08I8\\x0c\\xf4\\x08!$\\xe10\\xd0#\\x84\\x90\\x84\\x93\\xa8\\xed\\x95\\xc4\\x87\\xc1\\xb89\\xd3\\x11!\\xc90\\xd5\\xaa\\xbb\\xb0\\xbb\\x80\\xc4\\x80\\x0c\\x95J\\x15v\\x1f\\xf8\\xa6\\xaa\\xaa\\xea\\xf1\\xe3\\xc7\\xf5\\xf5\\\\\\x1d\\xeb(\\xc1RSS7o\\xde<x\\xf0\\xe0Y\\xb3\\xd8\\xe5&\\x16ST*u\\xcb\\x96-\\x15\\x15\\x15\\xbbv\\xedRVf\\x97\\xd8V\\x1at\\xef\\xde\\x1d?\\xeb\\x848\\x92\\xa8@\\x8f\\x00\\xa0\\xa0\\xa0\\xa0G\\x8f\\x1ezzz\\xc1\\xc1\\xc1\\n\\n\\x8d8b^\\x8cdff\\xda\\xdb\\xdb\\xdb\\xda\\xda>z\\xf4\\x88\\xe1L\\x0f\\x84\\x103\\\\\\xa3\\x97(\\xb5\\xb5\\xb5\\xce\\xce\\xce\\xb5\\xb5\\xb5\\xf7\\xee\\xdd\\x93\\xd4(\\x0f\\x00\\x86\\x86\\x86\\x0f\\x1e<\\x08\\x0b\\x0b[\\xb7n\\x9d\\xb0\\xfb\\x82\\x90\\x18\\xc0\\xd9\\x90DY\\xb5jUTTTXX\\x98\\x9e\\x9e\\x9e\\xb0\\xfb\"Xvvv\\x97/_\\x9e<yr\\xeb\\xd6\\xad\\x17/^,\\xec\\xee $\\xd2pF/9N\\x9e<y\\xfa\\xf4\\xe9K\\x97.u\\xed\\xdaU\\xd8}i\\x0e\\xce\\xce\\xce[\\xb6lY\\xb9r\\xe5\\xf3\\xe7\\xcf\\x85\\xdd\\x17\\x84D\\x1a\\xae\\xd1K\\x88\\xb0\\xb0\\xb0\\xc1\\x83\\x07o\\xde\\xbcy\\xcb\\x96-\\xc2\\xeeK\\xf3\\xa1R\\xa9\\xd3\\xa7O\\x7f\\xfa\\xf4itt\\xb4\\xb5\\xb55\\xe7\\x0b\\x10\\x92J\\x18\\xe8%AJJ\\x8a\\xbd\\xbd\\xbd\\xa3\\xa3\\xe3\\xed\\xdb\\xb7edd\\x84\\xdd\\x9dfUYY\\xd9\\xbf\\x7f\\xff\\x92\\x92\\x92\\xc8\\xc8HMMMaw\\x07!Q\\x84\\x81^\\xec\\x95\\x96\\x96\\xf6\\xea\\xd5\\x8bD\"\\x85\\x87\\x87\\xab\\xa8\\xa8\\x08\\xbb;B\\x80\\x9bp\\x10b\\x0f\\xd7\\xe8\\xc5\\x1b\\x85B\\x991cFnn\\xee\\xc3\\x87\\x0f\\xa53\\xca\\x03n\\xc2A\\x88\\x13\\x9c\\xfe\\x88777\\xb7\\x80\\x80\\x80\\xa0\\xa0 SSSa\\xf7E\\x98p\\x13\\x0eBl\\xe0\\x8c^\\x8c\\xf9\\xf8\\xf8xxx\\x9c<y\\xb2o\\xdf\\xbe\\xc2\\xee\\x8b\\xf0\\xe1&\\x1c\\x84\\x1a\\x82k\\xf4\\xe2\\xea\\xcd\\x9b7\\x8e\\x8e\\x8eK\\x97.=x\\xf0\\xa0\\xb0\\xfb\"*p\\x13\\x0eB,a\\xa0\\x17K\\xc4\\xed\\xc7v\\xed\\xda=~\\xfcXNNN\\xd8\\xdd\\x11!\\xb8\\t\\x07!f\\x18\\xe8\\xc5OUUU\\xbf~\\xfd\\x8a\\x8b\\x8b\\xa3\\xa2\\xa20\\x961\\xc3M8\\x081\\xc05z1C\\xa5R\\x17,X\\xf0\\xe5\\xcb\\x97\\x87\\x0f\\x1fb\\x94g\\t7\\xe1 \\xc4\\x00\\xe7;bf\\xdf\\xbe}7n\\xdcx\\xf8\\xf0a\\xabV\\xad\\x84\\xdd\\x17\\xd1\\x85\\x9bp\\x10\\xa2\\x87K7\\xe2\\xc4\\xdf\\xdf\\x7f\\xcc\\x981^^^\\xabV\\xad\\x12v_\\xc4\\x80\\xbb\\xbb\\xfb\\xde\\xbd{\\x9f<y2`\\xc0\\x00a\\xf7\\x05!a\\xc2@/6\\x12\\x13\\x13\\x1d\\x1c\\x1c\\xc6\\x8f\\x1f\\x7f\\xf1\\xe2Ea\\xf7E<\\xe0&\\x1c\\x84\\x08\\x18\\xe8\\xc5\\x03\\x91ND__\\xff\\xd9\\xb3g\\x12|\\xd0<\\xdf\\xe1&\\x1c\\x84\\x00o\\xc6\\x8a\\x05Z:\\x91\\xbbw\\xefb\\x94o\\x14%%\\xa5\\xfb\\xf7\\xef\\x97\\x95\\x95M\\x9d:\\xb5\\xae\\xaeN\\xd8\\xddAH80\\xd0\\x8b\\x01\\x17\\x17\\x97\\xa8\\xa8\\xa8;w\\xeeH|:\\x11A\\xc0M8\\x08a\\xa0\\x17u\\'O\\x9e<u\\xea\\x94\\xf4\\xa4\\x13\\x11\\x04b\\x13\\xce\\xe1\\xc3\\x87O\\x9f>-\\xec\\xbe $\\x04\\xb8F/\\xd2\\xa43\\x9d\\x88\\x80\\xe0&\\x1c$\\xb50\\xd0\\x8b.iN\\'\"\\x08\\xb8\\t\\x07I-\\x0c\\xf4\"\\n\\xd3\\x89\\x08\\x02n\\xc2A\\xd2\\t\\xd7\\xe8E\\x11\\x85B\\x999s\\xa6\\x94\\xa7\\x13\\x11\\x04\\xdc\\x84\\x83\\xa4\\x13\\x06zQ\\xe4\\xe6\\xe6\\xe6\\xef\\xef\\x7f\\xeb\\xd6-)O\\'\"\\x08\\xb8\\t\\x07I!\\x0c\\xf4\"\\x07\\xd3\\x89\\x08\\x1an\\xc2A\\xd2\\x06\\xd7\\xe8E\\x0b\\xa6\\x13i6\\xb8\\t\\x07I\\x0f\\x0c\\xf4\"\\x04\\xd3\\x894\\'\\xdc\\x84\\x83\\xa4\\x07\\x06zQQUU\\xd5\\xbf\\x7f\\xff\\xa2\\xa2\"L\\'\\xd2lp\\x13\\x0e\\x92\\x12\\xb8F/\\x12\\x88t\"\\x9f?\\x7f\\xf6\\xf5\\xf5\\xc5\\x88\\xd3lp\\x13\\x0e\\x92\\x12\\x18\\xe8E\\x02\\x91N\\xe4\\xea\\xd5\\xab666\\xc2\\xee\\x8bt\\xc1M8H\\x1a`\\xa0\\x17>\\x7f\\x7f\\xff-[\\xb6xyy\\x8d\\x181B\\xd8}\\x91F\\rm\\xc2\\xb9y\\xf3\\xe6\\xcd\\x9b7\\x85\\xd5+\\x84\\xf8\\x08\\xd7\\xe8\\x85\\x0c\\xd3\\x89\\x88\\x08\\xfaM8\\x14\\ne\\xe3\\xc6\\x8d\\x1e\\x1e\\x1e\\x9a\\x9a\\x9a999d2Y\\xd8\\xbdC\\xa8I0\\xd0\\x0b\\x13\\xa6\\x13\\x11\\x1d\\xb4M8\\xc1\\xc1\\xc1\\x9b6m\\n\\x08\\x08\\xa8\\xaf\\xaf\\x97\\x91\\x91\\xb9w\\xef\\xde\\xb8q\\xe3\\x84\\xdd;\\x84\\x9a\\x04\\x03\\xbd\\xd0\\xd4\\xd6\\xd6\\x0e\\x1f>\\xfc\\xdb\\xb7o111x\\xd0\\xbc(\\xa8\\xa8\\xa8\\xe8\\xd3\\xa7O^^^ff&qo\\x96D\"\\x8d\\x1c9\\xf2\\xc1\\x83\\x07\\xc2\\xee\\x1aBMB\\x12v\\x07\\xa4\\x97\\x8b\\x8bKdddXX\\x18Fy\\x11\\x11\\x17\\x17\\xf7\\xe3\\xc7\\x8f\\xd2\\xd2R\\xda\\x0e\\x9c\\xba\\xba:??\\xbf\\xdc\\xdc\\xdc\\x16-Z\\x08\\xb7o\\x085\\x05\\xde\\x8c\\x15\\x0eL\\'\"j\\xae_\\xbf\\xde\\xaf_\\xbf\\xe2\\xe2\\xe2\\xda\\xdaZ\\xfar\\x19\\x19\\x99\\xeb\\xd7\\xaf\\x0b\\xabW\\x08\\xf1\\x05\\x06z!\\x08\\x0b\\x0bsuu\\xdd\\xbe}\\xfb\\xe4\\xc9\\x93\\x85\\xdd\\x17\\x04\\x00\\xb0g\\xcf\\x9e\\xe9\\xd3\\xa7\\xd7\\xd5\\xd5\\xd5\\xd7\\xd73<U__\\x7f\\xe6\\xcc\\x19\\xa1\\xf4\\n!~\\xc1@\\xdf\\xdcRRR&N\\x9c8z\\xf4\\xe8\\xcd\\x9b7\\x0b\\xbb/\\xe8\\x17\\x12\\x89$\\'\\'G\"\\xb1X\\xc9\\xa4R\\xa9\\t\\t\\t\\xef\\xdf\\xbfo\\xfe^!\\xc4/\\x18\\xe8\\x9bUii\\xe9\\xd8\\xb1c\\x8d\\x8d\\x8d\\xaf\\\\\\xb9\\x82I\\xa3D\\xc7\\xbau\\xeb\\x12\\x12\\x12\\xfa\\xf4\\xe9\\x03\\x00\\xcc?\\x172\\x99|\\xf9\\xf2ea\\xf4\\x0b!\\xfe\\xc0]7\\xcd\\x87B\\xa1\\x8c\\x1f?>::\\xfa\\xd5\\xabWx\\xd0\\xbch\\xf2\\xf5\\xf5]\\xb4hQ^^\\x1e\\xc3\\x89\\x08ZZZ\\xd9\\xd9\\xd9\\xb8\\xa1\\x1e\\x89)\\x9c\\xd1\\x0bJ\\\\\\\\\\x1c\\x85B\\xa1/qss\\x0b\\x08\\x08\\xc0t\"\\xa2l\\xcc\\x981_\\xbf~uss#\\x91H\\xf4a\\xbd\\xa8\\xa8(  @\\x88\\x1dC\\xa8)0\\xd0\\x0b\\xc4\\xbbw\\xef\\xbat\\xe92z\\xf4\\xe8\\xd2\\xd2R\\xa2\\x84H\\'r\\xe2\\xc4\\tL\\'\"\\xe2TTT\\xb6o\\xdf\\x9e\\x90\\x90\\xe0\\xe8\\xe8\\x08\\xbfWr\\xe4\\xe4\\xe4.\\\\\\xb8 \\xec\\xae!\\xc4#\\\\\\xba\\x11\\x88\\xd5\\xabW\\x1f;v\\x0c\\x00\\xac\\xac\\xac\\x1e?~\\\\\\\\\\\\\\xec\\xe8\\xe8\\xb8l\\xd9\\xb2\\x03\\x07\\x0e\\x08\\xbbk\\xa8\\x11\\xae_\\xbf\\xee\\xe2\\xe2RXXXWWG\"\\x91233uuu\\x85\\xdd)\\x84\\x1a\\r\\x03=\\xff\\xd5\\xd5\\xd5\\x19\\x18\\x18\\xe4\\xe7\\xe7\\x03\\x00\\x89DRVV644\\xb4\\xb2\\xb2\\xf2\\xf5\\xf5\\xc5t\"b\\xa7\\xb4\\xb4t\\xc7\\x8e\\x1d\\x87\\x0e\\x1d\\xaa\\xaf\\xaf?z\\xf4\\xe8\\xca\\x95+\\x85\\xdd#\\x84\\x1a\\x8f\\x8a\\xf8\\xcd\\xd7\\xd7\\x97\\xfe;,\\'\\'\\'++\\xbbm\\xdb6a\\xf7\\x8bw\\xae\\xae\\xae\\xc2\\xfa\\xfdD\\xa89\\xb9\\xba\\xba\\n\\xfb\\x7f\\x9b@\\xe0\\x11\\x08\\xfcw\\xf9\\xf2e2\\x99L\\xfb\\x80%\\xf1\\x19\\x9c\\xed\\xdb\\xb7\\xa7\\xa5\\xa5\\x9d8qB^^^\\xa8\\xbd\\xe3EZZZ\\xcf\\x9e=W\\xaf^-\\xec\\x8e $@^^^iii\\xc2\\xee\\x85@`\\xa0\\xe7\\xb3\\xa2\\xa2\\xa2\\x07\\x0f\\x1e0|\\x8c\\x1e\\x00\\xa8T\\xea\\xc5\\x8b\\x17\\x93\\x92\\x92\\x1e<x\\xa0\\xad\\xad-\\x94\\xbe5\\x85\\xa9\\xa9\\xe9\\xa4I\\x93\\x84\\xdd\\x0b\\x84\\x04\\xc8\\xc7\\xc7G\\xd8]\\x10\\x14\\xdcu\\xc3g>>>\\x0c\\xbb*i\\xa8TjxxxXXX3w\\t!$\\xe50\\xd0\\xf3\\xd9\\x85\\x0b\\x17\\xa8\\xac\\xeeo\\x93H$33\\xb3\\'O\\x9e\\xe0\\xe1\\xe6\\x08\\xa1f\\x86\\x81\\x9e\\x9fRRR\\xa2\\xa3\\xa3\\x19f\\xf4d2YAAa\\xd3\\xa6MIIIC\\x87\\x0e\\x15V\\xdf\\x10BR\\x0b\\xd7\\xe8\\xf9\\xe9\\xd2\\xa5K$\\x12\\x89\\xb6@/++K\\xa1P\\x06\\x0f\\x1e|\\xf2\\xe4I\\x0b\\x0b\\x0b\\xa1v\\r!$\\xbdpF\\xcf7\\xc4\\xedVZ\\x94\\'\\x91H\\xc6\\xc6\\xc6~~~\\x8f\\x1f?\\x96\\x92(/\\xc3\\x05\\x86\\x9a\\xc2\\xed\\xb0\\xc8\\x12\\xdc\\xf7G\\xbc\\xbe\\xf3\\x81\\x81\\x81\\x03\\x06\\x0cPWWWWW\\x1f8p`PP\\x10\\xc7K\\xd8\\xfc\\xd6I3\\x0c\\xf4|\\x13\\x1e\\x1e\\xfe\\xf3\\xe7O\\x00 \\x93\\xc9$\\x12i\\xcd\\x9a5\\x9f?\\x7f\\x1e9r\\xa4\\xb0\\xfb\\xd5|\\x88\\x1d\\xbb\\xf4_3\\xa0\\xaf)\\xa4>\\x8a\\x07.\\xbf?\\x8e\\x8e\\x8e\\xc49\\r|oY\\x14\\\\\\xfe_{\\xf7\\x1d\\xd7\\xd4\\xf56\\x00\\xfc\\t\\x19\\x10 \\x84\\xbd\\xc2\\x1enEp\\x81\\x88Z\\xdc\\xbb\\xaf\\x13Zm\\xad{\\xb4\\xa8\\x95\\x9fZ\\x1c8Q[q\\xd7Y\\xb4\\xa2hAm\\xb5\\x8a\\xd6\\xad\\x08\\xa2\\xa2\\xe0DE\\xf6&\\xcc\\x0cVH\\xc8\\xfb\\xc7\\xd5kHB\\x12B \\x10\\xce\\xf7\\xd3?\\x92\\x93s\\xee=7\\x85\\x87\\xeb\\x93\\x93\\xf3\\x9c:5r\\xe4\\xc8\\x9e={\\xa6\\xa7\\xa7\\xa7\\xa7\\xa7\\xf7\\xe8\\xd1c\\xe4\\xc8\\x91g\\xce\\x9cQ\\xf7\\xbc\\xda%\\x94\\xbaQ\\x99\\xf0\\xf0p\\xec\\xc1\\xd0\\xa1C\\x0f\\x1d:\\xe4\\xe2\\xe2\\xa2\\xde\\xf9 \\x1a\\xaf\\xb1\\xf5]\\x1a\\xa0\\xa0\\xa0`\\xe9\\xd2\\xa5^^^\\xfb\\xf6\\xed\\xc3n\\xc9\\xf7\\xed\\xdb\\x97\\x90\\x90\\xb0d\\xc9\\x92\\x11#FXXX\\xc8\\x18\\xdb\\x8e\\xfe\\x98\\xb5\\x9a\\x06w\\xf4\\x0f\\x1f>$\\x93I\\x8a\\xfc\\x03\\x1c\\x91\\xf4\\xc7\\x1f\\x7f`o\\xe3\\xad[\\xb7\\\\]]\\xd5=\\x9dO\\xda\\xd4\\xb7\\x9c\\xd0o\\xa0j\\xc5\\xc5\\xc5\\xc5\\xc5\\xc5\\xa9{\\x16\\x90\\x9d\\x9d\\xbds\\xe7\\xce^\\xbdz\\xa9\\xf0\\x98aaa\\x95\\x95\\x95s\\xe6\\xcc!\\x88\\xa4\\xfb\\xe6\\xcc\\x99\\xc3\\xe1p\\xd0\\xeerJhpG_PP\\xc0\\xe7\\x0b\\x8eN\\xef\\xa4\\xae\\xd9\\xb4k9\\xe5\\xb5\\xe64\\xb26\\xa9\\re\\xc3\\x8e>*h#\\xdf\\xf4#\\x10\\xd0\\xaeJ\\x9a\\xa6\\xac\\xac\\xec\\xfc\\xf9\\xf3\\x11\\x11\\x11\\xb1\\xb1\\xb1ZZZ\\xbe\\xbe\\xbe*<8\\x96\\x8e\\x1f0`\\x80h#\\xf6\\xf4\\xe6\\xcd\\x9b\\xbf\\xfc\\xf2\\x8b\\n\\xcf\\xd5\\x11HI\\xdd\\x8c\\xefn\\xd2\\xfa\\xf3@Z\\xc2\\x95\\xb7\\xa5\\xea\\x9eB\\x13\\x14\\x16\\x16\\x06\\x07\\x07GGG3\\x99Lss\\xf3\\xf1\\xe3\\xc7o\\xda\\xb4I\\xf4\\x1f\\xe9o\\xdf\\xbe\\xfd\\xdf\\xff\\xfe\\x17\\x13\\x13\\xa3\\xa5\\xa5\\xe5\\xe5\\xe5\\xb5g\\xcf\\x9e\\xee\\xdd\\xbbc/a\\x7fE\\xf0\\xbb?\\xfc\\x8f\\x8ad\\x0b\\x000\\x99\\xcc\\xe0\\xe0\\xe0+W\\xae0\\x99L33\\xb3q\\xe3\\xc6m\\xde\\xbc\\xd9\\xd2\\xd2RlHvv\\xf6\\x8f?\\xfex\\xf7\\xee]]]\\xdd\\x11#F\\xec\\xdb\\xb7\\xcf\\xc4\\xe4\\xcb\\xafFMM\\xcd\\xde\\xbd{###SRR\\x04\\x02\\x81\\x83\\x83\\xc3\\xd0\\xa1Cg\\xcf\\x9e\\xed\\xe9\\xe9\\xa9\\xc8Y\\x14\\x94\\x93\\x93\\xd3\\xd8\\x1c\\xa4^\\x9a\\xdc\\xb7H\\x91#\\xcbV]]\\xfd\\xef\\xbf\\xffFDD\\xfc\\xf7\\xdf\\x7fuuu}\\xfa\\xf4\\xd9\\xbd{\\xb7\\x9f\\x9f\\x9f\\xd8\\xa5\\x11\\x14\\xf8\\x08T\\xc6\\xdf\\xfew\\xef\\xde\\x01\\x80X\\xe5\\x06;;;\\x00x\\xff\\xfe\\xbd\\xec\\xc3\\xae]\\xbb\\xf6\\xec\\xd9\\xb3\\xf9\\xf9\\xf9\\xe6\\xe6\\xe6c\\xc7\\x8e\\xdd\\xb8q\\xa3\\x95\\x95\\x95\\xdc\\xc9h6\\x94\\xa3GZ\\x84\"\\xbf\\xe7\\xa2\\n\\x0b\\x0b\\xfb\\xf7\\xef/\\x10\\x08N\\x9f>\\xdd\\xaf_\\xbf\\xa7O\\x9f\\xce\\x9c9\\xf3\\xbf\\xff\\xfe{\\xf2\\xe4\\t\\x16\\xeb\\xd3\\xd2\\xd2\\x06\\r\\x1a\\xa4\\xab\\xab\\xfb\\xef\\xbf\\xff\\xf6\\xef\\xdf\\xff\\xe5\\xcb\\x97\\x0b\\x16,\\xc0\\xc6\\x8a~\\x02,v^\\xc9\\x96\\xa2\\xa2\\xa2\\x01\\x03\\x06\\xd4\\xd4\\xd4\\x84\\x87\\x87\\x0f\\x1c80))i\\xd6\\xacY\\xb7o\\xdfNLL444\\x14\\x1d\\xf2\\xcb/\\xbf\\xec\\xd8\\xb1\\xc3\\xda\\xda\\xfa\\x97_~9|\\xf80\\x99L>y\\xf2$v\\x10\\x0e\\x87\\xe3\\xeb\\xeb\\xfb\\xe1\\xc3\\x87\\xdd\\xbbwO\\x980AOO\\xef\\xd9\\xb3gK\\x96,9z\\xf4(6\\x19\\xb9gQ\\x10>\\x87u\\xeb\\xd6\\x1d<xPt\\x0e\\x92\\x97\\xa6\\xc8[\\xa4\\xc8\\x91\\xa5\\x12\\x08\\x04\\xb7o\\xdf\\x8e\\x88\\x88\\xf8\\xe7\\x9f\\x7f\\xb8\\\\\\xae\\x93\\x93\\xd3\\xea\\xd5\\xabg\\xce\\x9c\\xd9\\xb9sg\\xa9\\xfd\\x9b\\xf9\\x0f\\xb8\\x8a\\x8a\\n\\x00\\xd0\\xd7\\xd7\\x17m\\xc4\\x9e\\x96\\x97\\x97\\xcb\\x18H\\xa3\\xd1\\x9c\\x9d\\x9d\\x13\\x13\\x13\\x85B\\xe1\\xbf\\xff\\xfe\\xfb\\xd3O?EGG?}\\xfa\\xd4\\xda\\xda\\xba9\\xf3i\\xef\\xdaP\\x9e\\x01\\xd1$\\x8d\\xad\\xb7i\\xcc\\x86\\r\\x1brrrv\\xee\\xdc\\xe9\\xeb\\xebK\\xa3\\xd1\\x86\\r\\x1b\\xb6c\\xc7\\x8e\\xac\\xac\\xac\\xe0\\xe0`\\xac\\xc3\\xc6\\x8d\\x1b+**\\xb0\\x0e\\xfa\\xfa\\xfa\\xde\\xde\\xdek\\xd7\\xaeUbb\\xc1\\xc1\\xc1YYY!!!#G\\x8e\\xd4\\xd7\\xd7\\xf7\\xf1\\xf1\\xd9\\xb3gOFF\\x86d\\xa9\\x80\\xf9\\xf3\\xe7w\\xed\\xda\\x95N\\xa7\\xafZ\\xb5\\n\\x00n\\xde\\xbc\\x89\\xbf\\xb4q\\xe3\\xc6g\\xcf\\x9em\\xd9\\xb2e\\xde\\xbcy\\x16\\x16\\x16\\xfa\\xfa\\xfaC\\x87\\x0e\\x8d\\x88\\x88P\\xe2,\\xb2\\xe1sX\\xb3f\\x8d\\xd8\\x1c$5\\xe9-j\\xd2\\x91\\x01\\xc0\\xda\\xdaz\\xf4\\xe8\\xd1\\xd7\\xaf_\\xff\\xee\\xbb\\xef\\x1e=z\\x94\\x96\\x96\\xb6e\\xcb\\x96\\xc6\\xa2\\xbc\\x1a\\xb1\\xd9\\xec9s\\xe6\\x18\\x19\\x19\\x19\\x1b\\x1b\\xcf\\x9e={\\xf3\\xe6\\xcdyyy\\x1b6lP\\xf7\\xbc\\xd4\\x0c\\x05z\\xa4M\\xb8z\\xf5*\\x00\\x88\\xe6y\\x87\\x0f\\x1f\\x8e\\xb7\\x03\\xc0\\xad[\\xb7\\xc4:xyy)q\"l\\x13\\xe91c\\xc6\\xe0-X\\xcd/\\xb1\\xcd\\xa5\\x01\\xc0\\xc3\\xc3\\x03{\\x80\\xdd\\x0c\\x16\\x14\\x14\\xe0/]\\xb8p\\x01\\x00\\xc4v\\xb3pww\\xc7\\xff\\xa4)~\\x16\\xd9\\xf09`\\xc9\\x07\\xd19Hj\\xd2[\\xd4\\xa4#\\xe3(\\x14\\x8a\\x8e\\x8e\\x8e\\xb6\\xb6\\xb6\"\\x9d\\x9b\\x03\\xfbw\\x0f\\x97\\xcb\\x15m\\xc4\\x9e\\x1a\\x19\\x19)~\\x9c\\xff\\xfb\\xbf\\xff\\x03\\x80k\\xd7\\xae\\xa9tv\\xed\\x0f\\n\\xf4Hk\\x90{S_\\\\\\\\\\x0c\\x00\\xa2\\xf5\\x9b\\xb0\\xc7L&\\x13{ZRR\"\\xd6\\xa1I9\\x10\\x1cv@kkk|a\\x12v\\xcc\\xb4\\xb44\\xb1\\x9e4\\x1a\\r{\\x80\\xed,-z\\tXX\\x94\\x91pW\\xfc,\\xb2\\xe1s\\xd0\\xd2\\xd2\\x02yoc\\x93\\xde\\xa2&\\x1d\\x19\\x00\\xf2\\xf2\\xf2\\xae_\\xbf\\xee\\xeb\\xeb{\\xec\\xd8\\xb1>}\\xfat\\xe9\\xd2e\\xcb\\x96-2.G\\x91%a2N\\xd7\\xb5kW\\x00\\xc8\\xc9\\xc9\\x11m\\xc4\\xbe\\xa7\\xd2\\xa5K\\x17\\xd9S\\x15\\x85\\xfd?\\xc2\\xde\\x99\\x8e\\x0c\\x05\\xfa\\xd6\\x13\\x93\\xc6\\x9az\\xf2m\\xe7\\x90\\xa7\\x9dC\\x9eN\\xfb3\\xf9a:\\xab\\xe5F\\xb5;\\xe6\\xe6\\xe6\\xd0\\xf0\\x17\\x12{\\x8c\\xb5\\xc3\\xe7\\xf8%\\xd9A\\x0c\\x16>\\xf0\\xef\\'\\xb3X\\xe2o\\x17\\x96\\xf1/++\\x13K.UVV*>[\\xec \\x85\\x85\\x85\\xb2;4\\xf3,M\\xa5\\xe0[\\xa4\\x1c\\x12\\x894z\\xf4\\xe8\\xd3\\xa7O\\x17\\x15\\x15\\x9d;w\\xce\\xd5\\xd5u\\xcb\\x96-...\\x9e\\x9e\\x9e\\xfb\\xf7\\xef/**\\x12\\xeb\\xafH5\\x0c\\x19\\xa7\\xc3\\xfe=\\xf7\\xe4\\xc9\\x13\\xd1\\xc6\\xa7O\\x9f\\x02@\\x936\\x8c\\xca\\xcf\\xcf\\x07\\x91\\x9f\\xa2\\x0e\\x0b\\x05\\xfaVr\\xfeE\\xb1\\x7fxrW\\x0b\\xdd\\xf8\\xe5\\x1e\\xf1\\xcb=\\xba\\x98S\\xfd\\xc3\\x93/\\xbe,n\\x89Qm\\x96\\x8c\\x9b\\xb8\\t\\x13&\\x00\\xc0\\x9d;w\\xf0\\x16l\\x81\\x1d\\xd6\\x0e\\x9f\\x7f\\xbdE;H]B\\x8e\\xdd\\xc1\\xe1\\x89\\x88\\xa4\\xa4$\\xb1\\x0e_\\x7f\\xfd5\\x00\\xdc\\xbf\\x7f_\\xb4\\xf1\\xe1\\xc3\\x87\\xf8j\\x19EL\\x992\\x05\\x00.]\\xba$\\xda\\x18\\x1f\\x1f\\xdf\\xbf\\x7f\\x7f\\x15\\x9e\\xa5\\xa9\\x14|\\x8b\\x9aIWW\\xd7\\xcf\\xcf\\xef\\xca\\x95+\\x05\\x05\\x05\\xd8g\\xd4\\xcb\\x97/g0\\x18\\xa3F\\x8dR\\xe1Y\\xe6\\xcc\\x99\\xa3\\xa7\\xa7\\'\\xf6\\xf9\\xf0\\xc9\\x93\\'\\xf5\\xf5\\xf5\\x7f\\xf8\\xe1\\x87\\xc6F\\x11\\x08\\x84\\x94\\x94\\x14\\xd1\\x96\\xbf\\xfe\\xfa\\x0bD~\\x8a:,u\\x06zFp<#8^\\x8d\\x13h5L\\x0e/(:\\xbd\\x8f-m\\xf3\\x18Gc]\\x92\\xb1.i\\xf3\\x18Gw\\x06-(:\\xa3\\x98+^\\xa2\\xa4\\x99\\xa3\\xda\\xa9M\\x9b6\\xd9\\xdb\\xdb\\xafY\\xb3\\xe6\\xee\\xdd\\xbb\\x1c\\x0e\\xe7\\xee\\xdd\\xbb\\xbf\\xfc\\xf2\\x8b\\xbd\\xbd\\xfd\\xc6\\x8d\\x1b\\xb1\\x0e\\x1b7n444\\xc4:p\\xb9\\xdc\\xd8\\xd8\\xd8\\xa3G\\x8fJ\\x1eg\\xc4\\x88\\x11\\x00\\xf0\\xdbo\\xbf\\xb1X\\xac\\xf7\\xef\\xdf\\x87\\x85\\x85I\\x9e\\xc8\\xd5\\xd5u\\xe9\\xd2\\xa5\\x17.\\\\(--\\xe5p8W\\xaf^\\xfd\\xfe\\xfb\\xefw\\xee\\xdc\\xa9\\xf8l7n\\xdc\\xd8\\xa3G\\x8f\\r\\x1b6\\x1c?~\\xbc\\xa8\\xa8\\x88\\xcb\\xe5\\xde\\xb8q\\xe3\\xfb\\xef\\xbf\\xdf\\xbe}\\xbb\\n\\xcf\\xd2T\\n\\xbeE\\xaabbb\\xb2h\\xd1\\xa2\\x87\\x0f\\x1ffffn\\xdd\\xba\\x15\\xbbwV\\x15kk\\xeb\\x83\\x07\\x0f>z\\xf4h\\xf9\\xf2\\xe5%%%%%%\\xcb\\x96-\\x8b\\x8f\\x8f?t\\xe8\\x90h\\xc6L2\\x05\\xe4\\xef\\xef\\xff\\xf0\\xe1\\xc3\\xca\\xca\\xca\\xc2\\xc2\\xc2\\xdf\\x7f\\xff}\\xeb\\xd6\\xad\\xce\\xce\\xce\\x9b6mR\\xe1\\xdc\\xda#tG\\xdf\\x1a\\xce%2\\xabx\\xf5~\\xee\\xe6\\xf8\\xcf$\\x81\\x00~\\x1ef\\xdcZ\\xc1_IL\\xd5\\x8eR#\\xd1\\xdf:\\xd99Y\\xd1n\\xd8\\x03\\x0b\\x0b\\x8b\\'O\\x9eL\\x980a\\xd6\\xacY\\xc6\\xc6\\xc6\\xb3f\\xcd\\x9a0a\\x02\\xbe\\xb6\\x12\\x00\\x9c\\x9c\\x9cbcc\\xdd\\xdc\\xdc&N\\x9chmm\\xbds\\xe7\\xceC\\x87\\x0eI\\xce!44\\xf4\\x9bo\\xbe\\x89\\x8c\\x8cd0\\x18\\xabV\\xad\\n\\t\\t\\x11;\\x91\\x89\\x89\\xc9\\x93\\'O\\xfc\\xfd\\xfdW\\xadZeee\\xe5\\xea\\xeaz\\xec\\xd8\\xb1\\xb3g\\xcf\\x0e\\x192\\xa4\\xb1\\xb9I>044\\x8c\\x8f\\x8f_\\xb6lYhh\\xa8\\x9d\\x9d\\x9d\\x83\\x83\\xc3\\xee\\xdd\\xbb\\xc3\\xc2\\xc2\\x86\\r\\x1b\\xa6\\xe0Y\\xe4\\xbe\\x93J<\\x90|\\x8b\\x0e\\x1c8\\x00\\x9f\\xb3\\xf0\\x8a\\x1f\\xa7\\xa9\\xec\\xec\\xec\\xd6\\xacY\\xf3\\xfa\\xf5k\\xe5\\x867f\\xf6\\xec\\xd97n\\xdcx\\xf1\\xe2\\x85\\xa3\\xa3\\xa3\\xa3\\xa3\\xe3\\xabW\\xafn\\xde\\xbc9k\\xd6,\\x19C\\x9e<y\\xe2\\xe9\\xe9\\xb9p\\xe1BSSS\\x07\\x07\\x87\\x83\\x07\\x0f\\x06\\x04\\x04<{\\xf6\\x0c\\xa5n\\x1a|_1**j\\xc6\\x8c\\x19y\\x9b\\x94Y\\xcc\\xa0\\x04\\xecv\\xbe\\xd5N\\xa7FSO\\xbe\\x8d\\xcfd\\xdfY\\xe2\\xd6\\xc5B\\x17o|WT5\\xfc\\xd0K/\\x07\\x83\\x0b?tW\\xe1(Q\\x0b\\xa3R\\xa8\\xdd|\\xa3\\xa2\\xa2\\x9a9\\xff\\xe9\\xd3\\xa7\\x03@\\xf3\\x8f\\xa3rXlB\\xdf\\xb9mL~~>\\x83\\xc1077\\x97\\xcc\\xa1#\\x92\\xda\\xec\\xcfy\\xf3)\\xf9\\x85\\xa9\\x92\\xca\\xba]\\xf7rn}(/\\xa9\\xac3\\xd1%\\x0f\\xefd\\x14\\xe8kk\\xaeO\\xc6^\\xc5\\x132\\t?\\xf7Y\\x1b\\x9d\\x1e\\x97\\xc1\\xa6\\x92\\xb5\\x06;\\xd37\\x8fq4\\xd2%\\x89\\xf5\\xc1\\x1e\\xf8{\\x98\\xef\\x9a\\xe4,\\xda\\xfeh\\x99\\xfb\\x96\\x9bYq\\x19lv\\r\\x1f>\\xff=`r\\xebB\\xef\\xe5\\xdcN)/\\xa9\\xac3\\xd5#\\x0f\\xefd\\x14\\xf8\\x95\\xad\\x99\\xc4y\\xef\\xfd\\xd8{\\xd3\\x7f\\x99\\xcfr8\\xf5B\\xa1\\xa7=}\\xc3({W3\\xaah\\x07\\xcc\\xa1\\xa9\\xae\\x93z\\x9a\\x02\\xc0\\x80=\\x89\\xb9\\x15\\xb5\\xd0\\xf8_\\x1dERL2\\xfeb},\\xae\\x06\\x00kz\\x83\\xb2\\xe0\\x0c:\\x05\\x00\\xd2J\\xaaU;\\n\\xe9\\xc8\\x08\\x04\\xc2\\xc7\\x8f\\x1f\\xf1\\r\\xf5bbb\\x00\\xe0\\xab\\xaf\\xbeR\\xeb\\xa4\\x10\\xf5S&\\xd0\\x17s\\xeb\\xc6\\x1f\\x7f]\\xcb\\xaf\\xdf7\\xd9\\xa5\\xaf-\\xedMAe\\xc0\\xdf\\xa9\\x0f\\xd3+n,\\xeae\\xa0C\\x02\\x80\\xbcM^Xd\\xdc~;+h\\x84\\xbd%\\x8d\\x12r;+<\\xa1\\x88D$\\xec\\xf9\\xfa\\xd3\\x8f \\xdeG,>\\xe2\\xedk\\xae\\xa6\\xaf\\xfc\\xca\\xf6\\xe0\\x14\\xd7G\\x99\\xecYg\\xde\\x01\\x00\\x93[7\\xee\\xd8+A=\\x1c\\x98\\xe2\\xe2f\\xad\\xff\"\\x8f\\xfb\\xd3\\xc5\\x8f\\xf7S+\\xae\\xce\\xef\\x89\\xc5z|\\xec\\xff.\\xa7\\xad\\x1bi\\xdf\\xcdR7)\\x97\\xfb\\xd3\\xc5\\x8f\\x93\\xc2\\xde\\xdcX\\xd4\\xcb\\xd6P;o\\x93Wl:k\\xc6\\xa9ds\\x1a%a\\x85\\x07\\x89\\xf8\\xe9\\xdf\\xaa\\xcb\\x06\\xdb\\xfc\\xf7\\xbe,\\xfc\\xdbF\\x97m5\\xf3\\x9f\\x1d\\xac\\x1a>\\x00\\xe8R\\x88\\xa2\\x8d\\xd8\\xd3\\x8a\\x1a\\x81jG!\\x1d\\xdc\\xd2\\xa5K\\xb1D\\xf6\\xe3\\xc7\\x8fW\\xaf^m``\\x80\\x7f\\xce\\x81tX\\xca\\xe4\\xe8w\\xdd\\xcb\\xc9\\xad\\xa8]3\\xccn\\x88\\xb3\\xa1\\x1e\\x858\\xc0\\xde`\\xe3h\\x87\\xec\\xf2\\xda\\xc3q\\xe2\\x9f\\xc6|\\xd3\\xc7\\xc2\\xd5\\x8cJ\\xd3!.\\x19\\xc4\\x00\\x80\\x07\\xa9MX\\x1a\\x180\\xd8\\xa6\\xaf-M\\x87\\xac\\xe5\\xebj\\x88\\xc5\\xd9]ws\\xf2Y\\xbc\\xb5#\\xec\\xbc\\x1d\\xe9\\xfa\\xda\\xc4AN\\xf4\\xa0\\x11\\xf6\\xb9\\x15\\xb5\\xbb\\xee\\xe5\\x88\\x8d]6\\xc4\\xa6\\x9f\\x1dM\\x8f\\xf2\\xa9\\x0f\\xab\\x9a\\x1f\\xfa\\xb9\\xcf \\'z7K=&\\x87w\\xe9\\xf5\\x97\\x95gaO\\n\\xe6{u\\xf4\\xdd0\\xda\\x9d\\xe6\\'\\x97\\xd5E\\xe9\\xd5\\xe5r\\xdd\\xbe}\\x9bF\\xa3y{{\\x1b\\x1a\\x1a\\xfa\\xfb\\xfb{zz>y\\xf2\\xa4I\\x0b\\xcf\\x11\\x8d\\xa4L\\xa0\\xbf\\xf5\\xa1\\x1c\\x00|]\\xbf|\\x17\\xc3\\xd3\\xde\\x00\\x00n~\\x10\\xdf\\x83\\xa2\\xa7\\x95\\x1e\\xf6\\xc0\\x92F\\x01\\x00&\\x97\\xa7\\xf8Yz3\\xf4\\xc5Zn\\xa5\\x94\\x03\\xc0 \\':\\xde\\xe2\\xe3D\\x07\\x80\\xdb)\\xe2\\xe7\\xedk\\xab/\\xd6\\xe7A\\xda\\x97\\xbf1\\x0b\\xbc\\xac\\x00\\xe0X\\xfc\\xa7\\x15xq\\x19,\\xa1\\xf0S\\xb7\\x16B\\xd7!\\x01@\\x15\\xaf\\xc1m8\\xf6\\xd4P\\x87(}\\x8c\\xb2\\xa3:\\x8e&m\\xb1\\xd0\\xa6(\\xbd\\xba\\\\\\xaea\\xc3\\x86]\\xb8p\\xa1\\xb0\\xb0\\xb0\\xae\\xae\\x8e\\xc9dFFF\\xa2(\\x8f\\x80r\\xa9\\x9b\\xd2\\xca:\\x00p\\xdf\\xf5\\\\\\xac=\\xab\\xacF\\xacE_\\xfbS<\"\\x13\\xb1\\x0f\\xcd\\x9ap\\x16*Y\\xfc\\x8fPYe\\x1d\\x00\\x18\\xeb\\x92\\xf1\\x16c]\\x12\\x00\\x94T\\x8a\\xaf5\\xc42H\\xa2}\\xcaD\\xfa|\\xdd\\xd34\\xe4v\\xf6\\xdb\\xc2\\xca\\xb8\\x0c\\x96\\xb7#\\xfd\\x8f\\xf8\\x82\\xb9\\x9er\\xf6\\x14lf\\x8e\\xde\\xd5\\x8cZRY\\x97\\xcf\\xe2\\x89N,\\x8f\\xc5\\x03\\x00gS\\xaajG!\\x08\\x82\\x88Q&\\xd0\\x9b\\xea\\x93\\x0b\\xd9\\xbc\\xe45\\xfd\\xe8\\xd4V\\xdd\\xfc\\xd2D\\x8f\\\\\\xc4\\xe1\\x95U\\xd5Y\\xd0>}>YV\\xc5\\x07\\x00S=\\xb2X\\xcf\\xf2*>\\xfe\\xa9/\\xd6\\xc7X\\xa4\\x0f\\x99H\\xf8\\xa1\\xbf\\xe5\\xce;\\xd9G\\x1f\\x15\\xd8\\x18j?\\xcf\\xe5\\x1e\\x9e&g\\x0b\\xfef\\xe6\\xe8}\\x9c\\xe8\\xf1\\x99\\xec\\xc4\\\\\\xae\\xe8\\xfa\\x99\\xa4\\\\.\\x00\\x0cqi\\xf4K\\xea\\xca\\x8dB\\x10\\xa5\\xd5\\xd7\\xd7\\x87\\x87\\x87\\xaf[\\xb7.//O\\xf1\\x7f[\\xdc\\xbau+$$\\xe4\\xf9\\xf3\\xe7\\x00\\xd0\\xb7o\\xdf\\xa0\\xa0 \\xec{\\xadH\\xdb\\xa1L\\xeaft\\x17c\\x00x\\x94\\xc9\\x16m|\\x92\\xc5\\x1e\\x7f\\xbci\\x0bi\\xb1{v\\xbe@X]W\\xdf}G\\x82\\xdc\\xfe#:\\x1b\\x01\\x80\\xe8\\x1e\\x00\\xd8c\\xac]TB\\x0eG\\xac\\xcf\\x10\\xe7\\x06\\x99\\x99\\xef\\xfaYP\\xc9Zw?\\x96\\xaf\\xbf\\x96\\xf9\\x8d\\x87\\xb9\\x8e\\xc4\\xbf\\x1eT\\xcb\\xcf\\xc3\\\\\\x97\\xa2\\x15\\xd9p\\xf1{d\\x12S\\x8fB\\x9c\\xe1\\xde\\xe8\\n_\\xe5F!\\x88rn\\xde\\xbc\\xe9\\xee\\xee~\\xe2\\xc4\\x89\\xbc\\xbc<\\xc5G\\xa1\\xca\\xae\\xed\\x822\\x01.\\xf0+[G\\x13\\x9d\\xa0\\xe8\\x8c\\xe8\\xe4\\xd2\\xf2*>\\xb7Vp;\\xa5|\\xf9?\\xa9kG\\xd87\\xe98]-\\xf4\\x00 )\\x8f{\\xebCy_[\\x9a\"\\xe7\\xb51\\xd4\\x0e\\xb9\\x95\\x1d\\x97\\xc1\\xe2\\xd6\\n\\xe22X!\\xb7\\xb3m\\x0c\\xb5W\\x0e\\xb5\\x15\\xeby:\\xa1\\xf0i6\\xa7\\x92\\xf7\\xa9\\x0f\\x9dJZ\\xf9U\\x83>\\x86T\\xd2\\xb4\\xdefB!<H\\xad\\x98\\xdd\\xbfi\\xb5 \\x94`A\\xa3l\\x1b\\xeb\\xf4,\\x87\\x13|=\\xb3\\xac\\x8a_V\\xc5\\xdfp=\\xf3y.\\'d\\xbc#\\xbe&\\x15$\\xbe*\\xac\\xe0(\\xa4\\xe54\\xff\\xd3\\xd1v$  `\\xd3\\xa6M\\xd8\\x8aL\\x05\\x89Vv555555\\xdd\\xb7o\\xdf\\x80\\x01\\x03\\x96,Y\\x82V\\xee\\xb7)\\xca\\xe4^\\x8ctI\\xd1\\xf3{\\xee\\x8d\\xc9\\xddz3+\\x9f\\xcd3\\xa2\\x92z3\\xf4\\x7f\\x9f\\xea\\xeaa\\xf3)X\\x8b\\xae\\x91\\xc7\\x92\\x1e\\x92-\\x00\\xb0u\\x9cC\\xe0\\xe5t\\xff\\xf0\\xe4\\xae\\x16z\\xfb&\\xbbH\\x8e\\x85\\x869\\x133}\\xf2\\xd5\\xf9=w\\xdd\\xcb\\xf9\\xe9bjie\\x9d\\x89\\x1eyd\\xe7\\x06\\xeb\\xe8q!\\xe3\\x9d\\xd6Eg<\\xceb\\xd7\\x0b\\x85\\x9e\\xf6\\x06\\x1bF9\\xd8\\x1a\\x8ao\\xac\\xba\\xc0\\xcb\\xfa\\xcc\\xb3\\xa2q\\xddM,\\r(\\xd0\\xf2\\xa6\\xbb\\x9bY\\x18\\x90\\x0f\\xc4\\xe4y\\xeeI\\x04\\x80^\\xd6z\\xe7\\xbe\\xeb&\\xf7\\x13`\\xe5F!\\x88\\x12\\xde\\xbcyC\"5- 4V\\xd9u\\xc1\\x82\\x05\\'N\\x9c@\\x05\\xff\\xda\\x0e%\\x93\\xect*)x\\x94C\\xf0(\\x07\\xa9\\xafJf\\xb4\\xa5\\xe6\\xb8\\xeba9\\x1b\\x00\\x00 \\x00IDAT\\xdd\\xac\\xf5o-\\x16/(,;\\x1bn\\xa6O\\xde9\\xc1i\\xa7\\xbc\\x1d\\x8al\\r\\xb5O5\\xbe(\\x1eco\\xacc\\xaaO\\x99\\'\\xefcX\\x15\\x1a\\xe2l8\\xc4YVn]\\xea\\xb5\\xcb\\x1d\\x85 *\\xd1\\xd4(\\x0f\\xa8\\xb2k\\xfb\\xd1q\\xf7\\xba\\xb9\\x93R\\xce\\xa0S\\xf0\\x7f\\x85 \\x1a\\x86\\xc9d.^\\xbc\\xd8\\xc6\\xc6\\x86B\\xa10\\x18\\x8c\\x05\\x0b\\x16\\x88\\xee*\\x8c/Z\\xcf\\xc9\\xc9\\x994i\\x12\\x8dF\\xb3\\xb0\\xb0\\x989sfii\\xa9h\\x1f\\xd1\\xce\\xf3\\xe6\\xcd\\x13\\x1b\\x9b\\x96\\x966y\\xf2d###\\xd1\\x0cOaa\\xe1\\xc2\\x85\\x0b\\xb1\\xf3\\xda\\xd8\\xd8,Z\\xb4H4\\x89\\x81\\x8fMNN\\x1e=z\\xb4\\x81\\x81\\x81\\xbe\\xbe\\xfe\\xb8q\\xe3\\xb0\\x12\\xa9 \\xb1\\xc4\\x1e\\xdb|\\x11\\x00\\x1c\\x1c\\x1cd\\xe7\\x91d\\xaf\\xcdo\\xa1\\x1cTs*\\xbb\"\\xad\\xa9\\xc3\\x05zFp|b.\\x87U\\xcd\\xdf}?\\'`\\xb0\\x8d\\xba\\xa7\\x83\\xb4\\x88\\xa2\\xa2\\xa2\\xfe\\xfd\\xfb\\xff\\xf3\\xcf?\\'N\\x9c(++\\xfb\\xeb\\xaf\\xbfn\\xde\\xbc9p\\xe0@\\xac\\x12)\\x88l\\x8f\\x83\\x95N\\xcd\\xcd\\xcd\\x9d2eJDDD`` ~\\x10\\xa1H)Z\\xa1P\\xf8\\xc7\\x1f\\x7f\\x88\\xb5/^\\xbc8000??\\x1f/`\\x84U\\xbe\\xbdz\\xf5jxxxii\\xe9\\xa9S\\xa7._\\xbe<`\\xc0\\x00<\\xd6\\xe3c\\xe7\\xcf\\x9f\\xbf~\\xfd\\xfa\\xfc\\xfc\\xfc\\xcb\\x97/\\'&&z{{gffb\\x1d\\xb0\\xdbd+++\\x1e\\x8f\\xe7\\xe7\\xe7\\x87\\xf5_\\xb7n\\xdd\\xb8q\\xe3d\\xac\\x84i\\xe6\\xfe\\xef\\xcaQ\\xba\\xb2+\\xd2\\xca4*\\xd0\\x8b\\xe5\\xf7\\x1b3\\xe1\\xf8\\x1b\\xef\\xfdI\\xc3;\\x19\\x8d\\x94X\\xae\\x83h\\x06\\x95\\x14\\x86\\x95+((h\\xe0\\xc0\\x81T*u\\xcc\\x981X\\x18\\x95[\\xf9\\x16\\xb7n\\xdd:ooo}}}\\xacOyy9\\xbeQ\\xc1\\xb0a\\xc3\\xdc\\xdc\\xdc\\n\\n\\n\\xce\\x9d;\\x87\\xf7\\xdf\\xbf\\x7f\\xff\\xf2\\xe5\\xcb\\x9b\\xfeN \\x08\\x80\\xd29\\xfa\\xb6I\\x91\\xd5\\xee\\x1da\\xb3LDF\\xc9\\xd6m\\xdb\\xb6\\x89\\xf6\\x94Q\\x18V.\\xbc\\xcc\\x08Nn\\xe5[\\x9ch5W\\xac\\x8f\\xe8\\xdf\\x98\\x15+V\\xcc\\x9e={\\xcf\\x9e=\\xdf}\\xf7\\x1d\\x00\\xdc\\xbd{\\xb7\\xbe\\xbe\\xbe\\r.N744d2\\x99\\\\.W\\xb4f\\xa1\\x12\\x95]\\x91\\x96\\xa6Qw\\xf4\\x08\\x82QIaX\\xb9tuu\\xc5Z\\xe4V\\xbe\\xc5\\x89FF\\xac\\x0f6\\x16\\xe3\\xef\\xefoee\\xf5\\xe2\\xc5\\x8b\\xbbw\\xef\\x02\\xc0\\xbe}\\xfb\\x96-[&{2j\\xc9\\xd1\\xab\\xaa\\xb2+\\xd2\\xd24?\\xd0c\\x8b\\xd3\\xdbx)\\xabwEU[nf\\r=\\xf8\\xc2q\\xcb\\x93^\\xbf>\\x9b|\\xe2mtr\\xa9\\xfcaH#\\xd4R\\xb2\\x15\\x14\\xa8|\\x8b\\x13\\xfd\\xd4\\x17\\xebcff\\x86\\xb7P(\\x94\\x1f\\x7f\\xfc\\x11\\x00v\\xef\\xde\\x9d\\x9e\\x9e\\x1e\\x1f\\x1f?s\\xe6L\\xd9\\xa7VK\\x8e^U\\x95]\\x91\\x96\\xa6\\xf9\\x81\\xbe]\\xe4j\\x86\\x1fz\\xf9<\\x87sh\\xaa\\xeb\\xbb5\\xfd\\xa2fw\\x13\\xd4\\x0b\\x17D\\xa6\\x1c\\x91\\xd8\\r\\x14Q\\x90\\xaaJ\\xb6b\\xf7\\xecuuuUUU&&&r\\xfb\\xcb\\xad|\\x8b\\x13\\xad\\xe6\\x8a\\xf5\\x11\\x8b\\x8c\\x8b\\x16-\\xd2\\xd5\\xd5\\xbdv\\xedZ@@\\xc0\\xbcy\\xf3\\xa8\\xd4\\xb6\\xb8\\xbb\\x91r\\x95]\\x91\\xd6\\xa7\\xf9\\x81\\xbe\\xbd\\xd8\\xf3\\xb5K7K=\\x1d\\xb2V\\x17s\\xdd_\\':\\x01\\xc0\\xf1\\xc7M\\xc8\\x17#\\xa2TU\\xb2\\xb5W\\xaf^\\x00\\xf0\\xf4\\xe9\\xd3+W\\xae\\x0c\\x1c8P\\x91\\xf3\\xca\\xae|\\x8b;r\\xe4Hll,\\x97\\xcb\\xc5\\xfa\\x18\\x19\\x19\\x89\\xf5166\\xfe\\xfe\\xfb\\xef\\x85B\\xe1\\x8d\\x1b7\\x96.]\\xda\\xa4i\\xb7\\x1c\\xb1\\x14\\x90\\x82\\x95]\\x11\\xb5C\\x81\\xbeM\\xc8\\xdb\\xe4\\xe5h\\xa2\\x83?\\xb53\\xd2\\x01\\x00n-\\xaa.\\xa2$\\x95\\x14\\x86\\x05\\x80\\x03\\x07\\x0e\\xb8\\xb9\\xb9\\x8d\\x1c9r\\xef\\xde\\xbd\\xa1\\xa1\\xa1\\x92=\\xc5\\x12\\xdfr+\\xdf\\xe2\\x0e\\x1d:\\xb4s\\xe7Nkk\\xeb\\x89\\x13\\'\\xf6\\xee\\xdd;..\\xce\\xc1\\xc1A\\xac\\xcf\\x8a\\x15+\\xb4\\xb4\\xb4\\xa6N\\x9d\\xca`0\\x9a\\xf7~(J\\xf4\\x8a\\x14L\\xeb+Q\\xd9\\x15i}\\x1a\\xb5\\xeaFc\\xbc\\xca\\xe7\\x02\\x80\\x97\\x83\\x81\\xba\\'\\xd2\\x8e\\x19\\x19\\x19\\x85\\x86\\x86\\xe2\\xd1Y\\x8cd\\xc2Zj\\n\\xbbo\\xdf\\xbe/^\\xbcP\\xa4\\'\\xce\\xc2\\xc2\\xe2\\xc8\\x91#G\\x8e\\x1c\\x91==\\x07\\x07\\x07li\\x90\\x0c\\xce\\xce\\xce\\x16\\x16\\x16r?\\x86U!\\xb9y|\\xa9\\x1dF\\x8e\\x1c\\x892\\xf2m\\x9c\\xca\\x02=\\xa7F\\x10z?\\xe7\\xc6\\xfb\\xb2BN\\x9d.Y\\xcb\\xd9\\x94\\xda\\xd7\\x966\\xb1\\x87\\t^?\\xe4a:+\\xecq\\xc1\\x93,N\\r\\xbf\\xbe\\x93\\x19u\\x89\\xb75V\\xaf\\x15\\x83\\x7fX\\x9a\\x18\\xd8g]t\\xc6\\x834\\x16\\x99H\\x18\\xde\\xd9h\\xeb\\x18\\xc7\\x8a\\x1a\\xfe\\xfak\\x19\\xf1\\x99l*Yk\\xa8\\x8b\\xe1\\xe61\\x0e\\xf8\\xfe\\xecr\\x8b\\xc46Fv\\xcd[\\xb9\\xd7\"\\xa9\\x99\\x1b\\xd6\\xe385\\x82g\\xb9\\x9cu\\xd1\\x19=\\xad\\xf4B\\xc69\\xc9\\xed\\x8fh\\xb0\\xe8\\xe8h;;\\xbb\\xa6~\\xae\\x80 \\x92T\\x16\\xe8\\x97\\xfd\\x93z\\xe3}\\xd9\\xa61\\x0e\\xdfxX\\x90\\x89\\x84\\xec\\xf2\\x9a\\xed\\xb7\\xb3\\xc7\\x1d{\\x8dG7\\xbfS\\xc9\\xa3\\xbb\\x18\\xc7-s\\xaf\\xae\\x13\\x04^N[r\\xe1#\\x9dJ\\x1a\\xfay_u\\xbc\\xdc\\xeb\\xb6[\\xd9\\xab\\x86\\xd9\\xed\\xfe\\x9a\\xb2\\xe3N\\xf6\\x9fO\\x0b\\xcb\\xab\\xf8\\x14\"a\\xadH\\xe1Y\\nQ\\x0bKa\\x83\\x02Eb\\xa5NUn\\xcd[\\xb9\\xd7\"I%\\x1f\\xf9\\x1e|\\x98\\xb7\\xfdv6\\x00\\x8c\\xedj\\xbc\\xd2\\xd7V\\xac,8\\xd2A\\x10\\x08\\x84\\xf8\\xf8\\xf8\\xce\\x9d;o\\xda\\xb4i\\xc3\\x86\\r\\xea\\x9e\\x0e\\xa2\\tT\\x96\\xa3\\x7f\\x94\\xc1\\x02\\x00+\\x03\\x8a.E\\x8bL$8\\x9bR\\xb7\\x8ds\\x14\\xeb\\xb3q\\x8c\\x83\\xb1.\\x89A\\xd7\\xde2\\xd6\\x11\\x00\\xf6\\xc7H\\xd9\\xf6\\xda\\xdf\\xc3\\x1c+3\\x1b0\\x98\\x01\\x00wR\\xca\\xe7zZ}n\\xb1\\x01\\x80;\\x1f\\xa5|\\xb5ZF\\x91XIrk\\xde*r--\\xe1G\\x1fF\\xe6\\x06\\xcf\\xd8\\x00\\xf7\\xae\\x96z\\xe3\\x8e\\xbd^q)\\xb5\\xa6\\xae\\xbe\\x15\\xce\\x8b\\xb4\\x1a\\xa9\\x9f\\x04H\\xf2\\xf2\\xf2ruu\\x1d?~\\xfc\\xc4\\x89\\x13[e^\\x88\\x86S\\xd9\\x1d\\xfd\\xd8n&\\x91I\\xcc\\x05\\x91)\\xd6t\\n\\xb6\\xe1\\xe2\\xe8\\xae\\xc6\\xa2\\xf7\\xb9\\xa2\\x8f\\x1d\\x8du\\x00 \\xa5\\xb8J\\xf28x\\x99Y3}\\x8aX\\x0bVX\\xaa\\x88#\\xa5\\xf0\\xac\\xec\"\\xb1bd\\xd4\\xbc]=\\xccN\\x91ki9d\"\\xc1\\xd1D\\xe7\\xe7\\xa16\\x06:\\xc4\\xe0\\xeb\\x99T21\\xa4U\\xfe\\xc6 \\xadC\\x91\\xc5\\xec-\\xb1\\xe0\\x1d\\xe9\\xe0T\\x16\\xe8C\\'9\\x0f\\xeflt\\xe9UIl\\x06\\xeb\\\\\"\\xf3\\\\\"\\x93A\\xd7>\\xf9M\\xe7\\xee\\x96z\\x00\\xc0\\xae\\xe1\\x1f\\x8a\\xcd\\xbf\\xfe\\xae\\xac\\x80\\xcd\\xab\\xfc\\\\\\xed\\xba\\xbc\\x8a/y\\x1c\\xbc\\xcc\\xac\\x16Az\\x8b\\xd4\\xdf\\x02\\xd9Eb\\xc5\\xc8\\xady+\\xfbZ\\xa4RU\\x8e\\x1e7\\xbe\\x9bI\\xf0\\xf5\\xcc\\xcb\\xafKP\\xa0G\\x10\\xa4\\x99T\\x16\\xe8\\t\\x04\\x18\\xdb\\xd5xlW\\xe3z!$d\\xb3\\xf7\\xc7\\xe4\\xddO\\xadX\\xf1O\\xda\\xcd\\xc5\\xbd\\x00`aTJL\\x1a\\xeb\\xe7\\xa16s=\\xad\\x0c\\xa9$P,2*Nv\\x91X1rk\\xde\\xca\\xbe\\x16\\xa9T~\\xbf\\x8f\\xd5Y\\xac\\xe1\\xa3\\xd4M\\x87\\x80gr\\xda\\xf2\\xed\\xfc\\xeb\\xd7\\xaf\\xcf\\x9e={\\xfd\\xfa\\xf5\\xd4\\xd4T\\x00\\xb0\\xb3\\xb3\\x1b<xp``\\xa0\\x8b\\x8b\\x8b\\xba\\xa7\\x86\\xc8\\xa1\\xb2\\x1c=#8\\xbe\\x80\\xcd\\x03\\x00-\\x02\\x0c\\xb0782\\xad\\x13\\x00|,\\xa9\\xc6^M\\xc8\\xe6\\x00\\xc0\\xc2\\x81\\xd6X\\x94\\xe7\\xa9:~\\xc9-\\x12+Jn\\xcd[\\xd9\\xd7\\xd2\\x12\\x18\\xc1\\xf1\\xa9\\r\\x8f\\x7f?\\xb5\\x02\\x00\\xdc\\xac\\x1b]\\xe7\\x83h\\x92\\xb6\\x1c\\xdfq\\xbdz\\xf5\\xbar\\xe5\\xca\\xae]\\xbb\\xf2\\xf2\\xf2\\xf2\\xf2\\xf2\\xb6o\\xdf~\\xf5\\xea\\xd5\\x1e=z\\x88~\\x13\\x18i\\x9bT\\xf9\\x85\\xa9\\xc0\\xcbi\\x1f\\x98U<~}1\\xb7\\xee\\xf7\\xd8<\\x00\\x18\\xfa9\\xda\\x0e\\xb07\\x00\\x80\\x83\\x0f\\xf3\\xd85\\xfc\\x8aj\\xfe\\xf6;\\xd9*</(P$\\xb6\\xc1<\\x15\\xa8y+\\xe3ZZ\\xc8\\xd2\\x0b\\x1f\\xe33\\xd9\\xdcZAE5\\xff\\xf2\\xeb\\x92\\xb5\\xd72t\\xc8Z\\xebF\\xda\\xb5\\xe8I\\x11\\xa4I\\xfe\\xfa\\xeb\\xaf\\xe1\\xc3\\x87\\xd3\\xe9t:\\x9d>i\\xd2\\xa4\\xb0\\xb0\\xb0\\xda\\xda\\xda\\x95+W\\xaa{^\\x88\\x1c\\x04\\xd1[\\x89\\xa8\\xa8\\xa8\\x193f(\\x97\\x85H\\xc8\\xe6D</z\\x9c\\xc9.\\xe0\\xf0\\xa8d-[C\\x9d\\t\\xddM\\xe6{Ya)\\x88\\x92\\xca\\xba-7\\xb2\\xee\\xa7V\\xb0j\\xf8\\xce&\\xd4\\xe5Cl\\x16\\x9dO\\xc1\\x06\\x8a\\x15\\x95mR\\x0b\\xde\\xf8x\\x85\\x87X\\x91X|\\x1d\\xbd\\xd4Q\\xacj\\xfe\\xde\\x98\\xdc\\xff\\xde\\x95\\xe15o\\x03\\x063\\xf0jS\\xb2\\xaf\\xa5%$\\xe6r\"\\x93\\x8a\\x1fg\\xb2s*j\\xeb\\x85B\\x0b\\x1a\\xc5\\xcb\\xc1`\\xe9 \\x86\\xeco\\x03\\xc8\\xb50*\\x85\\xda\\xcd7**\\xaa\\x99\\xd3\\x9b>}:\\x004\\xff8\\x88\\x0cX\\xf6\\xa6]\\xdc\\xda\\xe3\\xb8\\\\.\\x8dF\\xa3R\\xa9UUR\\x16V\\xb4;\\x1a\\xfcs\\xae\\xb2\\x1c}?;Z?\\xbbF\\xcb\\xf2\\x99\\xea\\x91\\xf1\\xf2\\xdf\\x98\\t=\\x1a\\xfc9Q\\xa4\\xcc\\xac\\x8c\\xbf@2\\x8a\\xc4J\\x1d%\\xbb\\xe6\\xad\\xecki\\t\\x1e64T\\xd4\\x10iw\\xb0\\xad\\x95\\xdd\\xdc\\xdc\\xd4=\\x11D\\x0e\\xb4\\xd7\\r\\xd2\\x81\\xb0X\\xac\\x15+V899\\xe9\\xe8\\xe8\\x98\\x98\\x98\\x0c\\x1c8000\\x10\\xdbV\\x17s\\xfb\\xf6\\xed\\x89\\x13\\'\\x1a\\x19\\x19\\xe9\\xe8\\xe8xxx\\xe0%[1\\xf8\\xc6\\xee\\xf9\\xf9\\xf9S\\xa6L\\xa1\\xd1h&&&\\xdf\\x7f\\xff=\\x8b\\xc5\\xca\\xcc\\xcc\\x9c8q\\xa2\\x81\\x81\\x81\\xa5\\xa5\\xe5\\xec\\xd9\\xb3\\xf1\\x9a\\x85\\xa0@\\x9d\\xd8\\xc6\\xc8.{+\\xf7Z$\\xa9|\\xcf\\xfa\\xd3\\xa7O\\x03\\x80d\\xfd,\\xa4\\xadA\\x81\\x1e\\xe9@\\xbe\\xff\\xfe\\xfb\\xbd{\\xf7.[\\xb6\\xac\\xb4\\xb4\\xb4\\xa0\\xa0\\xe0\\xe4\\xc9\\x93\\xe9\\xe9\\xe9\\x03\\x06\\x0c\\xc0;\\x8c\\x181\\x82H$~\\xfc\\xf81%%\\xc5\\xd4\\xd4\\xd4\\xdf\\xdf\\xff\\xc6\\x8d\\x1b\\xf8\\xabx^e\\xf5\\xea\\xd5[\\xb7n\\xcd\\xcd\\xcd\\xf5\\xf7\\xf7\\x0f\\x0f\\x0f\\xff\\xf6\\xdbo\\x7f\\xfe\\xf9\\xe7\\x9d;w\\xe6\\xe4\\xe4L\\x9e<\\xf9\\xd4\\xa9SXaB\\xb1Q\\x8d\\xd5\\x89\\x95Jn\\xd9[\\xb9\\xd7\"I\\xb5{\\xd6\\xbfx\\xf1b\\xc7\\x8e\\x1dAAA\\xa3G\\x8fV|\\x14\\xa2\\x16\\xed;\\xd0+X$\\x16A0\\xf7\\xee\\xdd\\x03\\x00\\x06\\x83\\xa1\\xa7\\xa7G\\xa1P:w\\xee|\\xf0\\xe0A\\xb1>{\\xf6\\xec155\\xb5\\xb3\\xb3\\xdb\\xbf\\x7f?\\x00\\x88\\x95\\x1e\\xc4\\xcc\\x9b7\\x0f\\xab4\\x1b\\x14\\x14\\x04\\x00\\xd1\\xd1\\xd1\\xcb\\x96-\\x13m\\xc1\\xcb\\x85\\x8b\\x92Q\\'V\\x92\\xdc\\xb2\\xb7\\x8a\\\\K\\xcby\\xf9\\xf2\\xe5\\xa8Q\\xa3\\x96,Y\"\\xf5\\xfdA\\xda\\x9a\\xf6\\x1d\\xe8\\xf36y\\xe1\\xff\\xa9{.H;0e\\xca\\x14\\x00\\x986m\\x9a\\x9d\\x9d\\xdd\\xbcy\\xf3\\xa2\\xa2\\xa2LMMEoc\\x85B!\\xbe]\\xb0\\xab\\xab+\\x00$\\'\\'K\\x1e\\x07\\xaf4\\x8b\\xef\\xba.V{6?_J\\xd1\\x18\\xd9ub\\xc5\\xc8({\\xab\\xe0\\xb5\\xb4\\x9c\\xe4\\xe4\\xe4\\xaf\\xbe\\xfa\\xea\\xc7\\x1f\\x7f\\xdc\\xb5kW+\\x9c\\x0ei\\xbe\\xf6\\x1d\\xe8\\x11\\xa4I\\xc2\\xc2\\xc2.^\\xbc8e\\xca\\x14.\\x97\\x1b\\x16\\x166c\\xc6\\x0cWWW|#\\xe2\\x8a\\x8a\\x8a\\xa0\\xa0\\xa0\\xae]\\xbb\\xd2h4\\x02\\x81@\"\\x91\\xa0a\\xcd?\\x1c^iVKKKj\\x8b\\xd4\\x80+\\xbbN\\xac\\x18\\xb9eoe_\\x8bT*\\xc9\\xd1\\xe7\\xe6\\xe6\\x8e\\x1e=\\xfa\\xe7\\x9f\\x7f^\\xbf~\\xbd\\xdc\\xceH\\x1b\\xa1\\xce\\xfd\\xe8\\xf1|K\\xbb\\xb8\\x1f\\x17\\xcd\\x0e-\\x1ch\\xbda\\x94\\xfd\\xbb\\xa2\\xaa\\x0b/\\x8b\\xef\\xa4\\x94g\\x95\\xd7\\xd2\\xb4\\x89.\\xa6\\xd4\\xb9\\x9e\\x96\\xe3\\xba\\xc9/8\\'UL\\x1ak\\x7fL\\xee\\xeb\\x82J\\x00\\xe8e\\xad\\x1f0\\x98\\x81m\\xda\\x83\\t\\xb9\\x95\\x8d-\\xe7\\xc7\\xb4\\x8bw\\xac\\r\"\\x10\\x08\\x93\\'O\\x9e<yr}}}\\\\\\\\\\xdc\\xb6m\\xdbn\\xdc\\xb8\\xf1\\xc3\\x0f?$%%\\x01\\xc0\\xf4\\xe9\\xd3o\\xdd\\xba\\x15\\x1c\\x1c\\x1c\\x10\\x10`ll\\x0c\\xf2\\xb6\\x1ek\\xaa\\xd2\\xd2R\\xbc\\x1e\\xa1d\\x9dX1\\x16\\x16\\x16yyyeeeFFFJ\\\\\\x8bT\\xcd\\xbf\\xdf\\xaf\\xa8\\xa8\\x183f\\xcc\\x82\\x05\\x0b\\xd6\\xad[\\':\\x93\\xf6\\xb5*\\xb4\\x03R\\xe7\\x1d}{\\x8cVX\\x9ah\\xc3({Pi\\xa1\\xd7\\xf3/\\x8a\\xfd\\xc3\\x93\\xbbZ\\xe8\\xc6/\\xf7\\x88_\\xee\\xd1\\xc5\\x9c\\xea\\x1f\\x9e|\\xf1\\xe5\\x97\\xdb\\xbd\\xa0\\x11v(C\\xd5|\\x04\\x02!77\\x17\\x00\\xb4\\xb4\\xb4|||\"##\\x01\\x00_\\xfd\\x82\\xd5q]\\xb9r%\\x16\\xe5kkkU{v\\xb9ubE\\xc9-{+\\xfbZZBmm\\xed\\xa4I\\x93f\\xcc\\x98!\\x1a\\xe5\\x91v\\x01\\xa5n\\x9aE%\\x85^\\x99\\x1c^Ptz\\x1f[\\xda\\xe61\\x8e\\xc6\\xba$c]\\xd2\\xe61\\x8e\\xee\\x0cZPtF1\\xb7\\xd1\\xad\\xd9\\x10\\xe5\\xcc\\x9b7\\xef\\xed\\xdb\\xb7\\xb5\\xb5\\xb5EEEX\\t\\xd9Q\\xa3Fa/\\xf9\\xf8\\xf8\\x00\\xc0\\xf6\\xed\\xdb+**\\xca\\xca\\xca\\xb0\\x8fUUHn\\x9dXQ\\x8a\\x94\\xbd\\x95q--a\\xe6\\xcc\\x99111\\xeb\\xd7\\xafo\\xce\\x8aLD-P\\xa0W\\x9e\\xaa\\n\\xbd\\x9eKdV\\xf1\\xea\\xfd\\xdc\\xcd\\xf1_\\x19\\x02\\x01\\xfc<\\xcc\\xb8\\xb5\\x82\\xbf\\x92\\x98*\\x9a,\\x02\\x00\\x10\\x1b\\x1bkii9~\\xfcx\\x1a\\x8d\\xd6\\xb9s\\xe7k\\xd7\\xaem\\xdb\\xb6\\xed\\xdc\\xb9s\\xd8\\xab\\xe1\\xe1\\xe1\\xb3f\\xcd\\n\\x0b\\x0b\\xb3\\xb0\\xb0\\x182d\\x08\\xbeTQr\\x13\\xf9&=\\xc0\\xc9\\xa8\\x13+9Jn\\xd9[\\xd9\\xd7\\xd2\\x12.\\\\\\xb8\\xd0r\\x07GZ\\x14\\xaa\\x19\\xab2J\\x17z\\xc5va\\xf3\\xb0i\\xb0\\x7f\\x19\\xf6E\\xd9\\x07\\xa9\\x15?\\xf9\\xb4Ra\\xe8\\x8e\\xc0\\xdb\\xdb\\xdb\\xdb\\xdb\\xbb\\xb1W\\xcd\\xcd\\xcd\\xc3\\xc3\\xc3E[\\xb0\\xef\\xc4\\xe3\\x14\\xa94+#[-\\xa3N\\xac\\xd4Q\\xb2\\xcb\\xde\\xca\\xbe\\x96\\x96\\x80\\x12\\xf1\\xed\\x97\\x92\\x81^\\xf4\\x93\\xc9\\x99}-vNp\\x02\\x80\\x026\\xafo\\xe8\\xa7M\\xde\\xb1l\\xb2\\xec:\\xb12\\x0e+\\xb6\\x95\\r4L\\xe8\\xcb\\xae\\xf8*w\\xc2\\x8dQ:\\x03\\xde\\xccB\\xaf\\x1f\\x8b\\xab\\x01@\\xacp \\x83N\\x01\\x80\\xb4\\x96\\xdc2\\x13A\\x90\\x0eB\\xc9@\\x9f\\xb7\\xc9kAdJtr\\xe9\\x8f>\\x8c_\\x86\\x7f\\xdaa\\xd1\\xca\\x80\\xb2\\xca\\xd76\\xa3\\xacf\\xef\\xff}\\xda\\xd6Fv\\x9dX\\xa9\\x87\\x15\\x8b\\xc8\\x92-r+\\xbe6vd\\xe5\\xaeT\\xae\\xe6\\x17ze\\xd5\\xf0\\x01@\\x97B\\x14m\\xc4\\x9eV\\xd449\\x11\\x84 \\x08\"F\\xf9\\x1c\\xfd\\x92A\\xd6\\x00p*\\xa1\\x90\\xf39+]SW\\x7f\\xf2i\\xe1\\x92A\\rR\\r\\x8a\\xd4\\x89m\\x12\\xb9\\x15_[\\x19*\\xf4\\x8a\\xc8\\xa6`\\x9dX\\x04i9\\xca\\x07\\xfa\\xde\\x0c}oG:\\xa7F\\x10\\x9e\\xf0i\\xa3\\xa5\\xc8$\\xa6;C\\xbf\\x93\\xc8\\xce\\xbay\\x9b\\xbcl\\r\\xb5\\xb1\\xc72\\xea\\xc46\\x89\\x8c\\x8a\\xaf\\xcd<\\xb2\\xd2\\xf0B\\xaf\\xbf\\x0c\\xb7\\x8bJ*\\xde|3\\xabI\\xc3\\xe9:$\\x00\\xa8\\xe25\\xb8y\\xc7\\x9e\\x1a\\xea\\x10\\xa5\\x8fA\\xda\\x0f\\xe5v\\x92A\\x10\\x15j\\xd6\\x87\\xb1K}\\xac\\xe32X\\x7f\\xc4\\x17\\xcc\\xf7\\xb4\"j\\x11\\x8e>*80\\xe5\\xcb^\\xc4\\x8a\\xd7\\x89m\\x12\\xb9\\x15_\\xa5j\\xd1\\x1c=N\\xb9B\\xaf\\xaef\\xd4\\x92\\xca\\xba|\\x16O4\\xf5\\x94\\xc7\\xe2\\x01\\x80\\xb3i\\xb3\\xf6\\xa3G\\x10\\x04\\x81f\\x06\\xfa!\\xce\\x86=\\xac\\xf4\\xde\\x14TF\\xbd(\\xa6i\\x13-\\r(}l\\xbfl\\xaa\\xae\\\\\\x9dX\\x02\\x01\\x84B\\xe0\\x0b\\x84$\"\\x01\\x008\\x12Ij\\xb9\\x15_\\xa5j\\x9d\\xaf\\x1a)W\\xe8\\xd5\\xc7\\x89\\x1e\\x9f\\xc9N\\xcc\\xe5v\\xb1\\xd0\\xc5\\x1b\\x93r\\xb9\\x000\\xa4\\xf1\\xcf3\\x90V\\xd0.J\\xb9\\xe2DSC+W\\xae\\xc47\\xa2\\xa9\\xaf\\xaf\\x0f\\x0f\\x0f_\\xb7n]^^^s.D\\xf6q\\xd6\\xacY#\\xba\\xc6\\xbf]\\xbcc\\x1dGs\\xd7\\xd1/\\x1d\\xc4\\x00\\x80\\xc3q\\xf9\\xbf\\xc7\\xe6\\xff\\xe8c-\\xfa\\x92rub\\xcd\\xf4)\\x00P\\xc4\\xe5aO\\xdf\\x14V\\x8au\\x90[\\xf1\\xb5\\xd5\\xa8\\xaa\\xd0\\xab\\x9f\\x87\\xb9.E+\\xb2\\xe1\\x92\\xf9\\xc8$\\xa6\\x1e\\x858\\xc3\\xdd\\xbc\\xf9\\xf3D\\x94\\xd6\\x1e\\xa3\\x15\\x96#\\xc2\\xa3\\xfc\\xcd\\x9b7\\xdd\\xdd\\xddO\\x9c8\\x91\\x97\\xd7\\xac\\x8f\\xc7\\xe4\\x1eg\\xc7\\x8e\\x1d(=\\xd5f57\\xd0\\x8f\\xebflo\\xac\\x93YV#\\x10\\n}]\\x1bl\\xca\\xa1\\\\\\x9d\\xd8\\xc1\\xcet\\x008\\x1c\\x97\\xcf\\xa9\\x11\\xa4\\x96T\\x9fK\\x14\\xff\\xc6\\x90\"\\x15_[\\x8d\\xdcB\\xaf|\\x81\\x90\\x11\\x1c\\xdfsg\\x82\\x8c\\x83X\\xd0(\\xdb\\xc6:=\\xcb\\xe1\\x04_\\xcf,\\xab\\xe2\\x97U\\xf17\\\\\\xcf|\\x9e\\xcb\\t\\x19\\xef({\\xcd(\\x82\\xc8\\x15\\x10\\x10\\xb0i\\xd3\\xa6\\x98\\x98\\x986r\\x1cD-\\x9a\\xfb\\x85)\\xa2\\x16a\\xf1@\\xeb5W\\xd3\\x97\\x0e\\x12\\xff^\\xcf\\xbe\\xc9.[nd\\x9dKd\\x1ey\\x94\\x8f\\xd5\\x89\\x05(\\x00\\x00Fp\\xbcX\\rX\\xbc\\x05\\x00\\x82G9\\x08\\xea\\x85\\xff\\xbe)\\x8dLbz;\\xd2C\\xc69a[\\xbe\\xe0}\\x8ctI\\xd1\\xf3{\\xee\\x8d\\xc9\\xddz3\\x0b\\xaf\\xf8\\xfa\\xfbT\\xd7\\xd6/\\xc5we~\\x8f\\xc8\\xa4\\xe25W\\xd2\\xf1B\\xaf\\xc3;\\x19\\x89\\x15z\\xcdc\\xd5\\x02@7K=\\xd9\\x87\\x9a\\xeenfa@>\\x10\\x93\\xe7\\xb9\\'\\x11\\x00zY\\xeb\\x9d\\xfb\\xae\\x9b\\xe8\\xa6f\\x08\\xa2\\x9c7o\\xde`\\xdbp\\xb6\\x91\\xe3 j\\xa1\\x82\\xffs\\xb3\\xfaY\\xcc\\xeag!\\xd9\\xaeD\\x9dX\\x000\\xd6%\\x1d\\x9c\\xe2*\\xbb\\x9b\\xec\\x8a\\xaf\\xadF\\x91B\\xaf\\x97\\xdf\\x94\\x02\\xc0\\xac\\xbeR\\xde\\x1f1C\\x9c\\r\\x878\\xa3\\x8c<\\xa2b\\xaa\\x8a\\xce(\\xca\\xb7kh\\xaf\\x9b\\x16\\xf4$\\x8b\\xbd\\xf7A\\xee\\xd7=M\\xc7wWr\\xefbDi\\xa2\\xbbn-Z\\xb4\\x08k\\xcc\\xcd\\xcd\\x15\\xdb\\x8aKv\\x91X\\x19\\x87\\x95\\xd1\\x02\\xf2\\xca\\xbd\\xca\\x9d\\xb0\\xd2\\x9b\\xc5#\\x88T(\\xd07\\r#8\\x9e\\x11\\x1c\\xbf\\xf9\\x86B+\\xe5\\xffJb\\xce\\xeeo\\x89\\x7fO\\xb89Bnec\\xa7n\\xfe\\xa1:\\x08\\xa1P\\x88\\xd5`Z\\xb3f\\xcd\\x91#G\\xb0F\\x1b\\x1b\\x9b-[\\xb6|\\xff\\xfd\\xf7\\xf8g\\x86\\xb2\\x8b\\xc4J=\\xac\\xdc\\x16\\xb9\\xe5^\\x1b;\\xb2\\n\\x0b\\xba\"\\x88\\xa8\\x06\\x15\\x03\\xa2\\xa2\\xa2f\\xcc\\x98\\x816=\\xd7\\x18\\x0b\\xa3R\\xa8\\xdd|\\xa3\\xa2\\xa2\\x9ay\\x1clo\\xaf\\xe6\\x1f\\xa7\\x95%$$\\xf4\\xef\\xdf\\x9fN\\xa7ggg\\x1b\\x18\\x18\\x00@uu\\xb5\\xa3\\xa3\\xe3\\xdd\\xbbw\\xbbu\\xeb\\x86\\xf5!\\x10\\x08\\x19\\x19\\x19\\xd8.\\x92\\xef\\xdf\\xbf\\xef\\xda\\xb5\\xab\\x8f\\x8f\\x8f\\xe8G\\x8e\\xd8}\\xb4\\xe8\\xaf\\x89\\xdc\\x96E\\x8b\\x16\\x1d=z4,,l\\xce\\x9c9X\\xcb?\\xff\\xfc3y\\xf2\\xe4\\xa0\\xa0\\xa0\\x16\\xad\\xb0*91\\xc5_U\\xd5YTx\\xa2\\xd6\\xd7N\\x7f\\xce\\x15\\x81\\xee\\xe8\\x11\\x8d\\xd5\\xaf_?___\\x16\\x8bu\\xf8\\xf0a\\xac\\xe5\\xe4\\xc9\\x93\\x03\\x06\\x0c\\xc0\\xa3<(\\\\$\\xb6I\\xe4\\x96{E\\x90V\\x86\\x02=\\xa2\\xc9V\\xaf^\\r\\x00{\\xf7\\xee\\xad\\xad\\xad\\x15\\x08\\x04\\xa1\\xa1\\xa1k\\xd6\\xac\\xc1_U\\xbcHl\\x93\\xc8-\\xf7*\\x15\\xca\\xd1#-\\x07\\x05zD\\x93\\x8d\\x1c9\\xd2\\xdd\\xdd\\xbd\\xb0\\xb0\\xf0\\xd4\\xa9S\\xe7\\xcf\\x9fg0\\x18^^_2\\x93\\xd3\\xa7O\\xdf\\xbe}\\xfb\\x8c\\x193\\xb2\\xb2\\xb2\\x14O\\x82c\\x01\\xb7\\xae\\xeeS\\xf1/\\x16\\x8b%\\xd6\\xc1\\xc2\\xc2\\x02\\x00\\xca\\xca\\xca\\xc42\\xec\\x95\\x95\\xe2\\xdf\\xfe\\x13\\x85r\\xf4H\\xcbA\\x81\\x1e\\xd1p\\xd8M\\xfdo\\xbf\\xfd\\xb6s\\xe7N\\xd1\\xdbyP\\xb6H\\xac\\xa5\\xa5%\\x00\\x14\\x14|\\xaa\\x19)Y\\x8c[n\\xb9W\\x04ie(\\xd0#\\x1an\\xea\\xd4\\xa9\\xce\\xce\\xce\\xa9\\xa9\\xa9\\x02\\x81`\\xec\\xd8\\xb1\\xa2/)W$v\\xc4\\x88\\x11\\x00\\xf0\\xdbo\\xbf\\xb1X\\xac\\xf7\\xef\\xdf\\x87\\x85\\x85\\x89uP\\xa4\\xdck\\xdbQWWG \\x10\\xcc\\xcc\\xcc\\xd4=\\x11\\xa4\\x05I\\xf9\\x12\\xc4\\xd5\\xb7\\xcd\\xcdQ\"mD>\\x8b\\xe7\\xac\\xee9\\xa8\\x1d\\x91H\\x0c\\x0c\\x0c\\\\\\xbcx1vk/*<<<000,,,44\\xb4S\\xa7N\\xeb\\xd7\\xaf\\xc7\\xda\\t\\x84O\\xab\\xd1D\\xb7\\x92\\xc73\\'\\xa1\\xa1\\xa1|>?22\\xf2\\xe4\\xc9\\x93\\xbe\\xbe\\xbe\\xbf\\xff\\xfe\\xfb\\x993gD\\xfb`\\xe5^\\xb7n\\xdd\\xbaj\\xd5\\xaa\\xdc\\xdc\\\\cc\\xe3\\xfe\\xfd\\xfb\\x9f={V]w\\xf4b\\xab\\xfe\\xa1\\xe1\\x92\\x98\\xec\\xecl\\x00pssk\\xe6q\\x906M4\\x03\\x18\\x13\\x13C\"\\xa1\\r\\xd05\\xca\\x8a\\x15+\\x14I\\xfe\\xca6m\\xda\\xb4i\\xd3\\xa65\\xff8H\\x8b\\xc2\\xfe\\x8f7u\\xd4\\xd6\\xad[\\x01 **J\\xbd\\xd3h\\x0b4\\xf8\\xe7\\xbc\\xc1\\x1d\\xbd\\x8f\\x8fO]]s\\xf7\\x8bG\\x10\\xa4\\xbdx\\xf8\\xf0\\xe1\\xd6\\xad[\\xfd\\xfd\\xfd\\xa7M\\x9b\\xa6\\xee\\xb9 -\\x08\\xe5\\xe8\\x11D\\xa3`\\x0b1\\x03\\x03\\x03\\x15\\xe9|\\xe2\\xc4\\x89\\xa5K\\x97\\xfe\\xf9\\xe7\\x9f\\xcd?\\xef\\x9a5k\\xd0\\x1a\\xd06\\x0bmT\\x84 \\x1aB\\xd8\\xf4\\x8c\\xf9\\xc9\\x93\\'Uu\\xf6\\x1d;v\\xec\\xd8\\xb1CUGCT\\x0b\\xdd\\xd1#\\x08\\x82h8\\x14\\xe8\\x11\\x04A4\\x1c\\n\\xf4\\x08\\x82 \\x1a\\x0e\\x05z\\x04A\\x10\\r\\x87\\x02=\\x82 \\x88\\x86C\\xabn\\x10\\x85\\xe4\\xe4\\xe4\\x9c?\\x7f^\\xdd\\xb3@\\x90\\x16\\x94\\x93\\x93ckk\\xab\\xeeY\\xb4\\x08\\x14\\xe8\\x11\\xf9lll\\xce\\x9f?\\x8f\\x95e@\\x10\\r&\\xba\\xb9\\xa9&!(\\xb1\\xf6\\x16A:\\xb8\\xda\\xdaZOOO2\\x99\\x1c\\x17\\x17G&\\x93\\xd5=\\x9d&\\xe3\\xf3\\xf9\\x83\\x07\\x0f\\xe6p8\\t\\t\\t:::\\xea\\x9e\\x0e\\xd2\\xe2P\\x8e\\x1eA\\x9a,(((555\"\"\\xa2=Fy\\x00 \\x91Hg\\xce\\x9c\\xc9\\xce\\xce^\\xb7n\\x9d\\xba\\xe7\\x82\\xb4\\x06\\x14\\xe8\\x11\\xa4i\\x1e<x\\xb0w\\xef\\xde\\x83\\x07\\x0fb\\xa5\\x07\\xdb)\\'\\'\\xa7}\\xfb\\xf6\\xed\\xd9\\xb3\\xe7\\xf6\\xed\\xdb\\xea\\x9e\\x0b\\xd2\\xe2P\\xea\\x06A\\x9a\\xa0\\xbc\\xbc\\xdc\\xcd\\xcd\\xad_\\xbf~\\x17/^T\\xf7\\\\T\\xc0\\xdf\\xdf?&&\\xe6\\xd5\\xabW&&&\\xea\\x9e\\x0b\\xd2\\x82P\\xa0G\\x90&\\x981cF\\\\\\\\\\xdc\\xabW\\xaf\\xb0\\xa2T\\xed]EE\\x85\\x9b\\x9b[\\x9f>}\\xfe\\xfe\\xfbou\\xcf\\x05iA(u\\x83 \\x8a\\n\\x0b\\x0b\\xbbp\\xe1Bxx\\xb8fDy\\x00044<}\\xfa\\xf4\\xbf\\xff\\xfe{\\xe2\\xc4\\tu\\xcf\\x05iA\\xe8\\x8e\\x1eA\\x14\\x92\\x96\\x96\\xe6\\xee\\xee\\xbex\\xf1\\xe2\\xb6Y\\x11\\xb09V\\xadZu\\xe8\\xd0\\xa1\\xc4\\xc4\\xc4N\\x9d:\\xa9{.H\\x8b@\\x81\\x1eA\\xe4\\xe3\\xf3\\xf9>>>\\xb5\\xb5\\xb5\\x8f\\x1f?\\xa6P(\\xea\\x9e\\x8e\\x8a\\xd5\\xd5\\xd5y{{\\xd7\\xd7\\xd7\\xc7\\xc7\\xc7\\xb7\\xd3uD\\x88l(u\\x83 \\xf2m\\xda\\xb4\\xe9\\xc5\\x8b\\x17\\xe1\\xe1\\xe1\\x9a\\x17\\xe5\\x01\\x80L&\\x9f:u\\xea\\xdd\\xbbw[\\xb6lQ\\xf7\\\\\\x90\\x16\\x81\\xee\\xe8\\x11D\\x8e\\xb8\\xb8\\xb8!C\\x86\\x1c8p`\\xf1\\xe2\\xc5\\xea\\x9eK\\x0b:t\\xe8\\xd0O?\\xfdt\\xf7\\xee\\xdd!C\\x86\\xa8{.\\x88\\x8a\\xa1@\\x8f \\xb2\\xb0X\\xac\\xde\\xbd{w\\xe9\\xd2\\xe5\\xda\\xb5k\\x1a_\\'o\\xe2\\xc4\\x89/^\\xbcx\\xf9\\xf2\\xa5\\x91\\x91\\x91\\xba\\xe7\\x82\\xa8\\x12J\\xdd \\x88,K\\x97.\\xad\\xaa\\xaa:y\\xf2\\xa4\\xc6Gy\\x00\\x08\\x0b\\x0b\\xab\\xab\\xab\\x0b\\x08\\x08P\\xf7D\\x10\\x15C\\x81\\x1eA\\x1au\\xe1\\xc2\\x85\\xb3g\\xcf\\x86\\x85\\x85YZZ\\xaa{.\\xad\\xc1\\xcc\\xcc\\xec\\xcf?\\xff\\x8c\\x88\\x888{\\xf6\\xac\\xba\\xe7\\x82\\xa8\\x12J\\xdd \\x88t\\xb9\\xb9\\xb9\\xbdz\\xf5\\x9a9s\\xe6\\xfe\\xfd\\xfb\\xd5=\\x97V\\xf5\\xd3O?\\x9d>}\\xfa\\xe5\\xcb\\x97\\xf6\\xf6\\xf6\\xea\\x9e\\x0b\\xa2\\x1a(\\xd0#\\x88\\x14\\xf5\\xf5\\xf5\\xc3\\x87\\x0f/**z\\xf6\\xec\\x19\\x95JU\\xf7tZUMMM\\xff\\xfe\\xfd\\xe9t\\xfa\\xfd\\xfb\\xf7\\x89D\\xa2\\xba\\xa7\\x83\\xa8\\x00J\\xdd \\x88\\x14;v\\xecx\\xf4\\xe8QDDDG\\x8b\\xf2\\x00\\xa0\\xa3\\xa3s\\xf6\\xec\\xd9g\\xcf\\x9e\\xfd\\xfa\\xeb\\xaf\\xea\\x9e\\x0b\\xa2\\x1a\\xe8\\x8e\\x1eA\\xc4=\\x7f\\xfe|\\xe0\\xc0\\x81\\xdb\\xb7o\\xff\\xf9\\xe7\\x9f\\xd5=\\x17\\xb5\\t\\r\\r]\\xb3fMll\\xec\\x80\\x01\\x03\\xd4=\\x17\\xa4\\xb9P\\xa0G\\x90\\x06*++\\xfb\\xf4\\xe9ciiy\\xf7\\xee]-\\xad\\x8e\\xfbO\\xde\\xfa\\xfa\\xfaQ\\xa3Fedd$%%\\xd1h4uO\\x07i\\x96\\x8e\\xfbs\\x8c R\\xadX\\xb1\\x82\\xc9d\\x9e>}\\xba#Gy\\x00\\xd0\\xd2\\xd2:u\\xeaTEEE``\\xa0\\xba\\xe7\\x824W\\x87\\xfeQF\\x101\\x97/_>~\\xfc\\xf8\\x91#G4\\xb5Ht\\x93X[[\\x1f?~\\xfc\\xd8\\xb1c\\xa8.|{\\x87R7\\x08\\xf2IQQ\\x91\\x9b\\x9b\\xdb\\xf8\\xf1\\xe3\\xff\\xf8\\xe3\\x0fu\\xcf\\xa5\\r\\x99;w\\xee\\xbf\\xff\\xfe\\xfb\\xf2\\xe5Kkkku\\xcf\\x05Q\\x12\\n\\xf4\\x08\\x02\\x00 \\x14\\n\\xc7\\x8f\\x1f\\xff\\xe1\\xc3\\x07\\x94\\x92\\x16SYY\\xe9\\xe1\\xe1aoo\\x7f\\xe3\\xc6\\x8d\\x8e\\xf0\\xf5`\\x8d\\x84R7\\x08\\x02\\x00\\xb0o\\xdf\\xbe\\x9b7o\\x9e9s\\x06Ey1zzzg\\xcf\\x9e\\xbd\\x7f\\xff~G\\xfb\\xe2\\x98&A\\x81\\x1eA\\xe0\\xed\\xdb\\xb7AAA\\xc1\\xc1\\xc1\\x9e\\x9e\\x9e\\xea\\x9eK[\\xd4\\xa7O\\x9f\\xf5\\xeb\\xd7\\xaf^\\xbd\\xfa\\xe5\\xcb\\x97\\xea\\x9e\\x0b\\xa2\\x0c\\x94\\xbaA:\\xba\\xda\\xda\\xda\\xfe\\xfd\\xfb\\xd3h\\xb4\\x07\\x0f\\x1e\\xa0/\\x826\\xa6\\xbe\\xbe\\xde\\xd7\\xd7\\xb7\\xb8\\xb8\\xb8\\x03~UX\\x03\\xa0;z\\xa4\\xa3[\\xbdzuVV\\xd6\\x993gP\\x94\\x97AKK\\xeb\\xf4\\xe9\\xd3\\x05\\x05\\x05AAA\\xea\\x9e\\x0b\\xd2d(\\xd0#\\x1d\\xda\\xad[\\xb7\\xf6\\xef\\xdf\\xff\\xfb\\xef\\xbf;88\\xa8{.m\\x9d\\xad\\xad\\xed\\xfe\\xfd\\xfb\\xf7\\xed\\xdbw\\xed\\xda5u\\xcf\\x05i\\x1a\\x94\\xbaA:\\xae\\x92\\x92\\x92^\\xbdzy{{\\xa3u\\xe2\\x8a\\xfb\\xf6\\xdboo\\xdf\\xbe\\xfd\\xea\\xd5+\\x0b\\x0b\\x0bu\\xcf\\x05Q\\x14\\n\\xf4H\\xc75m\\xda\\xb4\\xc7\\x8f\\x1f\\xbfz\\xf5\\n\\x15TR\\x1c\\x8b\\xc5rss\\xeb\\xdd\\xbb\\xf7\\xa5K\\x97\\xd4=\\x17DQ(u\\x83tPG\\x8f\\x1e\\xfd\\xfb\\xef\\xbf\\xc3\\xc3\\xc3Q\\x94o\\x12:\\x9d~\\xe6\\xcc\\x99\\xabW\\xaf\\x1e;vL\\xddsA\\x14\\x85\\xee\\xe8\\x91\\x8e(55\\xd5\\xdd\\xdd=  `\\xdb\\xb6m\\xea\\x9eK\\xbb\\x14\\x14\\x14\\xb4o\\xdf\\xbe\\xc4\\xc4\\xc4\\xce\\x9d;\\xab{.\\x88|(\\xd0#\\x1d\\x0e\\x9f\\xcf\\x1f4h\\x10\\x9f\\xcf\\x7f\\xf4\\xe8\\x11\\x85BQ\\xf7t\\xda%\\xec=\\xac\\xab\\xab\\x8b\\x8f\\x8fG\\xefa\\xdb\\x87R7\\x88\\x86c2\\x99\\x1c\\x0eG\\xb4e\\xfd\\xfa\\xf5o\\xde\\xbc\\x89\\x88\\x88@\\x11Ji$\\x12)\"\"\\xe2\\xe3\\xc7\\x8f\\x1b7n\\x14m\\xe7p8L&SM\\x93B\\x1a\\x85\\x02=\\xa2\\xe1F\\x8d\\x1a\\xd5\\xa9S\\xa7\\xfb\\xf7\\xefcO\\x1f>|\\xf8\\xdbo\\xbf\\xed\\xd9\\xb3\\x07\\xe5\\x1c\\x9a\\xc9\\xd9\\xd9y\\xd7\\xae];w\\xee\\xbcw\\xef\\x1e\\xd6r\\xff\\xfe\\xfdN\\x9d:\\x8d\\x1a5J\\xbd\\x13C$\\xa1\\xd4\\r\\xa2\\xc9\\n\\n\\n\\x18\\x0c\\x06\\x81@\\x10\\n\\x85\\xff\\xfb\\xdf\\xff\\x02\\x03\\x03\\xfb\\xf5\\xeb\\x87V\\x8c\\xa8\\xd0\\xf4\\xe9\\xd3\\xe3\\xe3\\xe3\\x13\\x12\\x12\\xf6\\xee\\xdd\\xfb\\xeb\\xaf\\xbfbou^^\\x9e\\x95\\x95\\x95\\xba\\xa7\\x86|\\x81\\x02=\\xa2\\xc9N\\x9c81\\x7f\\xfe\\xfc\\xfa\\xfaz\\x00 \\x12\\x89&&&B\\xa1099\\xd9\\xd4\\xd4T\\xddS\\xd3\\x10%%%\\xdd\\xbau#\\x91HL&S \\x10\\x00\\x00\\x91H<~\\xfc\\xf8\\x0f?\\xfc\\xa0\\xee\\xa9!_\\xa0\\xd4\\r\\xa2\\xc9\\xa2\\xa3\\xa3\\xf1BQ\\x02\\x81\\xa0\\xbc\\xbc\\x9c\\xc5bEDD\\xa0\\xfb\\x1bU\\xb9v\\xed\\x1a\\x9b\\xcd.))\\xc1\\xa2<&::Z\\x8dSB$\\xa1;zDc\\xf1\\xf9|###.\\x97+\\xd6N \\x10\\x86\\r\\x1b\\x16\\x1e\\x1e\\x8e\\xd2\\x0b\\xcdQ\\\\\\\\<w\\xee\\xdc\\xabW\\xafJ\\xc6\\x10]]\\xdd\\x8a\\x8a\\n2\\x99\\xac\\x96\\x89!\\x92\\xd0\\x1d=\\xa2\\xb1\\xe2\\xe2\\xe2$\\xa3<\\x00\\x08\\x85\\xc2{\\xf7\\xee\\xb9\\xb9\\xb9\\x95\\x94\\x94\\xb4\\xfe\\xac4CIII\\xf7\\xee\\xdd\\xaf]\\xbb&\\xf5N\\xb1\\xaa\\xaa\\xea\\xd1\\xa3G\\xad?+\\xa41(\\xd0#\\x1a\\xeb\\xfa\\xf5\\xeb\\x8d-\\xa0\\xac\\xaf\\xaf\\xf7\\xf1\\xf1100h\\xe5)i\\x0c\\x03\\x03\\x83\\xc1\\x83\\x07\\xd7\\xd7\\xd7K\\xad9E\\xa1P\\xae_\\xbf\\xde\\xfa\\xb3B\\x1a\\x83\\x02=\\xa2\\xb1.]\\xba\\xc4\\xe3\\xf1\\xc4\\x1aI$\\x92\\xb6\\xb6\\xf6\\x9e={.^\\xbc\\x88\\xd6\\xd1+\\x8dB\\xa1\\\\\\xb8p\\xe1\\xcf?\\xff\\xa4R\\xa9\\x92)\\x1a\\x1e\\x8fw\\xf9\\xf2e\\xb5L\\x0c\\x91\\n\\xe5\\xe8\\x11\\xcd\\x94\\x9b\\x9bkgg\\'\\xf6\\xe3M$\\x12{\\xf6\\xec\\x19\\x15\\x15\\xe5\\xea\\xea\\xaa\\xae\\x89i\\x98\\xcc\\xccL??\\xbf\\x84\\x84\\x04li\\x93\\xa8\\xac\\xac,;;;\\xb5\\xcc\\n\\x11\\x83\\xee\\xe8\\x11\\xcdt\\xed\\xda5|\\xbd\\r\\x00\\x10\\x89D--\\xad\\xc0\\xc0\\xc0\\xa7O\\x9f\\xa2(\\xafB\\x0e\\x0e\\x0e\\xb1\\xb1\\xb1!!!D\"Q\\xb4r\\x0b\\x89D\\xbaq\\xe3\\x86\\x1a\\'\\x86\\x88B\\x81\\x1e\\xd1LW\\xaf^\\xc5\\x1f\\x93\\xc9d\\x0b\\x0b\\x8b{\\xf7\\xee\\xed\\xd8\\xb1\\x03-\\x05Q9\\x12\\x89\\xb4z\\xf5\\xea\\xb8\\xb88\\x1b\\x1b\\x1b\\xfc\\xed\\x15\\n\\x85\\xa2\\xff\\x0b\\x10\\xf5B\\xa9\\x1bD\\x03\\xf1x<CC\\xc3\\xea\\xeaj\\x00 \\x10\\x08\\x93\\'O>~\\xfc8\\xda\\x8e\\xb8\\xa5\\xb1\\xd9\\xec\\x95+W\\xfe\\xf1\\xc7\\x1f\\xd8\\xf7c\\xa9Tjyy\\xb9\\xb6\\xb6\\xb6\\xba\\xe7\\x85\\xa0;zD\\x13\\xc5\\xc6\\xc6VWWkii\\xe9\\xeb\\xebGDD\\\\\\xb8p\\x01E\\xf9V```p\\xfc\\xf8\\xf1\\xb3g\\xcf\\xea\\xe9\\xe9\\x11\\x89\\xc4\\xea\\xea\\xea\\xb8\\xb88uO\\n\\x01@w\\xf4\\xedBMM\\xcd\\xb5k\\xd7D\\xbfy\\x88\\xc8v\\xfa\\xf4\\xe9+W\\xaet\\xee\\xdc9  \\xc0\\xcc\\xccL\\xdd\\xd3\\x91\\xa2_\\xbf~\\xcd\\xafR\\x9b\\x99\\x99\\x99\\x90\\x90\\xa0\\x8a\\xe9\\xa8Xqq\\xf1\\xfe\\xfd\\xfb?|\\xf80a\\xc2\\x84Y\\xb3f\\xa9{:\\xed\\x06\\x91H\\x1c;v\\xac\\x8e\\x8e\\x8e\\xea\\x0f-D\\xda\\xbc\\x8b\\x17/\\xaa\\xfe\\x7f<\\xa2V~~~\\xcd\\xff\\xc1\\xf0\\xf3\\xf3S\\xf7u *v\\xf1\\xe2\\xc5\\xe6\\xff`H\"\\xa9\\xfb\\xba\\x10\\xf9\\xf8|>\\x00x\\x85\\xe5\\xa9{\"\\x88j\\xa4\\x1c^\\xa8\\x92\\x7f\\x9f\\t\\x04\\x82\\xf1\\xddM\\x8eN\\xef\\xd4\\xfcC!m\\x01#8\\x1e\\xfbeW9\\x94\\xa3G\\x10\\x04\\xd1p(\\xd0#\\x08\\x82h8\\x14\\xe8\\x11\\x04A4\\x1c\\n\\xf4\\x08\\x82 \\x1a\\x0e\\x05z\\x04A\\x10\\r\\x87V\\xdd \\x1d\\x1d+9&\\xf7\\xea\\xfe\\xca\\xac\\xd7\\x00\\xa0\\xef\\xd0\\x8b1.\\x80\\xde\\xcd\\xa7\\x85F!\\xedHL\\x1ak\\x7fL\\xee\\xeb\\x82J\\x00\\xe8e\\xad\\x1f0\\x98\\xe1\\xe3Do\\xa1Q-\\r\\xdd\\xd1#\\x1dZ\\xf1\\xa3\\xf3\\xc9\\xa1\\xfe\\xba6]=v\\xc6{\\xec\\x8c\\xa72\\xba$\\xef\\xf6/\\x8e\\x97\\xf3\\xc5\\x05\\xe5F!\\xed\\xc8\\xf9\\x17\\xc5\\xfe\\xe1\\xc9]-t\\xe3\\x97{\\xc4/\\xf7\\xe8bN\\xf5\\x0fO\\xbe\\xf8\\xb2\\xb8%F\\xb5\\x02\\x14\\xe8\\x11q\\xf1s\\x19\\xf1s\\x19\\xea\\x9eEk\\xe0\\xb1\\x98\\xe9g\\x82h\\xce}\\x1c\\xfd7\\x93\\xf4\\x8dI\\xfa\\xc6\\x8e\\xfe\\x9bi\\x8e\\xee\\x19g\\x82\\xea\\xd8\\x8d\\xfer*7J\\x030\\x82\\xe3\\x19\\xc1\\xf1\\xea\\x9eEk`rxA\\xd1\\xe9}li\\x9b\\xc78\\x1a\\xeb\\x92\\x8cuI\\x9b\\xc78\\xba3hA\\xd1\\x19\\xc5\\xdc:\\xd5\\x8ej\\x1d(\\xd0#\\x1d\\x17\\xf3\\xe1\\xb9\\xfa\\xda*\\xf3A~\\x80\\x97I\"\\x10\\xcc|\\xfc\\x045\\\\f\\xec_\\xaa\\x1d\\x85\\xb4#\\xe7\\x12\\x99U\\xbcz?ws\\x91\\xff\\xc3\\xe0\\xe7a\\xc6\\xad\\x15\\xfc\\x95\\xc4T\\xed\\xa8\\xd6\\x81\\x02=\\xd2q\\xb1\\x92\\x1f\\x02\\x80\\xbe\\x93\\x87h#\\xcd\\xc9\\x03\\x00*\\xde<P\\xed(\\xa4\\x1dy\\x98\\xce\\x02\\x00\\x0f\\x1b}\\xd1F\\x0f\\x1b\\x1a\\x00<H\\xadP\\xed\\xa8\\xd6\\x81>\\x8c\\xd5(u\\xec\\x92\\x9c\\xcb\\xbb\\xca_\\xde\\xaac\\x97\\x90i&F\\xbd\\x86\\xdb~\\x1dH\\xa6\\x9bc\\xaf\\xe2\\t\\x99>\\xbf%\\xa4G\\xace\\xbf\\x8b\\xd3\\xd2\\xa6\\xd2\\xbb\\rv\\xf4\\xdfL\\xd27\\x12\\xeb\\x83=0\\xf7\\xf1w\\x9e\\xbdK\\xb4\\xdd}\\xfb\\xa3\\xac\\xf3[\\xd8\\xef\\xe3\\xf8Ul\\xf8\\xbc1C\\x1d\\x8b\\x99s9\\xb4\\xfc\\xd5\\xed:v\\t\\xd9\\xc0\\xf4\\xd3y\\r\\xcc\\xc4\\x8e\\xd9{\\xcb\\xbd\\xcc\\xc8M\\x9c\\xd4gBa=\\xbd\\xb3\\xa7\\xfd\\xf4\\rT+W\\xd1\\x0e\\x18\\xd7\\x85\\x87L\\xfbO\\x02\\x80\\xc4U\\x03jKs\\xa1\\xf1\\xed\\x1f\\x14I1\\xc9\\xd8:\\xa2\\xba\\xe0#\\x00P\\x8c\\xadE\\x1b)\\xc6\\x0c\\x00\\xa8.LS\\xed(\\xf5*\\xa9\\xac\\xdbu/\\xe7\\xd6\\x87\\xf2\\x92\\xca:\\x13]\\xf2\\xf0NF\\x81\\xbe\\xb6\\xe6\\xfa\\x9f\\xf6\\x8e\\xc7\\x132\\t?\\xf7Y\\x1b\\x9d\\x1e\\x97\\xc1\\xa6\\x92\\xb5\\x06;\\xd37\\x8fq4\\xd2%\\x89\\xf5\\xc1\\x1e\\xf8{\\x98\\xef\\x9a\\xe4,\\xda\\xfeh\\x99\\xfb\\x96\\x9bYq\\x19lv\\r\\x1f\\x00\\xf26y\\x01\\x00\\x93[\\x17z/\\xe7vJyIe\\x9d\\xa9\\x1eyx\\'\\xa3\\xc0\\xafl\\xcd$\\xce{\\xef\\xc7\\xde\\x9b\\xfe\\xcb|\\x96\\xc3\\xa9\\x17\\n=\\xed\\xe9\\x1bF\\xd9\\xbb\\x9aQE;`\\x0eMu\\x9d\\xd4\\xd3\\x14\\x00\\x06\\xecI\\xcc\\xad\\xa8\\xc5\\xcf\"I\\x91\\x14Scc\\x01\\xe0cq5\\x00X\\xd3\\x1bT\\x9ad\\xd0)\\x00\\x90VR\\xad\\xdaQ\\xad\\x03\\x05z\\xcdQ\\xc7.~\\xbdu|}]\\xad\\xcb\\xbc}4\\x97\\xbe\\x95YoR\\xff\\x08\\xa8H~\\xd8+\\xf8\\x06I\\xd7\\x00\\x00\\xbc\\xc2\\xf2\\xb0\\xc8\\x98uq\\xbb\\xfd\\xd4 \\x8a\\xa1e\\xd6\\xc5\\x90\\xa2{\\xe1\\x04\"\\xc9\\x19\\xa9,\\xbe\\x00\\x00\\x17\\xe5IDATe\\xce\\x1e\\xec x\\x1f\\xb1\\xf8\\x88\\xb7\\xa7\\x9f^c;i\\xa5\\xeb\\xfc\\x83\\xec\\x0f\\x8f\\xde\\xed\\x9d\\x05\\x00u,\\xe6\\xab\\xad\\xe3\\xa0^\\xe02\\xef\\x80\\xbe\\xa3\\x1b7\\xe3\\xc5\\xc7\\xe3?U\\xbc\\xb9\\xdfs\\xddU,\\xd6\\xe3c\\xd3N\\xfd\\xcf~\\xda:]\\xdbn\\xdc\\xf4\\xa4\\x8f\\xc7\\x7fz\\x132\\xa9W\\xf0\\rmS[\\xaf\\xb0<\\xd6\\xbb\\xd8\\xe4]3(ts\\x8f\\xdf\\x12\\x08\\xc4O?\\x966\\xe3\\x97\\x95%\\xfd\\xd7eYxc\\x97\\xdc\\xcc\\xfd\\x7f\\xf8U,\\x00 \\xea\\xe8\\x8a6bO\\x05\\x95\\x8d\\xde\\x82)7J\\x8d\\x8a\\xb9u\\xe3\\x8f\\xbf\\xae\\xe5\\xd7\\xef\\x9b\\xec\\xd2\\xd7\\x96\\xf6\\xa6\\xa02\\xe0\\xef\\xd4\\x87\\xe9\\x157\\x16\\xf52\\xd0!\\x01@\\xde&/,2n\\xbf\\x9d\\x154\\xc2\\xde\\x92F\\t\\xb9\\x9d\\x15\\x9ePD\"\\x12\\xf6|\\xed\\x82\\x1d\\x04\\xef#\\x16\\x1f\\xf1\\xf65W\\xd3W~e{p\\x8a\\xeb\\xa3L\\xf6\\xac3\\xef\\x00\\x80\\xc9\\xad\\x1bw\\xec\\x95\\xa0\\x1e\\x0eLqq\\xb3\\xd6\\x7f\\x91\\xc7\\xfd\\xe9\\xe2\\xc7\\xfb\\xa9\\x15W\\xe7\\xf7\\xc4b=>\\xf6\\x7f\\x97\\xd3\\xd6\\x8d\\xb4\\xeff\\xa9\\x9b\\x94\\xcb\\xfd\\xe9\\xe2\\xc7Iaon,\\xeaek\\xa8\\x9d\\xb7\\xc9+6\\x9d5\\xe3T\\xb29\\x8d\\x92\\xb0\\xc2\\x83D\\xfc\\x94\\x13Y6\\xd8\\xe6\\xbf\\xf7e\\xe1\\xdfvi\\xec\\x92e\\x04qE\\xb0j\\xf8\\x00\\xa0K!\\x8a6bO+j\\x1a\\xdd\\xa4H\\xb9Q\\xad\\x03\\xa5n4G\\xce\\xa5]\\xb5\\xa5\\xb9vS\\xd6\\x18v\\x1fB\\xd4\\xd63\\xe84\\xc0\\xc1ocmIv\\xfe\\x7f\\x87\\xc5zZ\\x0c\\xfe\\x86j\\xe5J\\xa4\\xd2\\x18\\xa3\\x97\\x00\\x00\\xebm\\x13\\x12\\x0e6\\xe3\\x03h.}\\xb5(:\\x86=}\\xb18\\x9bsi\\x17\\xaf,\\xdfn\\xeaZzWo\\xa2\\x8e>\\xbd\\xeb \\xfb\\xa9A\\xb5\\xa5\\xb99\\x97vI\\x8c]Fs\\xe9G\\xd4\\xd6\\xc3\\xfa\\xf0\\xabX9\\x97C\\xb1\\x97\\xe8]\\x07\\xe9\\xd9v\\xe3\\xb1\\x98%O.\\xe1\\xfd\\x0b\\xee\\x84Y\\x8d\\x98\\xaf\\xc4[\\x81\\x88\\xdau/\\'\\xb7\\xa2v\\xcd0\\xbb!\\xce\\x86z\\x14\\xe2\\x00{\\x83\\x8d\\xa3\\x1d\\xb2\\xcbk\\x0f\\xc7\\xe5\\x8b\\xf5\\xfc\\xa6\\x8f\\x85\\xab\\x19\\x95\\xa6C\\\\2\\x88\\x01\\x00\\x0fRY\\x8a\\x9f%`\\xb0M_[\\x9a\\x0eY\\xcb\\xd7\\xd5\\x10\\x8b\\xb3\\xbb\\xee\\xe6\\xe4\\xb3xkG\\xd8y;\\xd2\\xf5\\xb5\\x89\\x83\\x9c\\xe8A#\\xecs+jw\\xdd\\xcb\\x11\\x1b\\xbbl\\x88M?;\\x9a\\x1e\\xe5S\\x1fV5?\\xf4s\\x9fAN\\xf4n\\x96zL\\x0e\\xef\\xd2\\xeb\\x12\\xbc\\x7f\\xd8\\x93\\x82\\xf9^VJ\\xbc\\x15\\x1d\\x16\\n\\xf4\\x9a\\xa3\\xfc\\xe5-\\x000\\xec\\xe9\\x8b\\xb7\\x18t\\xf2\\x04\\x80\\xf2\\x977\\xc5z\\xea\\xd9\\xf7\\xc4\\x1eP\\x0c-\\x01\\x80\\xc7j\\xc2\\'E\\xfa\\x8e\\xbd\\xa5\\x9e\\x97\\xdeu\\x10\\xdeB\\xef\\xea\\x03\\x00\\xe5\\xafn\\x8b\\x8fu\\xee+\\xd6G\\xf4o\\x8c\\xd5\\xc8\\x05\\x00Pp\\xeb\\x18\\xf6\\x94\\xf5.\\x0e\\xea\\x85-\\xba8\\x9d\\xa4K\\x07\\x00AM\\x95h#\\xf6\\x94\\xa8g\\xa8\\xdaQjt\\xebC9\\x00\\xf8\\xba~\\x99\\x9b\\xa7\\xbd\\x01\\x00\\xdc\\xfcP.\\xd6\\xb3\\xa7\\x95\\x1e\\xf6\\xc0\\x92F\\x01\\x00&\\x97\\xa7\\xf8Yz3\\xf4\\xc5Zn\\xa5\\x94\\x03\\xc0 \\x91U\\xe4\\xd8\\x8a\\xf2\\xdb)\\xe2\\xe7\\xedk\\xab/\\xd6\\xe7A\\xda\\x97\\xbf1\\x0b\\xbc\\xac\\x00\\xe0X|\\x01\\xf64.\\x83%\\x14B\\x8b.N\\xa7\\xeb\\x90\\x00\\xa0\\x8a\\xd7\\xe06\\x1c{j\\xa8C\\x94>F\\xd9Q\\xad\\x03\\xa5n4G\\x1d\\xbb\\x14\\x00\\x9e\\xff\\xec.\\xd6^\\xc3\\xcc\\x12k!\\xea|\\xfa\\xbd\"\\x90\\xc8\\x00\\x00M)>\\xa3E\\xa1\\x8a\\x9f\\x97S\\x06\\x00d}c\\xbc\\x85D3\\x06\\x80:v\\x89XO,\\x83\\xd4\\xa0\\x0f\\xa7\\x0co1\\xed\\xffu\\xf6\\x85\\x90\\xca\\xec\\xb7\\xacwq\\xf4\\xae\\xde\\x05\\xb7\\xff\\xb0\\x1c1W\\xf6d\\x9a\\x99\\xa3\\xa7Z\\xb9\\xd6\\xb1Kxe\\xf9\\xa2\\x13\\xe3\\x95\\xe5\\x01\\x00\\xd5\\xd2Y\\xb5\\xa3\\xd4\\xa8\\xb4\\xb2\\x0e\\x00\\xdcw=\\x17k\\xcf*\\xab\\x11k\\xd1\\xd7\\xfe\\x14\\x8f\\xc8D\\x024\\xed\\xe7\\x02\\xa8d\\xf1\\xbb\\xc6\\xb2\\xca:\\x000\\xd6\\xfdR\\xa4\\xd7X\\x97\\x04\\x00%\\x95\\xe2k\\r\\xb1\\x0c\\x92h\\x9f2\\x91>_\\xf74\\r\\xb9\\x9d\\xfd\\xb6\\xb02.\\x83\\xe5\\xedH\\xff#\\xbe`\\xae\\xa7\\xa5\\xec\\xc943G\\xefjF-\\xa9\\xac\\xcbg\\xf1D\\'\\x96\\xc7\\xe2\\x01\\x80\\xb3\\xa9\\xf8\\xcf\\x7f3G\\xb5\\x0e\\x14\\xe85\\x07\\x99n\\xca+/\\xecw \\x19\\xbb\\xe5l\\xbd\\xf3\\x1a\\x98\\xf0*\\x8a\\xea\\xb8e\\x14C\\x0b\\xac\\x85\\x8f\\x85~\\x03S\\xb1\\x9e|n9\\xfe\\xa9\\xef\\xa7>\\xb4/\\x7f\\x1e\\x08$\\xb2\\xe5\\xb0\\x1f\\xb2\\xff\\xdeYp\\xf3\\xa8\\xb6\\xa9\\r7\\xedy\\xa7\\x85\\xe2I\\'1\\xcd\\xcc\\xd1\\xd3\\xbb\\xf9\\xb0?\\xc4s\\xd3\\x13um\\xbed{\\xb9\\xe9I\\x00`\\xd8c\\x88jG\\xa9\\x91\\xa9>\\xb9\\x90\\xcdK^\\xd3\\x8fNm\\xd5\\xdfw\\x13=r\\x11\\x87WVUgA\\xfb\\xf4\\xf9dY\\x15\\x1f\\x00L\\xf5\\xc4\\xeb\\xb3\\x97W\\xf1\\xf1O}\\xb1>\\xc6\"}\\xc8D\\xc2\\x0f\\xfd-w\\xde\\xc9>\\xfa\\xa8\\xc0\\xc6P\\xfby.\\xf7\\xf049[\\xf073G\\xef\\xe3D\\x8f\\xcfd\\'\\xe6r\\xbbX|\\xf9$&)\\x97\\x0b\\x00C\\\\\\x1a\\xfdG\\x9br\\xa3Z\\x07J\\xddh\\x0ec\\xf7\\xd1\\x00\\xc0~\\xffH\\xb4\\x91\\x9d\\xf2\\xe4\\xf5\\xb6\\xf1M:\\x0ev\\xcf.\\x14\\xf0\\xeby\\xd5\\t\\x01\\xdd\\xe5\\xf67r\\x1b\\x01\\x00\\xacw\\x0f\\xf1\\x16\\xec1\\xd6.\\x8a\\x93\\x9a \\xd6\\x87\\xde\\xbdAd\\xb4\\x18\\xfa\\x9d\\x16\\x85Z\\xfe\\xfan\\xe6\\xd9\\xf5\\xe6>\\xdfhQZ\\xa0\\xa6\\x9a\\x08\\xf3A~Z\\xda\\xba\\xcc\\xb8H\\xd1Ff\\\\$Q[\\xcf\\xdc{\\x86jG\\xa9\\xd1\\xe8.\\xc6\\x00\\xf0(\\x93-\\xda\\xf8$\\x8b=\\xfe\\xf8\\xeb&\\x1d\\x07\\xbbg\\xe7\\x0b\\x84\\xd5u\\xf5\\xddw\\xc8/a8\\xa2\\xb3\\x11|^t\\x88\\xc1\\x1ec\\xed\\xa2\\x12r8b}\\x8687\\xb8Y\\xf9\\xae\\x9f\\x05\\x95\\xacu\\xf7c\\xf9\\xfak\\x99\\xdfx\\x98\\xebH\\xfc\\xebA\\xb5\\xfc<\\xccu)Z\\x91\\r\\x17\\xbfG&1\\xf5(\\xc4\\x19\\xee\\xe6\\xaa\\x1d\\xd5:P\\xa0\\xd7\\x1c\\xb6\\x93\\x02u,\\x1c3\\xce\\x04\\x95>\\x8b\\xe6s\\xcb\\x055\\xdc\\xf2\\x97\\xb7S\\xc3\\x96\\xdbO]\\xdb\\xa4\\xe3\\xe8\\xd9t\\x05\\x00nFR\\xf9\\x8b[4\\x97\\xber\\xfb\\xdb~\\x1d\\xa8mb\\x93}!\\x84\\xf5.NP\\xc3e\\xbd\\x8b\\xcb\\xbe\\x10\\xa2mbc;i\\xa5X\\xcf\\xc2\\xfb\\xa79\\x1f\\x9f\\nj+\\xb1>$]\\xbaX\\x1f\\x92\\x9e\\xa1\\x99\\xf74\\x10\\n+\\xde<\\xb0\\xf4\\x9d\\xdd\\xa4i+\\x81bh\\xe1\\xf4\\xed6N\\xea\\xb3\\xccs\\xc1|n\\x19\\x9f[\\x96yn\\x03\\'\\xed\\xb9\\xe3\\xac\\x10|M*H|UX\\xc1QmG\\xe0W\\xb6\\x8e&:A\\xd1\\x19\\xd1\\xc9\\xa5\\xe5U|n\\xad\\xe0vJ\\xf9\\xf2\\x7fR\\xd7\\x8e\\xb0o\\xd2q\\xbaZ\\xe8\\x01@R\\x1e\\xf7\\xd6\\x87\\xf2\\xbe\\xb64E\\xcekc\\xa8\\x1dr+;.\\x83\\xc5\\xad\\x15\\xc4e\\xb0Bng\\xdb\\x18j\\xaf\\x1cj+\\xd6\\xf3tB\\xe1\\xd3lN%\\xefS\\x1f:\\x95\\xb4\\xf2\\xab\\x06}\\x0c\\xa9\\xa4i\\xbd\\xcd\\x84Bx\\x90Z1\\xbb\\xbf\\x9c\\xbcM\\xf3Y\\xd0(\\xdb\\xc6:=\\xcb\\xe1\\x04_\\xcf,\\xab\\xe2\\x97U\\xf17\\\\\\xcf|\\x9e\\xcb\\t\\x19\\xef\\x88\\xafI\\x05\\x89\\xaf\\n+8J-Pq\\xf0v **j\\xc6\\x8c\\x19\\x8a\\xa4)\\xf8U\\xac\\xdc+{\\xcb\\x12\\xff\\xe3\\x95\\xe7\\x93\\xf4\\x8c\\xf4\\x1d{3\\xc6\\x07\\xd0>\\x7f\\xb5G4ZaG\\x93l\\x01\\x00n\\xe6\\xcb\\xf4?\\x03\\xab\\x8b2\\xf4l\\xba\\xba\\xcc\\xdb\\xa7c\\xe1\\x04\\x12\\xd9p\\xb1\\xc9\\xd4\\xb1\\x8bs.a\\xeb\\xf7K\\xc9\\x06&Fn#D\\xd7\\xd1\\xe3\\xc3=v>\\xce8\\xbb\\x8e\\xfd\\xe1\\xb1PXo\\xd0\\xc9\\xd3a\\xc6\\xa7u\\xf4\\xa2j\\x8a2\\x92\\xd6\\x0e6\\xed7\\xc1u\\xe1!\\xf9o\\x8d*T\\xbc}\\x90\\x17}\\xa02\\xf3\\x15\\x00\\xe89\\xf4\\xb2\\x19\\xbfL\\xec\\x13`\\xa9\\xebM\\xe5\\x8e\\x92!\\xe5\\xf0B_GjTTT3g>}\\xfa\\xf4\\xea\\xe4\\xbb\\x8a\\x94\\x12dU\\xf3\\xf7\\xc6\\xe4\\xfe\\xf7\\xae,\\x9f\\xcd3\\xa2\\x92z3\\xf4\\x03\\x063\\xb0\\xef\\xf2@\\xc3\\x8c6\\x96\\xf4\\x90l\\x01\\x80\\x97\\xf9\\xdc\\xc0\\xcb\\xe9\\x19\\xa5\\xd5]-\\xf4\\xf6Mvq2\\xd1\\x01\\x89l\\xb8X\\xce\\xa4\\x98\\xfbi\\xfd~ie\\x9d\\x89\\x1eyD\\xe7\\x06\\xeb\\xe8\\xf1\\xe1\\x8fWx\\xac\\x8b\\xcex\\x9c\\xc5\\xae\\x17\\n=\\xed\\r6\\x8cr\\xc0\\xd6\\xd1\\x8b\\xca(\\xad\\x19| iB\\x0f\\xd3CS\\xc5\\x7ffZ\\xc8\\x83\\xb4\\x8a\\x031y\\xaf\\xf2\\xb1\\xed\\xc9\\xf4\\x96\\r\\xb1\\x11\\xfb\\x04X\\xeazS\\xb9\\xa3d`\\x04\\xc7GFFN\\x9f>]5\\x17 \\x02\\x05\\xfav@\\xf1@\\xdffI\\x8d\\x95\\xd2\\t\\xeb\\x9f\\xaf\\xec\\xd3\\xe9\\xc70Z\\xc3\\xaf\\x9ej\\x92\\xd6\\x0f\\xf4m\\x96\\xd4X)U\\xbd\\x10\\xfa\\x84>\\x0f\\xf3\\xeb\\x84\\xff}\\xd2<-\\x17\\xe8Q\\xea\\x06i[\\xca_\\xdd\\xa1\\x98048\\xca#\\xca\\xb9\\x93R\\xce\\xa0S48\\xca\\xb7(\\x14\\xe8\\x916!~.\\x83\\x93\\x9e\\xc8\\xafb\\xe5\\\\\\xdem3.@\\xdd\\xd3A\\xda\\nFp|b.\\x87U\\xcd\\xdf}?\\'`\\xb0\\x8d\\xba\\xa7\\xd3^\\xa1@\\x8f\\xb48\\xb1\\xfds\\x1a\\xf3f\\xdb\\x84\\xa4_\\xbc\\x8d\\xdc\\x86\\x1b\\xf5\\x1e\\xd9*\\xf3B\\xd4Ll\\xff\\x9c\\xc6L8\\xfe\\xc6{\\x7f\\xd2\\xf0NF#%\\x96\\xeb \\nB\\xeb\\xe8\\x91\\x16\\xa7Hj\\xbe]\\x7f\\x02\\x81(G\\x91\\xd4|3W\\xc4#\\x18tG\\x8f \\x08\\xa2\\xe1\\xd0\\x1d=\\xa2\\x1ex\\x1a\\xa7\\x1d\\xdc\\xcb\\x0b\\xeb\\x8b\\x1f]\\xc8\\xfeg\\'\\xaf\\xbc\\xb0\\x1d\\xcc\\xb6\\x9d\\xc3\\xd38m\\xff^\\xbe^\\x08\\x17^\\x14\\xef\\xbc\\x9b]\\xc8\\xe6\\xb5\\xf1\\xd9\\xa2;zD=\\xdaK\\xc4\\xacx\\xfb\\xe0\\xe5\\xc6\\x91\\xcc\\xd8\\xbfx\\xe5\\x85\\xea\\x9eK\\x87\\xd0\\xc6#&\\xeeAZ\\xc5\\xc8\\xc3/\\xffJb\\x16\\xb2\\x9b\\xb0\\xf5\\x9b\\xba\\xa0@\\x8f \\xb2d\\x9e]o\\xfbu`\\xf7\\xd5\\x7f\\xab{\"H\\xdb\\xb2\\xfeZf\\xa0\\xaf\\xed\\xdfs\\xe4\\xef\\x11\\xd2\\x16\\xa0\\xd4\\r\\x82\\xc8\\xe2\\xb6\\xe5.A\\x0b\\xfd\\x9a \\xe2\\xee.u#i\\x11\\xe4\\xf7k\\x1b\\xd0\\x1d=\\x82\\xc8\\x82\\xa2<\"U;\\x8a\\xf2\\x80\\xee\\xe85\\x9e\\xa0\\x9a\\x93s9\\xb4,\\xe9F]E\\xa1\\x96\\xb6.\\xd5\\xd2\\x99\\xe6\\xd2\\xd7\\xa4\\xdfD\\xbc~\\x08+\\xf9a\\xc1\\xed0\\xce\\xc7\\'\\xf5\\xbc\\x1a\\xaau\\'\\xeb1K\\xb0z\\xad\\x98/efC\\x133\"\\xd6\\xb1\\xde> \\x90\\xc8Fn\\xc3\\x1d\\xbf\\xd9\\xca\\xaf\\xac\\xc88\\xbb\\x9e\\xfd!^\\x8bB5\\xec1\\xd4\\xc1\\x7f3\\xbe?\\xbb\\xdc\"\\xb1\\x8d\\x91]\\xf3V\\xee\\xb5Hj\\xe6\\x86\\xf5\\x1a\\x8cS#\\x08\\xbd\\x9fs\\xe3}Y!\\xa7N\\x97\\xac\\xe5lJ\\xedkK\\x9b\\xd8\\xc3\\x04\\xaf\\x1f\\xf20\\x9d\\x15\\xf6\\xb8\\xe0I\\x16\\xa7\\x86_\\xdf\\xc9\\x8c\\xba\\xc4\\xdb\\x1a\\xab\\xd7\\x8a\\xc1?2M\\x0c\\xec\\xb3.:\\xe3A\\x1a\\x8bL$\\x0c\\xefl\\xb4u\\x8ccE\\r\\x7f\\xfd\\xb5\\x8c\\xf8L6\\x95\\xac5\\xd4\\xc5p\\xf3\\x18\\x07|\\x7fv\\xb9Eb\\x1b#\\xbb\\xe6\\xad\\xdck\\x91\\xd4\\xcc\\r\\xeb\\xdb\\x1d\\x14\\xe85\\\\j\\xd8\\xb2\\xb2\\xa4\\x1b\\x0e\\xfe\\x9b,|\\xbe!\\x10\\xc95%\\xd9\\xd9\\x17\\xb7\\xbf\\xde:\\x0e\\x8fn\\xc9\\xa1~\\xc6\\xee\\xa3\\xdd\\xb7\\xc7\\tx\\xd5i\\'\\x03?\\x1e]B\\xd2\\xa5\\x1b\\xf6\\x18\\x8a\\xbd\\x8a\\x97{\\xcd\\xbe\\xb0\\xcdn\\xf2*\\xca\\x9c\\xdd\\xd9\\x7f\\xef(\\xbc\\xfb\\'\\x9f[N Q\\xec\\xa7\\xad\\xc5\\x0b\\xcfj\\x91(N\\xdf\\xff*6\\xaa\\xb1\"\\xb1R\\xa7*\\xb7\\xe6\\xad\\xdck\\x91\\xd41\\x83\\xb8\"\\x96\\xfd\\x93z\\xe3}\\xd9\\xa61\\x0e\\xdfxX\\x90\\x89\\x84\\xec\\xf2\\x9a\\xed\\xb7\\xb3\\xc7\\x1d{\\x8dG7\\xbfS\\xc9\\xa3\\xbb\\x18\\xc7-s\\xaf\\xae\\x13\\x04^N[r\\xe1#\\x9dJ\\x1a\\xfay_u\\xbc\\xdc\\xeb\\xb6[\\xd9\\xab\\x86\\xd9\\xed\\xfe\\x9a\\xb2\\xe3N\\xf6\\x9fO\\x0b\\xcb\\xab\\xf8\\x14\"a\\xadH\\xe1Y\\nQ\\xeb\\xd7\\x89Nb\\xa3\\x1a+\\x12+u\\xaark\\xde\\xca\\xbd\\x16I\\x9a\\x14\\xc4\\x15\\x81R7\\x1a\\x8e\\xf5\\xfe\\x11\\x00P\\x0c\\xad\\xb4\\xb4u\\t$2\\xd5\\xd2\\xd9\\xf1\\xdbmb}\\x1c\\xfc6\\x92\\xf4\\x8d\\xb5\\x8d\\x19\\x8e\\xdfl\\x01\\x80\\xbc\\xe8\\xfd\\x92\\xc71\\xf7\\xf1\\xffTfv\\\\\\x00\\x00\\x94\\xbf\\xbac5|.\\xd6\\x82\\xedXP\\xfe\\xfa\\x8e\\xe4(\\x19Eb%\\xc9\\xady\\xab\\xc8\\xb5 \\nz\\x94\\xc1\\x02\\x00+\\x03\\x8a.E\\x8bL$8\\x9bR\\xb7\\x8ds\\x14\\xeb\\xb3q\\x8c\\x83\\xb1.\\x89A\\xd7\\xde2\\xd6\\x11\\x00\\xf6\\xc7H\\xf9\\xab\\xe9\\xefa\\x8e\\x95\\x99\\r\\x18\\xcc\\x00\\x80;)\\xe5s=\\xad>\\xb7\\xd8\\x00\\xc0\\x9d\\x8f\\xe2\\x85\\x03Af\\x91XIrk\\xde*r-\\x1d\\x1c\\n\\xf4\\x1a\\xce\\xa4\\xcfX\\x00H9\\xbc\\xe0\\xf9\\xff\\xfa\\xa5\\xfd\\x19X\\x9ap\\x85\\xaco,z\\x9f\\xeb\\x15\\x96\\x87\\xdfb\\xebX8\\x02@U~\\x8a\\xe4q\\xbe\\x94\\x99\\xa5\\x9b\\x89\\xb7\\x18Z\\x00\\x00\\xaf\\xa2Hr\\x94\\xec\"\\xb1b\\xe4\\xd6\\xbc\\x95{-\\x88\\xe2\\xc6v3\\x01\\x80\\x05\\x91)\\xfdv?\\x0f\\xbc\\x9cv\\xe5M\\xa9\\xb1.Y\\xf4>7o\\x93\\x17~\\x8b\\xedh\\xac\\x03\\x00)\\xc5U\\x92\\xc7\\xc1\\xcb\\xcc\\x9a\\xe9S\\xc4Z\\xb0\\xc2RE\\x1c)\\xab\\x0fe\\x17\\x89\\x15#\\xb7\\xe6\\xad\\xdckAP\\xeaF\\xc39\\xcf\\x0e5r\\x1b^\\xf2\\xf8\\x12\\xeb],\\xf3\\xe19\\xe6\\xc3s\\xda\\xc6\\x8c\\xce?\\x9d\\xd4\\xb3\\xeb\\x0e\\x00\\xfc*v\\xfe\\xf5CeI\\xd7ye\\x05\\x82\\xdaJl\\x08\\x9f+\\xe5\\x16\\x0c/3\\x0b\\x04-\\xe9-\\xd2\\xf6\\xbb\\x96]$V\\x8c\\xdc\\x9a\\xb7\\xb2\\xafE*\\x94\\xa3oL\\xe8$\\xe7\\xe1\\x9d\\x8d.\\xbd*\\x89\\xcd`\\x9dKd\\x9eKd2\\xe8\\xda\\'\\xbf\\xe9\\xdc\\xddR\\x0f\\x00\\xd85\\xfcC\\xb1\\xf9\\xd7\\xdf\\x95\\x15\\xb0y\\x95\\x9f\\xab]\\x97W\\xf1%\\x8f\\x83\\x97\\x99\\xc5?\\x9b\\x14k\\x91\\xba\\x0f\\xba\\xec\"\\xb1b\\xe4\\xd6\\xbc\\x95}-R\\xa1\\x1c=\\xa2Y\\x08\\x04c\\x8f\\xb1\\xc6\\x1ecAX\\xcf\\xfe\\x98\\x90\\x17\\xbd\\xbf\\xe2\\xcd\\xfd\\xb4\\x93+z\\x05\\xdf\\x04\\x80\\x94\\xc3\\x0bY\\xc916\\x13\\x7f\\xb6\\x1a>\\x97\\xa4g\\x08\\x8aEF\\xc5\\xc9.\\x12+F~\\xcd[\\x99\\xd7\"U\\xc7\\x0c\\xe2\\x8a \\x10`lW\\xe3\\xb1]\\x8d\\xeb\\x85\\x90\\x90\\xcd\\xde\\x1f\\x93w?\\xb5b\\xc5?i7\\x17\\xf7\\x02\\x80\\x85Q)1i\\xac\\x9f\\x87\\xda\\xcc\\xf5\\xb42\\xa4\\x92@\\xb1\\xc8\\xa88\\xd9Eb\\xc5\\xc8\\xady+\\xfbZ\\xa4\\xd2\\xa4 \\xae\\x08\\x94\\xba\\xd1p\\xf1s\\x19\\xbc\\xf2\\x02\\x00\\x00\\x82\\x96A\\xa7\\x01\\x9d\\x16\\x1d\\x01\\x80\\xea\\xfc\\x8f\\xd8\\xabX\\x11W\\xebQ\\x0b\\xb1(_\\xcfW\\xf1w\\xfc\\xe4\\x16\\x89\\x15%\\xb7\\xe6\\xad\\xeckA\\x9a\\x84\\x11\\x1c_\\xc0\\xe6\\x01\\x80\\x16\\x01\\x06\\xd8\\x1b\\x1c\\x99\\xd6\\t\\x00>\\x96Tc\\xaf&ds\\x00`\\xe1@k,\\xca\\xf3\\xf8\\xf5\\xaa=\\xbb\\xdc\"\\xb1\\xa2\\xe4\\xd6\\xbc\\x95}-\\x08\\xa0@\\xdf\\x11\\xa4\\xfd\\x19X\\x95\\xff\\xa1\\x9e\\xcf\\xabc\\x17\\xe7]\\xfb\\x1d\\x00\\xe8\\x9f\\x17\\xd5\\x18t\\x1a\\x00\\x00y\\xd1\\x07\\xf9Ul~eE\\xf6\\xc5\\xed\\xaa=\\xb5\\xdc\"\\xb1\\xa2\\x14\\xa9y+\\xe3Z\\x90\\xa6\\n\\xbc\\x9c\\xf6\\x81Y\\xc5\\xe3\\xd7\\x17s\\xeb~\\x8f\\xcd\\x03\\x80\\xa1\\x9f\\xa3\\xed\\x00{\\x03\\x008\\xf80\\x8f]\\xc3\\xaf\\xa8\\xe6o\\xbf\\x93\\xad\\xdaS\\xcb-\\x12\\xdb`\\x9e\\n\\xd4\\xbc\\x95q-\\x08\\xa0R\\x82\\xedBsJ\\trR\\x13\\x8a\\x1eD\\xb0S\\x1e\\xf3\\xca\\x0b\\xb4(T\\x1dS[\\x93~\\x13\\xacF\\xcc\\xd7\\xa2P\\x01\\xa0\\x8e]\\x92\\x15\\xb5\\xa5\\xe2\\xed}~\\x15\\x8bj\\xe1l3ay\\xca\\x91E\\xd8\\xc0\\xc6\\x8a\\xca*XxVn\\x91X\\xa9\\xa3d\\xd7\\xbc\\x95}--G2\\x9d\\xd5\\xcc\\x8cP[(%\\x98\\x90\\xcd\\x89x^\\xf48\\x93]\\xc0\\xe1Q\\xc9Z\\xb6\\x86:\\x13\\xba\\x9b\\xcc\\xf7\\xb2\\xa2\\x92\\xb5\\x00\\xa0\\xa4\\xb2n\\xcb\\x8d\\xac\\xfb\\xa9\\x15\\xac\\x1a\\xbe\\xb3\\tu\\xf9\\x10\\x9bE\\xe7?}D\\xdfXQY\\x05\\x0b\\xcf\\xca-\\x12+u\\x94\\xec\\x9a\\xb7\\xb2\\xaf\\xa5\\xe5H\\xa6\\xb3\\x9a\\x99\\x11B5c;\\xb4\\xf6X3\\xb6\\tEb;\\x9e\\xb6\\x10\\xe8\\xd5E\\xf1\"\\xb1\\x1d\\x10\\xaa\\x19\\x8b \\x08\\x82(\\t\\x05z\\x04A\\x10\\r\\x87\\x02=\\xa2z\\n\\x16\\x89E:\\x1a\\x05\\x8b\\xc4\"*\\x87\\xd6\\xd1#\\xaa\\x87R\\xf3\\x88T(5\\xaf.\\xe8\\x8e\\x1eA\\x10D\\xc3\\xa1;zD\\\\{\\xaa\\xe6\\xda0;d=j\\xa1\\xfd\\xf4\\r\\xd8cVrL\\xee\\xd5\\xfd\\x95Y\\xaf\\x01@\\xdf\\xa1\\x17c\\\\\\x00\\xbd\\x9b\\x8f2\\'\\x90Y06\\xfbBH\\xde\\xf5\\xdf\\xf1\\xa7\\xed\\xe2\\x1dSZ;\\xaa\\xe6\\n\\r\\xb3C\\x0b\\x07Zo\\x18\\xf5i\\xd1\\xbd\\xaa\\n\\xbd\\xc6\\xa4\\xb1\\xf6\\xc7\\xe4\\xbe.\\xa8\\x04\\x80^\\xd6\\xfa\\x01\\x83\\x19\\xd8\\xa6=\\x98\\x90[\\xd9\\xd8r~\\x8c\\xda\\xdf1\\x14\\xe8\\x11q\\xf8&\\xc3\\xed\\x88X\\x84-~t>5l\\xb9\\xe5\\xb09\\x9d\\x97\\x1c\\x03\\x80\\x9c\\x7f\\xf7$\\xef\\xf6w\\x99\\xbb\\xcf\\xcckJ\\x93\\x0e[\\xf1\\xf6AV\\xd4\\x16\\x92\\xaeAc\\x05c\\xed\\xa6\\x06\\xd9M\\r\\x82\\x8e\\xf1i\\x04\\xbe\\xc9p;\"\\x16a\\x1f\\xa4Ul\\xb9\\x91e\\xa0Cjf\\xa1\\xd7\\xf3/\\x8a\\x97\\xff\\x93:g\\x80\\xe5\\xb1\\x19\\x9d\\x01`\\xcf\\xfd\\x1c\\xff\\xf0\\xe4}\\xff\\xe72\\xc5\\xed\\xd3\\x96\\x7fA#\\xec\\x82F\\xd8A\\x9b\\xf94\\x02\\xa5n\\x10M\\xc3c1\\xd3\\xcf\\x04\\xd1\\x9c\\xfb8\\xfao&\\xe9\\x1b\\x93\\xf4\\x8d\\x1d\\xfd7\\xd3\\x1c\\xdd3\\xce\\x04\\xd5\\xb1\\x8b\\x9bt(T0V\\xc3\\xa8\\xa4\\xd0+\\x93\\xc3\\x0b\\x8aN\\xefcK\\xdb<\\xc6\\xd1X\\x97d\\xacK\\xda<\\xc6\\xd1\\x9dA\\x0b\\x8a\\xce(\\xe66\\xba5\\x9bz\\xa1@\\x8fh\\x1a\\xe6\\xc3s\\xf5\\xb5U\\xe6\\x83\\xfc\\x80\\xf0yCE\\x02\\xc1\\xcc\\xc7OP\\xc3e\\xc6\\xfe\\xd5\\xa4C\\xb9m\\xb9\\x8b\\xed\\xc0\\x83h\\x86\\xbbK\\xdd\\xb0\\x9ds\\x9a\\xe3\\\\\"\\xb3\\x8aW\\xef\\xe7n.\\xf2\\xf3\\x05~\\x1ef\\xdcZ\\xc1_I\\xcc\\xe6N\\xb1e\\xa0@\\x8fh\\x1aV\\xf2C\\x00\\xd0\\xff\\xbcq\\x02\\x06\\xdbG\\xa1\\xe2M\\xa3\\xbb\\xe1K\\x85\\n\\xc6j\\x18\\x95\\x14z\\xc5va\\xf3\\xb0iP\\xa7\\x10\\xdb\\x8f\\xe1AjE\\xf3\\x8f\\xdf\\x12\\xd0\\xcf\\xb1F\\x11\\xcd\\x14[\\x0c\\x99\\xe9\\xf4\\xddN\\x00\\xe0\\x95\\x17<\\x0f\\xfcT\\x00\\x04\\xcbe\\xcb\\xae\\x13+\\xe3\\xb0b[\\xd9@\\xc3\\xe4\\xb8\\xec\\x8a\\xafr\\'\\xdc\\x98\\xa6~\\xc2Y]\\xf0\\x11\\x00(\\xc6\\xd6\\xa2\\x8d\\x14c\\x06\\x00T\\x17\\xa65\\xe9P\\x1aC4S<\\xb3\\xaf\\xc5\\xce\\tN\\x00P\\xc0\\xe6\\xf5\\r\\xfd\\xb4\\xc9;\\x96\\xcb\\x96]\\'V\\xc6a\\xc5\\xb6\\xb2\\x81\\x86\\xc9q\\xd9\\x15_\\xe5N\\xb81\\xea\\xfa\\x84\\xf3cq5\\x00X\\xd3)\\xa2\\x8d\\x0c:\\x05\\x00\\xd2\\xda\\xea\\x96\\x99(\\xd0k\\x14\\xaf\\xb0\\xbc\\x94C\\x0bJ\\x9fG3\\xc6\\xfeh7\\xe5\\x17\\xac\\x91bde\\xfb\\x7f\\xabj\\x8a2\\\\\\xe6\\xee\\xc5Zd\\xd7\\x89\\x95zX\\xb1\\x88,\\xd9\"\\xb7\\xe2kcGV\\xfab\\x1b\\xc3\\xafb\\x01\\x00QGW\\xb4\\x11{*\\xa8l\\xa37\\\\--o\\x93\\xd7\\x82\\xc8\\x94\\xe8\\xe4\\xd2\\x1f}\\x18\\xbf\\x0c\\xb7\\xc3\\x1a\\xad\\x0c(\\xab|m3\\xcaj\\xf6\\xfe\\x9f\\x0b\\xd6\"\\xbbN\\xac\\xd4\\xc3\\x8aEd\\xc9\\x16\\xb9\\x15_\\x1b;\\xb2\\xf2W\\xdb\\xc2X5|\\x00\\xd0\\xa5\\x10E\\x1b\\xb1\\xa7\\x155\\x02\\xf5\\xccI\\x1e\\x94\\xba\\xd14\\xd6c\\x96\\x00@\\xe1\\xbdS\\x82\\xeaO[~\\xd7\\xf3j\\n\\xef\\x9cd\\x8cY\"\\xdaM\\x91:\\xb1M\"\\xb7\\xe2+\\xa2^K\\x06Y\\x03\\xc0\\xa9\\x84BN\\xed\\xa7`TSW\\x7f\\xf2i\\xe1\\x92A\\r\\xfe`+R\\'\\xb6I\\xe4V|EZ\\x01\\n\\xf4\\x9aF\\xdf\\xb17\\xbd\\xab\\xb7\\xa0\\x9aSx?\\x1cka\\xc6E\\xea;\\xb9S\\xad\\xbf\\xecq\\xa8`\\x9d\\xd8&\\x91[\\xf1\\xb5\\xd5`\\x05\\xaa\\x045\\r\\n\\x9cbO\\x89z\\x8d\\xde\\x9cj\\xbc\\xde\\x0c}oG:\\xa7F\\x10\\x9e\\xf0i\\xa9hd\\x12\\xd3\\x9d\\xa1\\xdf\\xc9\\xec\\xcb&\\xcf\\n\\xd6\\x89m\\x12\\xb9\\x15_\\xdb\\x1d\\xba\\x0e\\t\\x00\\xaax\\rn\\xde\\xb1\\xa7\\x86:D\\xe9c\\xd4\\r\\xa5n4\\x90\\xf5\\x98\\xa5\\xacwq\\x05\\xb7\\xfe\\xb0\\x1a1\\x9f\\xa0E,\\xb8q\\xd4e\\xfe\\x01\\xfcU\\xc5\\xeb\\xc46\\x89\\xdc\\x8a\\xafR\\xb5D\\x8e\\x9ej\\xe5Z\\xc7.\\xe1\\x95\\xe5\\x8b\\xa6\\x8cxey\\x00@\\xb5tn\\xd2\\xa14\\xccR\\x1f\\xeb\\xb8\\x0c\\xd6\\x1f\\xf1\\x05\\xf3=\\xad\\x88Z\\x84\\xa3\\x8f\\n\\x0eLq\\xc1_U\\xbcNl\\x93\\xc8\\xad\\xf8*U[\\xce\\xd1\\xbb\\x9aQK*\\xeb\\xf2Y<\\xd1\\xd4S\\x1e\\x8b\\x07\\x00\\xce\\xa6-[\\x1aAi(\\xd0k \\xc3\\xeeC\\xf4\\xeczTf\\xbf)\\x8e\\x8b\"Ri\\x14#K\\x9as\\x1f\\xfcU%\\xeb\\xc4\\x12\\x08 \\x14\\n\\x05|\\x02\\x91\\x04\\x00x^\\x08\\'\\xbf\\xe2\\xab4-\\x91\\xa3\\xa7w\\xf3a\\x7f\\x88\\xe7\\xa6\\'\\xea\\xdat\\xc1\\x1b\\xb9\\xe9I\\x00`\\xd8\\xa3\\xd1B\\x86\\x1d\\xc1\\x10g\\xc3\\x1eVzo\\n*\\xa3^\\x14\\xd3\\xb4\\x89\\x96\\x06\\x94>\\xb64\\xfcU\\xe5\\xea\\xc4\\x12\\x08 \\x14\\x02_ $\\x11\\t\\x00\\xc0\\x91HR\\xcb\\xad\\xf8*U[\\xce\\xd1\\xfb8\\xd1\\xe33\\xd9\\x89\\xb9\\xdc.\\x16_>\\x07J\\xca\\xe5\\x02\\xc0\\x90\\xc6?\\xcfP/\\x94\\xba\\xd1L\\x8c1K\\x01 \\xff\\xbf\\xc3\\xf9\\xd7\\x7f\\xb7\\x1e\\xf3\\xa3\\xe8K\\xca\\xd5\\x89\\xa5\\x18\\x98\\x01\\x00\\x8fU\\x84=\\xad\\xcc~#\\xd6An\\xc5\\xd7Vc>\\xc8OK[\\x97\\x19\\x17)\\xda\\xc8\\x8c\\x8b$j\\xeb\\x99{\\xcfh\\xe5\\xc9\\xb45K\\x071\\x00\\xe0p\\\\\\xfe\\xef\\xb1\\xf9?\\xfa4X\\x98\\xa4\\\\\\x9dX3}\\n\\x00\\x14q?\\xfd\\x14\\xbd)\\xac\\x14\\xeb \\xb7\\xe2k\\xbb\\xe3\\xe7a\\xaeK\\xd1\\x8al\\xb8d>2\\x89\\xa9G!\\xcep\\x97\\xb5\\xc6L\\x8dP\\xa0\\xd7L\\xc6}\\xc7\\xe9\\x98\\xdb\\xd703\\x85\\xf5\\x02\\xa3^\\xbe\\xa2/)W\\'\\x96\\xde}0\\x00\\xe4_?,\\xa8\\xe6T\\x17\\xa42\\x1f\\x9e\\x13\\xeb\\xa0H\\xc5\\xd7\\xd6A1\\xb4p\\xfav\\x1b\\'\\xf5Y\\xe6\\xb9`>\\xb7\\x8c\\xcf-\\xcb<\\xb7\\x81\\x93\\xf6\\xdcqV\\x08\\xbe\\xd6S(\\xe0\\xc7\\xcfe$,\\xeb\\xd9\\xcasS\\xbbq\\xdd\\x8c\\xed\\x8du2\\xcbj\\x04B\\xa1\\xaf\\xab\\x91\\xe8K\\xca\\xd5\\x89\\x1d\\xecL\\x07\\x80\\xc3q\\xf9\\x9c\\x1aAjI\\xf5\\xb9D\\xf1o\\x0c)R\\xf1\\xb5\\xed\\xe0\\x0b\\x84\\x8c\\xe0\\xf8\\x9e;\\x13d\\xf4\\xb1\\xa0Q\\xb6\\x8duz\\x96\\xc3\\t\\xbe\\x9eYV\\xc5/\\xab\\xe2o\\xb8\\x9e\\xf9<\\x97\\x132\\xdeQ\\xf6\\x9aQ5B\\xa9\\x1b\\xcdD\\xd0\"Z\\x8fZ\\x9c~z\\rvk/\\xcae\\xee\\xbe\\xac\\xa8-\\xcc\\xd8s\\xf97\\x8f`ub\\x0b\\x00\\x00 ~.C\\xac\\x06,\\xde\\x02\\x00\\x0e3\\x82\\x85\\x02Ai\\xc2\\xbf\\xcc\\xb8Hz\\x17o\\xa7\\x99!\\xc5\\xf1\\x17E\\xfb\\x90\\xf4\\x8dz\\xae\\x8b\\xce\\xbd\\xb27\\xeb\\xfcV\\xbc\\xe2\\xab\\xeb\\xc2\\xdfi\\r\\xbf\\xb8\\xd4:\\xcc\\xbc\\xa7\\x93\\r-\\xf2\\xa2\\x0f$\\xae\\xf2\\x04\\x00=\\x87^\\xdd~>\\'\\xba\\xa9Ymi\\x1e\\x00\\xe8\\xd9v\\x93{(\\xd1\\xbc\\x96\\x06\\xd4G$j\\x11\\x16\\x0f\\xb4^s5}\\xe9 \\xf1|\\xdd\\xbe\\xc9.[nd\\x9dKd\\x1ey\\x94\\x8f\\xd5\\x89\\x05(\\x00\\x00Fp\\xbcX\\rX\\xbc\\x05\\x00\\x82G9\\x08\\xea\\x85\\xff\\xbe)\\x8dLbz;\\xd2C\\xc69]|Y,\\xda\\xc7H\\x97\\x14=\\xbf\\xe7\\xde\\x98\\xdc\\xad7\\xb3\\xf0\\x8a\\xaf\\xbfOu\\xc5+\\xbe\\xb62\\xd1|\\x94d]\\xc3<V-\\x00t\\xb3\\xd4\\x93}\\x90\\xe9\\xeef\\x16\\x06\\xe4\\x031y\\x9e{\\x12\\x01\\xa0\\x97\\xb5\\xde\\xb9\\xef\\xba\\x89nj\\xd6\\xd6\\xa0@\\xaf\\xb1,\\x86\\xce\\xb2\\x18:K\\xb2\\x9dl`\\xea2o\\x9fh\\x8bW\\xbf\\t\\r\\x9eJ\\x0bd$}c\\xd7\\x05\\x07ew#\\xe9\\xd2\\x1df\\x04;\\xcc\\x08Vr\\xc6*e\\xd8}\\x88a\\xf7F3\\xf2\\xa5O/\\x03\\x80\\xd4\\xf7GL\\xbb\\x0e\\xebR\\xcd\\xeag1\\xab\\x9f\\x85d\\xbb\\xa9\\x1ey\\xdfd\\x17\\xd1\\x96\\t=\\x1a$\\xca\\xa5\\xe6\\xcd\\x8duI\\x07\\xa7\\xb8\\xca\\xeeF\\xa7\\x92\\x82G9\\x04\\x8frPn\\xc2\\xaa%;\\xfb\\x7f\\xf9M)\\x00\\xcc\\xea+\\xe5\\xfd\\x113\\xc4\\xd9p\\x88s\\x1b\\xcd\\xc8KB\\xa9\\x1b\\xa4\\xc3a\\xa7<\\xc9\\xbd\\xba\\xd7t\\xc0\\xd7&}[\\xfb\\xf3\\x03\\xa4-{\\x92\\xc5\\xde\\xfb \\xf7\\xeb\\x9e\\xa6\\xe3\\xbb\\x9b\\xa8{.*\\x86\\xee\\xe8\\x11M\\x80%UD\\xf7\\xa3\\x97\\x81\\x19\\xfb\\x97\\xa5\\xefl\\xbb\\xc9\\xbf4\\xff\\xbcb\\xfb\\xd1#m\\r\\x96\\x9c\\x11\\xdd\\x8f^\\x86\\xbf\\x92\\x98\\xb3\\xfb[\\xe2\\xdf\\x1cn\\x0e\\xb1\\xfd\\xe8\\xd5\\x0e\\x05z\\xa4}S\"\\xb5\\xe22g\\x8f\\xaa\\xce\\x8e\\xefG\\x8f\\xb45J,\\xd0\\xdc\\xf3\\xb5\\x8b\\xfcN\\x8a\\xc1\\xf7\\xa3o#P\\xea\\x06A\\x10D\\xc3\\xa1@\\x8f \\x08\\xa2\\xe1P\\xa0G\\x10\\x04\\xd1p(\\xd0#\\x08\\x82h8\\x14\\xe8\\x11\\x04A4\\x1cZu\\xd3n\\xa4\\x1c^\\xa8\\xee) \\xaa\\xc1I{\\x0e\\x8e\\x83Tr\\xa8\\xe79\\x9c\\x85Q\\xcd\\xddb\\x1a\\xd1x(\\xd0\\xb7\\x03\\xfd\\xfb\\xf7\\xf7\\xf3\\xf3\\x13\\x08\\xdah\\xf1\\x1a\\xa4\\xc9\\x1c\\x07M\\x9b6\\xad\\xf9\\x87Q\\xc9A\\x90\\xb6\\xc3\\xaf\\'\\xb1\\x7f\\xff\\xfe-qd\\x82P(l\\x89\\xe3\"\\x08\\x82 m\\x04\\xca\\xd1#\\x08\\x82h8\\x14\\xe8\\x11\\x04A4\\x1c\\n\\xf4\\x08\\x82 \\x1a\\xee\\xff\\x01\\xd6\\x87\\x0e\\xdbS\\xc8\\xcf\\xb4\\x00\\x00\\x00\\x00IEND\\xaeB`\\x82')"
      ]
     },
     "metadata": {},
     "output_type": "display_data"
    }
   ],
   "source": [
    "dot_data = StringIO()\n",
    "export_graphviz(date_tree, feature_names=list(df_train.columns), \n",
    "                out_file=dot_data, filled=True)\n",
    "graph = pydotplus.graph_from_dot_data(dot_data.getvalue())\n",
    "Image(value=graph.create_png())"
   ]
  },
  {
   "cell_type": "markdown",
   "metadata": {},
   "source": [
    "### Part 2. Functions for calculating entropy and information gain."
   ]
  },
  {
   "cell_type": "markdown",
   "metadata": {},
   "source": [
    "Consider the following warm-up example: we have 9 blue balls and 11 yellow balls. Let ball have label **1** if it is blue, **0** otherwise."
   ]
  },
  {
   "cell_type": "code",
   "execution_count": 13,
   "metadata": {},
   "outputs": [],
   "source": [
    "balls = [1 for i in range(9)] + [0 for i in range(11)]"
   ]
  },
  {
   "cell_type": "markdown",
   "metadata": {},
   "source": [
    "<img src = '../../img/decision_tree3.png'>"
   ]
  },
  {
   "cell_type": "markdown",
   "metadata": {},
   "source": [
    "Next split the balls into two groups:"
   ]
  },
  {
   "cell_type": "markdown",
   "metadata": {},
   "source": [
    "<img src = '../../img/decision_tree4.png'>"
   ]
  },
  {
   "cell_type": "code",
   "execution_count": 14,
   "metadata": {},
   "outputs": [],
   "source": [
    "# two groups\n",
    "balls_left  = [1 for i in range(8)] + [0 for i in range(5)] # 8 blue and 5 yellow\n",
    "balls_right = [1 for i in range(1)] + [0 for i in range(6)] # 1 blue and 6 yellow"
   ]
  },
  {
   "cell_type": "markdown",
   "metadata": {},
   "source": [
    "#### Implement a function to calculate the Shannon Entropy"
   ]
  },
  {
   "cell_type": "code",
   "execution_count": 15,
   "metadata": {},
   "outputs": [],
   "source": [
    "def entropy(data):\n",
    "    keys = set(data)\n",
    "    entropy = 0\n",
    "    for i in keys:\n",
    "        p = sum([data[k] == i for k in range(len(data))]) / len(data)\n",
    "        entropy -= p * np.log2(p)\n",
    "    return entropy"
   ]
  },
  {
   "cell_type": "markdown",
   "metadata": {},
   "source": [
    "Tests"
   ]
  },
  {
   "cell_type": "code",
   "execution_count": 16,
   "metadata": {},
   "outputs": [
    {
     "name": "stdout",
     "output_type": "stream",
     "text": [
      "0.9927744539878083\n",
      "0.9612366047228759\n",
      "0.5916727785823275\n",
      "2.584962500721156\n"
     ]
    }
   ],
   "source": [
    "print(entropy(balls)) # 9 blue and 11 yellow\n",
    "print(entropy(balls_left)) # 8 blue and 5 yellow\n",
    "print(entropy(balls_right)) # 1 blue and 6 yellow\n",
    "print(entropy([1,2,3,4,5,6])) # entropy of a fair 6-sided dice"
   ]
  },
  {
   "cell_type": "markdown",
   "metadata": {},
   "source": [
    "3\\. What is the entropy of the state given by the list **balls_left**?"
   ]
  },
  {
   "cell_type": "code",
   "execution_count": 17,
   "metadata": {},
   "outputs": [
    {
     "name": "stdout",
     "output_type": "stream",
     "text": [
      "0.9612366047228759\n"
     ]
    }
   ],
   "source": [
    "print(entropy(balls_left)) # 0.96\n"
   ]
  },
  {
   "cell_type": "markdown",
   "metadata": {},
   "source": [
    "4\\. What is the entropy of a fair dice? (where we look at a dice as a system with 6 equally probable states)?"
   ]
  },
  {
   "cell_type": "code",
   "execution_count": 18,
   "metadata": {},
   "outputs": [],
   "source": [
    "# information gain calculation\n",
    "def information_gain(root, left, right):\n",
    "    return entropy(root) - len(left) / len(root) * entropy(left) - len(right) / len(root) * entropy(right)"
   ]
  },
  {
   "cell_type": "markdown",
   "metadata": {},
   "source": [
    "5\\. What is the information gain from splitting the initial dataset into **balls_left** and **balls_right** ?"
   ]
  },
  {
   "cell_type": "code",
   "execution_count": 19,
   "metadata": {},
   "outputs": [
    {
     "data": {
      "text/plain": [
       "0.16088518841412436"
      ]
     },
     "execution_count": 19,
     "metadata": {},
     "output_type": "execute_result"
    }
   ],
   "source": [
    "information_gain(balls, balls_left, balls_right) # 0.16"
   ]
  },
  {
   "cell_type": "code",
   "execution_count": 20,
   "metadata": {},
   "outputs": [],
   "source": [
    "def best_feature_to_split(X, y):\n",
    "    '''Outputs information gain when splitting on best feature'''\n",
    "    igMax = 0\n",
    "    featureToSplit = ''\n",
    "    for i in X.columns:\n",
    "        left = list(y.loc[X[X[i] == 0].index].values)\n",
    "        right = list(y.loc[X[X[i] == 1].index].values)\n",
    "        ig = information_gain(y, left, right)\n",
    "        if ig > igMax:\n",
    "            igMax = ig\n",
    "            featureToSplit = i\n",
    "    return [igMax, featureToSplit]"
   ]
  },
  {
   "cell_type": "code",
   "execution_count": 21,
   "metadata": {},
   "outputs": [
    {
     "data": {
      "text/plain": [
       "[0.46956521111470695, 'Money_spent_lots']"
      ]
     },
     "execution_count": 21,
     "metadata": {},
     "output_type": "execute_result"
    }
   ],
   "source": [
    "best_feature_to_split(df_train, y)"
   ]
  },
  {
   "cell_type": "markdown",
   "metadata": {},
   "source": [
    "#### Optional:\n",
    "- Implement a decision tree building algorithm by calling **best_feature_to_split** recursively\n",
    "- Plot the resulting tree"
   ]
  },
  {
   "cell_type": "markdown",
   "metadata": {},
   "source": [
    "### Part 3. The \"Adult\" dataset"
   ]
  },
  {
   "cell_type": "markdown",
   "metadata": {},
   "source": [
    "#### Dataset description:"
   ]
  },
  {
   "cell_type": "markdown",
   "metadata": {},
   "source": [
    "[Dataset](http://archive.ics.uci.edu/ml/machine-learning-databases/adult) UCI Adult (no need to download it, we have a copy in the course repository): classify people using demographical data - whether they earn more than \\$50,000 per year or not."
   ]
  },
  {
   "cell_type": "markdown",
   "metadata": {},
   "source": [
    "Feature descriptions:"
   ]
  },
  {
   "cell_type": "markdown",
   "metadata": {},
   "source": [
    "- **Age** – continuous feature\n",
    "- **Workclass** –  continuous feature\n",
    "- **fnlwgt** – final weight of object, continuous feature\n",
    "- **Education** –  categorical feature\n",
    "- **Education_Num** – number of years of education, continuous feature\n",
    "- **Martial_Status** –  categorical feature\n",
    "- **Occupation** –  categorical feature\n",
    "- **Relationship** – categorical feature\n",
    "- **Race** – categorical feature\n",
    "- **Sex** – categorical feature\n",
    "- **Capital_Gain** – continuous feature\n",
    "- **Capital_Loss** – continuous feature\n",
    "- **Hours_per_week** – continuous feature\n",
    "- **Country** – categorical feature"
   ]
  },
  {
   "cell_type": "markdown",
   "metadata": {},
   "source": [
    "**Target** – earnings level, categorical (binary) feature."
   ]
  },
  {
   "cell_type": "markdown",
   "metadata": {},
   "source": [
    "#### Reading train and test data"
   ]
  },
  {
   "cell_type": "code",
   "execution_count": 22,
   "metadata": {},
   "outputs": [],
   "source": [
    "data_train = pd.read_csv('../../data/adult_train.csv', sep=';')"
   ]
  },
  {
   "cell_type": "code",
   "execution_count": 23,
   "metadata": {},
   "outputs": [
    {
     "data": {
      "text/html": [
       "<div>\n",
       "<style scoped>\n",
       "    .dataframe tbody tr th:only-of-type {\n",
       "        vertical-align: middle;\n",
       "    }\n",
       "\n",
       "    .dataframe tbody tr th {\n",
       "        vertical-align: top;\n",
       "    }\n",
       "\n",
       "    .dataframe thead th {\n",
       "        text-align: right;\n",
       "    }\n",
       "</style>\n",
       "<table border=\"1\" class=\"dataframe\">\n",
       "  <thead>\n",
       "    <tr style=\"text-align: right;\">\n",
       "      <th></th>\n",
       "      <th>Age</th>\n",
       "      <th>Workclass</th>\n",
       "      <th>fnlwgt</th>\n",
       "      <th>Education</th>\n",
       "      <th>Education_Num</th>\n",
       "      <th>Martial_Status</th>\n",
       "      <th>Occupation</th>\n",
       "      <th>Relationship</th>\n",
       "      <th>Race</th>\n",
       "      <th>Sex</th>\n",
       "      <th>Capital_Gain</th>\n",
       "      <th>Capital_Loss</th>\n",
       "      <th>Hours_per_week</th>\n",
       "      <th>Country</th>\n",
       "      <th>Target</th>\n",
       "    </tr>\n",
       "  </thead>\n",
       "  <tbody>\n",
       "    <tr>\n",
       "      <th>32556</th>\n",
       "      <td>27</td>\n",
       "      <td>Private</td>\n",
       "      <td>257302</td>\n",
       "      <td>Assoc-acdm</td>\n",
       "      <td>12</td>\n",
       "      <td>Married-civ-spouse</td>\n",
       "      <td>Tech-support</td>\n",
       "      <td>Wife</td>\n",
       "      <td>White</td>\n",
       "      <td>Female</td>\n",
       "      <td>0</td>\n",
       "      <td>0</td>\n",
       "      <td>38</td>\n",
       "      <td>United-States</td>\n",
       "      <td>&lt;=50K</td>\n",
       "    </tr>\n",
       "    <tr>\n",
       "      <th>32557</th>\n",
       "      <td>40</td>\n",
       "      <td>Private</td>\n",
       "      <td>154374</td>\n",
       "      <td>HS-grad</td>\n",
       "      <td>9</td>\n",
       "      <td>Married-civ-spouse</td>\n",
       "      <td>Machine-op-inspct</td>\n",
       "      <td>Husband</td>\n",
       "      <td>White</td>\n",
       "      <td>Male</td>\n",
       "      <td>0</td>\n",
       "      <td>0</td>\n",
       "      <td>40</td>\n",
       "      <td>United-States</td>\n",
       "      <td>&gt;50K</td>\n",
       "    </tr>\n",
       "    <tr>\n",
       "      <th>32558</th>\n",
       "      <td>58</td>\n",
       "      <td>Private</td>\n",
       "      <td>151910</td>\n",
       "      <td>HS-grad</td>\n",
       "      <td>9</td>\n",
       "      <td>Widowed</td>\n",
       "      <td>Adm-clerical</td>\n",
       "      <td>Unmarried</td>\n",
       "      <td>White</td>\n",
       "      <td>Female</td>\n",
       "      <td>0</td>\n",
       "      <td>0</td>\n",
       "      <td>40</td>\n",
       "      <td>United-States</td>\n",
       "      <td>&lt;=50K</td>\n",
       "    </tr>\n",
       "    <tr>\n",
       "      <th>32559</th>\n",
       "      <td>22</td>\n",
       "      <td>Private</td>\n",
       "      <td>201490</td>\n",
       "      <td>HS-grad</td>\n",
       "      <td>9</td>\n",
       "      <td>Never-married</td>\n",
       "      <td>Adm-clerical</td>\n",
       "      <td>Own-child</td>\n",
       "      <td>White</td>\n",
       "      <td>Male</td>\n",
       "      <td>0</td>\n",
       "      <td>0</td>\n",
       "      <td>20</td>\n",
       "      <td>United-States</td>\n",
       "      <td>&lt;=50K</td>\n",
       "    </tr>\n",
       "    <tr>\n",
       "      <th>32560</th>\n",
       "      <td>52</td>\n",
       "      <td>Self-emp-inc</td>\n",
       "      <td>287927</td>\n",
       "      <td>HS-grad</td>\n",
       "      <td>9</td>\n",
       "      <td>Married-civ-spouse</td>\n",
       "      <td>Exec-managerial</td>\n",
       "      <td>Wife</td>\n",
       "      <td>White</td>\n",
       "      <td>Female</td>\n",
       "      <td>15024</td>\n",
       "      <td>0</td>\n",
       "      <td>40</td>\n",
       "      <td>United-States</td>\n",
       "      <td>&gt;50K</td>\n",
       "    </tr>\n",
       "  </tbody>\n",
       "</table>\n",
       "</div>"
      ],
      "text/plain": [
       "       Age      Workclass  fnlwgt    Education  Education_Num  \\\n",
       "32556   27        Private  257302   Assoc-acdm             12   \n",
       "32557   40        Private  154374      HS-grad              9   \n",
       "32558   58        Private  151910      HS-grad              9   \n",
       "32559   22        Private  201490      HS-grad              9   \n",
       "32560   52   Self-emp-inc  287927      HS-grad              9   \n",
       "\n",
       "            Martial_Status          Occupation Relationship    Race      Sex  \\\n",
       "32556   Married-civ-spouse        Tech-support         Wife   White   Female   \n",
       "32557   Married-civ-spouse   Machine-op-inspct      Husband   White     Male   \n",
       "32558              Widowed        Adm-clerical    Unmarried   White   Female   \n",
       "32559        Never-married        Adm-clerical    Own-child   White     Male   \n",
       "32560   Married-civ-spouse     Exec-managerial         Wife   White   Female   \n",
       "\n",
       "       Capital_Gain  Capital_Loss  Hours_per_week         Country  Target  \n",
       "32556             0             0              38   United-States   <=50K  \n",
       "32557             0             0              40   United-States    >50K  \n",
       "32558             0             0              40   United-States   <=50K  \n",
       "32559             0             0              20   United-States   <=50K  \n",
       "32560         15024             0              40   United-States    >50K  "
      ]
     },
     "execution_count": 23,
     "metadata": {},
     "output_type": "execute_result"
    }
   ],
   "source": [
    "data_train.tail()"
   ]
  },
  {
   "cell_type": "code",
   "execution_count": 24,
   "metadata": {},
   "outputs": [],
   "source": [
    "data_test = pd.read_csv('../../data/adult_test.csv', sep=';')"
   ]
  },
  {
   "cell_type": "code",
   "execution_count": 25,
   "metadata": {},
   "outputs": [
    {
     "data": {
      "text/html": [
       "<div>\n",
       "<style scoped>\n",
       "    .dataframe tbody tr th:only-of-type {\n",
       "        vertical-align: middle;\n",
       "    }\n",
       "\n",
       "    .dataframe tbody tr th {\n",
       "        vertical-align: top;\n",
       "    }\n",
       "\n",
       "    .dataframe thead th {\n",
       "        text-align: right;\n",
       "    }\n",
       "</style>\n",
       "<table border=\"1\" class=\"dataframe\">\n",
       "  <thead>\n",
       "    <tr style=\"text-align: right;\">\n",
       "      <th></th>\n",
       "      <th>Age</th>\n",
       "      <th>Workclass</th>\n",
       "      <th>fnlwgt</th>\n",
       "      <th>Education</th>\n",
       "      <th>Education_Num</th>\n",
       "      <th>Martial_Status</th>\n",
       "      <th>Occupation</th>\n",
       "      <th>Relationship</th>\n",
       "      <th>Race</th>\n",
       "      <th>Sex</th>\n",
       "      <th>Capital_Gain</th>\n",
       "      <th>Capital_Loss</th>\n",
       "      <th>Hours_per_week</th>\n",
       "      <th>Country</th>\n",
       "      <th>Target</th>\n",
       "    </tr>\n",
       "  </thead>\n",
       "  <tbody>\n",
       "    <tr>\n",
       "      <th>16277</th>\n",
       "      <td>39</td>\n",
       "      <td>Private</td>\n",
       "      <td>215419.0</td>\n",
       "      <td>Bachelors</td>\n",
       "      <td>13.0</td>\n",
       "      <td>Divorced</td>\n",
       "      <td>Prof-specialty</td>\n",
       "      <td>Not-in-family</td>\n",
       "      <td>White</td>\n",
       "      <td>Female</td>\n",
       "      <td>0.0</td>\n",
       "      <td>0.0</td>\n",
       "      <td>36.0</td>\n",
       "      <td>United-States</td>\n",
       "      <td>&lt;=50K.</td>\n",
       "    </tr>\n",
       "    <tr>\n",
       "      <th>16278</th>\n",
       "      <td>64</td>\n",
       "      <td>NaN</td>\n",
       "      <td>321403.0</td>\n",
       "      <td>HS-grad</td>\n",
       "      <td>9.0</td>\n",
       "      <td>Widowed</td>\n",
       "      <td>NaN</td>\n",
       "      <td>Other-relative</td>\n",
       "      <td>Black</td>\n",
       "      <td>Male</td>\n",
       "      <td>0.0</td>\n",
       "      <td>0.0</td>\n",
       "      <td>40.0</td>\n",
       "      <td>United-States</td>\n",
       "      <td>&lt;=50K.</td>\n",
       "    </tr>\n",
       "    <tr>\n",
       "      <th>16279</th>\n",
       "      <td>38</td>\n",
       "      <td>Private</td>\n",
       "      <td>374983.0</td>\n",
       "      <td>Bachelors</td>\n",
       "      <td>13.0</td>\n",
       "      <td>Married-civ-spouse</td>\n",
       "      <td>Prof-specialty</td>\n",
       "      <td>Husband</td>\n",
       "      <td>White</td>\n",
       "      <td>Male</td>\n",
       "      <td>0.0</td>\n",
       "      <td>0.0</td>\n",
       "      <td>50.0</td>\n",
       "      <td>United-States</td>\n",
       "      <td>&lt;=50K.</td>\n",
       "    </tr>\n",
       "    <tr>\n",
       "      <th>16280</th>\n",
       "      <td>44</td>\n",
       "      <td>Private</td>\n",
       "      <td>83891.0</td>\n",
       "      <td>Bachelors</td>\n",
       "      <td>13.0</td>\n",
       "      <td>Divorced</td>\n",
       "      <td>Adm-clerical</td>\n",
       "      <td>Own-child</td>\n",
       "      <td>Asian-Pac-Islander</td>\n",
       "      <td>Male</td>\n",
       "      <td>5455.0</td>\n",
       "      <td>0.0</td>\n",
       "      <td>40.0</td>\n",
       "      <td>United-States</td>\n",
       "      <td>&lt;=50K.</td>\n",
       "    </tr>\n",
       "    <tr>\n",
       "      <th>16281</th>\n",
       "      <td>35</td>\n",
       "      <td>Self-emp-inc</td>\n",
       "      <td>182148.0</td>\n",
       "      <td>Bachelors</td>\n",
       "      <td>13.0</td>\n",
       "      <td>Married-civ-spouse</td>\n",
       "      <td>Exec-managerial</td>\n",
       "      <td>Husband</td>\n",
       "      <td>White</td>\n",
       "      <td>Male</td>\n",
       "      <td>0.0</td>\n",
       "      <td>0.0</td>\n",
       "      <td>60.0</td>\n",
       "      <td>United-States</td>\n",
       "      <td>&gt;50K.</td>\n",
       "    </tr>\n",
       "  </tbody>\n",
       "</table>\n",
       "</div>"
      ],
      "text/plain": [
       "      Age      Workclass    fnlwgt   Education  Education_Num  \\\n",
       "16277  39        Private  215419.0   Bachelors           13.0   \n",
       "16278  64            NaN  321403.0     HS-grad            9.0   \n",
       "16279  38        Private  374983.0   Bachelors           13.0   \n",
       "16280  44        Private   83891.0   Bachelors           13.0   \n",
       "16281  35   Self-emp-inc  182148.0   Bachelors           13.0   \n",
       "\n",
       "            Martial_Status        Occupation     Relationship  \\\n",
       "16277             Divorced    Prof-specialty    Not-in-family   \n",
       "16278              Widowed               NaN   Other-relative   \n",
       "16279   Married-civ-spouse    Prof-specialty          Husband   \n",
       "16280             Divorced      Adm-clerical        Own-child   \n",
       "16281   Married-civ-spouse   Exec-managerial          Husband   \n",
       "\n",
       "                      Race      Sex  Capital_Gain  Capital_Loss  \\\n",
       "16277                White   Female           0.0           0.0   \n",
       "16278                Black     Male           0.0           0.0   \n",
       "16279                White     Male           0.0           0.0   \n",
       "16280   Asian-Pac-Islander     Male        5455.0           0.0   \n",
       "16281                White     Male           0.0           0.0   \n",
       "\n",
       "       Hours_per_week         Country   Target  \n",
       "16277            36.0   United-States   <=50K.  \n",
       "16278            40.0   United-States   <=50K.  \n",
       "16279            50.0   United-States   <=50K.  \n",
       "16280            40.0   United-States   <=50K.  \n",
       "16281            60.0   United-States    >50K.  "
      ]
     },
     "execution_count": 25,
     "metadata": {},
     "output_type": "execute_result"
    }
   ],
   "source": [
    "data_test.tail()"
   ]
  },
  {
   "cell_type": "code",
   "execution_count": 26,
   "metadata": {},
   "outputs": [],
   "source": [
    "# necessary to remove rows with incorrect labels in test dataset\n",
    "data_test = data_test[(data_test['Target'] == ' >50K.') | (data_test['Target']==' <=50K.')]\n",
    "\n",
    "# encode target variable as integer\n",
    "data_train.loc[data_train['Target']==' <=50K', 'Target'] = 0\n",
    "data_train.loc[data_train['Target']==' >50K', 'Target'] = 1\n",
    "\n",
    "data_test.loc[data_test['Target']==' <=50K.', 'Target'] = 0\n",
    "data_test.loc[data_test['Target']==' >50K.', 'Target'] = 1"
   ]
  },
  {
   "cell_type": "markdown",
   "metadata": {},
   "source": [
    "#### Primary data analysis"
   ]
  },
  {
   "cell_type": "code",
   "execution_count": 27,
   "metadata": {},
   "outputs": [
    {
     "data": {
      "text/html": [
       "<div>\n",
       "<style scoped>\n",
       "    .dataframe tbody tr th:only-of-type {\n",
       "        vertical-align: middle;\n",
       "    }\n",
       "\n",
       "    .dataframe tbody tr th {\n",
       "        vertical-align: top;\n",
       "    }\n",
       "\n",
       "    .dataframe thead th {\n",
       "        text-align: right;\n",
       "    }\n",
       "</style>\n",
       "<table border=\"1\" class=\"dataframe\">\n",
       "  <thead>\n",
       "    <tr style=\"text-align: right;\">\n",
       "      <th></th>\n",
       "      <th>count</th>\n",
       "      <th>unique</th>\n",
       "      <th>top</th>\n",
       "      <th>freq</th>\n",
       "      <th>mean</th>\n",
       "      <th>std</th>\n",
       "      <th>min</th>\n",
       "      <th>25%</th>\n",
       "      <th>50%</th>\n",
       "      <th>75%</th>\n",
       "      <th>max</th>\n",
       "    </tr>\n",
       "  </thead>\n",
       "  <tbody>\n",
       "    <tr>\n",
       "      <th>Age</th>\n",
       "      <td>16281</td>\n",
       "      <td>73</td>\n",
       "      <td>35</td>\n",
       "      <td>461</td>\n",
       "      <td>NaN</td>\n",
       "      <td>NaN</td>\n",
       "      <td>NaN</td>\n",
       "      <td>NaN</td>\n",
       "      <td>NaN</td>\n",
       "      <td>NaN</td>\n",
       "      <td>NaN</td>\n",
       "    </tr>\n",
       "    <tr>\n",
       "      <th>Workclass</th>\n",
       "      <td>15318</td>\n",
       "      <td>8</td>\n",
       "      <td>Private</td>\n",
       "      <td>11210</td>\n",
       "      <td>NaN</td>\n",
       "      <td>NaN</td>\n",
       "      <td>NaN</td>\n",
       "      <td>NaN</td>\n",
       "      <td>NaN</td>\n",
       "      <td>NaN</td>\n",
       "      <td>NaN</td>\n",
       "    </tr>\n",
       "    <tr>\n",
       "      <th>fnlwgt</th>\n",
       "      <td>16281</td>\n",
       "      <td>NaN</td>\n",
       "      <td>NaN</td>\n",
       "      <td>NaN</td>\n",
       "      <td>189436</td>\n",
       "      <td>105715</td>\n",
       "      <td>13492</td>\n",
       "      <td>116736</td>\n",
       "      <td>177831</td>\n",
       "      <td>238384</td>\n",
       "      <td>1.4904e+06</td>\n",
       "    </tr>\n",
       "    <tr>\n",
       "      <th>Education</th>\n",
       "      <td>16281</td>\n",
       "      <td>16</td>\n",
       "      <td>HS-grad</td>\n",
       "      <td>5283</td>\n",
       "      <td>NaN</td>\n",
       "      <td>NaN</td>\n",
       "      <td>NaN</td>\n",
       "      <td>NaN</td>\n",
       "      <td>NaN</td>\n",
       "      <td>NaN</td>\n",
       "      <td>NaN</td>\n",
       "    </tr>\n",
       "    <tr>\n",
       "      <th>Education_Num</th>\n",
       "      <td>16281</td>\n",
       "      <td>NaN</td>\n",
       "      <td>NaN</td>\n",
       "      <td>NaN</td>\n",
       "      <td>10.0729</td>\n",
       "      <td>2.56755</td>\n",
       "      <td>1</td>\n",
       "      <td>9</td>\n",
       "      <td>10</td>\n",
       "      <td>12</td>\n",
       "      <td>16</td>\n",
       "    </tr>\n",
       "    <tr>\n",
       "      <th>Martial_Status</th>\n",
       "      <td>16281</td>\n",
       "      <td>7</td>\n",
       "      <td>Married-civ-spouse</td>\n",
       "      <td>7403</td>\n",
       "      <td>NaN</td>\n",
       "      <td>NaN</td>\n",
       "      <td>NaN</td>\n",
       "      <td>NaN</td>\n",
       "      <td>NaN</td>\n",
       "      <td>NaN</td>\n",
       "      <td>NaN</td>\n",
       "    </tr>\n",
       "    <tr>\n",
       "      <th>Occupation</th>\n",
       "      <td>15315</td>\n",
       "      <td>14</td>\n",
       "      <td>Prof-specialty</td>\n",
       "      <td>2032</td>\n",
       "      <td>NaN</td>\n",
       "      <td>NaN</td>\n",
       "      <td>NaN</td>\n",
       "      <td>NaN</td>\n",
       "      <td>NaN</td>\n",
       "      <td>NaN</td>\n",
       "      <td>NaN</td>\n",
       "    </tr>\n",
       "    <tr>\n",
       "      <th>Relationship</th>\n",
       "      <td>16281</td>\n",
       "      <td>6</td>\n",
       "      <td>Husband</td>\n",
       "      <td>6523</td>\n",
       "      <td>NaN</td>\n",
       "      <td>NaN</td>\n",
       "      <td>NaN</td>\n",
       "      <td>NaN</td>\n",
       "      <td>NaN</td>\n",
       "      <td>NaN</td>\n",
       "      <td>NaN</td>\n",
       "    </tr>\n",
       "    <tr>\n",
       "      <th>Race</th>\n",
       "      <td>16281</td>\n",
       "      <td>5</td>\n",
       "      <td>White</td>\n",
       "      <td>13946</td>\n",
       "      <td>NaN</td>\n",
       "      <td>NaN</td>\n",
       "      <td>NaN</td>\n",
       "      <td>NaN</td>\n",
       "      <td>NaN</td>\n",
       "      <td>NaN</td>\n",
       "      <td>NaN</td>\n",
       "    </tr>\n",
       "    <tr>\n",
       "      <th>Sex</th>\n",
       "      <td>16281</td>\n",
       "      <td>2</td>\n",
       "      <td>Male</td>\n",
       "      <td>10860</td>\n",
       "      <td>NaN</td>\n",
       "      <td>NaN</td>\n",
       "      <td>NaN</td>\n",
       "      <td>NaN</td>\n",
       "      <td>NaN</td>\n",
       "      <td>NaN</td>\n",
       "      <td>NaN</td>\n",
       "    </tr>\n",
       "    <tr>\n",
       "      <th>Capital_Gain</th>\n",
       "      <td>16281</td>\n",
       "      <td>NaN</td>\n",
       "      <td>NaN</td>\n",
       "      <td>NaN</td>\n",
       "      <td>1081.91</td>\n",
       "      <td>7583.94</td>\n",
       "      <td>0</td>\n",
       "      <td>0</td>\n",
       "      <td>0</td>\n",
       "      <td>0</td>\n",
       "      <td>99999</td>\n",
       "    </tr>\n",
       "    <tr>\n",
       "      <th>Capital_Loss</th>\n",
       "      <td>16281</td>\n",
       "      <td>NaN</td>\n",
       "      <td>NaN</td>\n",
       "      <td>NaN</td>\n",
       "      <td>87.8993</td>\n",
       "      <td>403.105</td>\n",
       "      <td>0</td>\n",
       "      <td>0</td>\n",
       "      <td>0</td>\n",
       "      <td>0</td>\n",
       "      <td>3770</td>\n",
       "    </tr>\n",
       "    <tr>\n",
       "      <th>Hours_per_week</th>\n",
       "      <td>16281</td>\n",
       "      <td>NaN</td>\n",
       "      <td>NaN</td>\n",
       "      <td>NaN</td>\n",
       "      <td>40.3922</td>\n",
       "      <td>12.4793</td>\n",
       "      <td>1</td>\n",
       "      <td>40</td>\n",
       "      <td>40</td>\n",
       "      <td>45</td>\n",
       "      <td>99</td>\n",
       "    </tr>\n",
       "    <tr>\n",
       "      <th>Country</th>\n",
       "      <td>16007</td>\n",
       "      <td>40</td>\n",
       "      <td>United-States</td>\n",
       "      <td>14662</td>\n",
       "      <td>NaN</td>\n",
       "      <td>NaN</td>\n",
       "      <td>NaN</td>\n",
       "      <td>NaN</td>\n",
       "      <td>NaN</td>\n",
       "      <td>NaN</td>\n",
       "      <td>NaN</td>\n",
       "    </tr>\n",
       "    <tr>\n",
       "      <th>Target</th>\n",
       "      <td>16281</td>\n",
       "      <td>NaN</td>\n",
       "      <td>NaN</td>\n",
       "      <td>NaN</td>\n",
       "      <td>0.236226</td>\n",
       "      <td>0.424776</td>\n",
       "      <td>0</td>\n",
       "      <td>0</td>\n",
       "      <td>0</td>\n",
       "      <td>0</td>\n",
       "      <td>1</td>\n",
       "    </tr>\n",
       "  </tbody>\n",
       "</table>\n",
       "</div>"
      ],
      "text/plain": [
       "                count unique                  top   freq      mean       std  \\\n",
       "Age             16281     73                   35    461       NaN       NaN   \n",
       "Workclass       15318      8              Private  11210       NaN       NaN   \n",
       "fnlwgt          16281    NaN                  NaN    NaN    189436    105715   \n",
       "Education       16281     16              HS-grad   5283       NaN       NaN   \n",
       "Education_Num   16281    NaN                  NaN    NaN   10.0729   2.56755   \n",
       "Martial_Status  16281      7   Married-civ-spouse   7403       NaN       NaN   \n",
       "Occupation      15315     14       Prof-specialty   2032       NaN       NaN   \n",
       "Relationship    16281      6              Husband   6523       NaN       NaN   \n",
       "Race            16281      5                White  13946       NaN       NaN   \n",
       "Sex             16281      2                 Male  10860       NaN       NaN   \n",
       "Capital_Gain    16281    NaN                  NaN    NaN   1081.91   7583.94   \n",
       "Capital_Loss    16281    NaN                  NaN    NaN   87.8993   403.105   \n",
       "Hours_per_week  16281    NaN                  NaN    NaN   40.3922   12.4793   \n",
       "Country         16007     40        United-States  14662       NaN       NaN   \n",
       "Target          16281    NaN                  NaN    NaN  0.236226  0.424776   \n",
       "\n",
       "                  min     25%     50%     75%         max  \n",
       "Age               NaN     NaN     NaN     NaN         NaN  \n",
       "Workclass         NaN     NaN     NaN     NaN         NaN  \n",
       "fnlwgt          13492  116736  177831  238384  1.4904e+06  \n",
       "Education         NaN     NaN     NaN     NaN         NaN  \n",
       "Education_Num       1       9      10      12          16  \n",
       "Martial_Status    NaN     NaN     NaN     NaN         NaN  \n",
       "Occupation        NaN     NaN     NaN     NaN         NaN  \n",
       "Relationship      NaN     NaN     NaN     NaN         NaN  \n",
       "Race              NaN     NaN     NaN     NaN         NaN  \n",
       "Sex               NaN     NaN     NaN     NaN         NaN  \n",
       "Capital_Gain        0       0       0       0       99999  \n",
       "Capital_Loss        0       0       0       0        3770  \n",
       "Hours_per_week      1      40      40      45          99  \n",
       "Country           NaN     NaN     NaN     NaN         NaN  \n",
       "Target              0       0       0       0           1  "
      ]
     },
     "execution_count": 27,
     "metadata": {},
     "output_type": "execute_result"
    }
   ],
   "source": [
    "data_test.describe(include='all').T"
   ]
  },
  {
   "cell_type": "code",
   "execution_count": 28,
   "metadata": {},
   "outputs": [
    {
     "data": {
      "text/plain": [
       "0    24720\n",
       "1     7841\n",
       "Name: Target, dtype: int64"
      ]
     },
     "execution_count": 28,
     "metadata": {},
     "output_type": "execute_result"
    }
   ],
   "source": [
    "data_train['Target'].value_counts()"
   ]
  },
  {
   "cell_type": "code",
   "execution_count": 29,
   "metadata": {},
   "outputs": [
    {
     "data": {
      "image/png": "[encoded data removed]",
      "text/plain": [
       "<Figure size 1800x1080 with 15 Axes>"
      ]
     },
     "metadata": {},
     "output_type": "display_data"
    }
   ],
   "source": [
    "fig = plt.figure(figsize=(25, 15))\n",
    "cols = 5\n",
    "rows = np.ceil(float(data_train.shape[1]) / cols)\n",
    "for i, column in enumerate(data_train.columns):\n",
    "    ax = fig.add_subplot(rows, cols, i + 1)\n",
    "    ax.set_title(column)\n",
    "    if data_train.dtypes[column] == np.object:\n",
    "        data_train[column].value_counts().plot(kind=\"bar\", axes=ax)\n",
    "    else:\n",
    "        data_train[column].hist(axes=ax)\n",
    "        plt.xticks(rotation=\"vertical\")\n",
    "plt.subplots_adjust(hspace=0.7, wspace=0.2)"
   ]
  },
  {
   "cell_type": "markdown",
   "metadata": {},
   "source": [
    "#### Checking data types"
   ]
  },
  {
   "cell_type": "code",
   "execution_count": 30,
   "metadata": {},
   "outputs": [
    {
     "data": {
      "text/plain": [
       "Age                int64\n",
       "Workclass         object\n",
       "fnlwgt             int64\n",
       "Education         object\n",
       "Education_Num      int64\n",
       "Martial_Status    object\n",
       "Occupation        object\n",
       "Relationship      object\n",
       "Race              object\n",
       "Sex               object\n",
       "Capital_Gain       int64\n",
       "Capital_Loss       int64\n",
       "Hours_per_week     int64\n",
       "Country           object\n",
       "Target             int64\n",
       "dtype: object"
      ]
     },
     "execution_count": 30,
     "metadata": {},
     "output_type": "execute_result"
    }
   ],
   "source": [
    "data_train.dtypes"
   ]
  },
  {
   "cell_type": "code",
   "execution_count": 31,
   "metadata": {},
   "outputs": [
    {
     "data": {
      "text/plain": [
       "Age                object\n",
       "Workclass          object\n",
       "fnlwgt            float64\n",
       "Education          object\n",
       "Education_Num     float64\n",
       "Martial_Status     object\n",
       "Occupation         object\n",
       "Relationship       object\n",
       "Race               object\n",
       "Sex                object\n",
       "Capital_Gain      float64\n",
       "Capital_Loss      float64\n",
       "Hours_per_week    float64\n",
       "Country            object\n",
       "Target              int64\n",
       "dtype: object"
      ]
     },
     "execution_count": 31,
     "metadata": {},
     "output_type": "execute_result"
    }
   ],
   "source": [
    "data_test.dtypes"
   ]
  },
  {
   "cell_type": "markdown",
   "metadata": {},
   "source": [
    "As we see, in the test data, age is treated as type **object**. We need to fix this."
   ]
  },
  {
   "cell_type": "code",
   "execution_count": 32,
   "metadata": {},
   "outputs": [],
   "source": [
    "data_test['Age'] = data_test['Age'].astype(int)"
   ]
  },
  {
   "cell_type": "markdown",
   "metadata": {},
   "source": [
    "Also we'll cast all **float** features to **int** type to keep types consistent between our train and test data."
   ]
  },
  {
   "cell_type": "code",
   "execution_count": 33,
   "metadata": {},
   "outputs": [],
   "source": [
    "data_test['fnlwgt'] = data_test['fnlwgt'].astype(int)\n",
    "data_test['Education_Num'] = data_test['Education_Num'].astype(int)\n",
    "data_test['Capital_Gain'] = data_test['Capital_Gain'].astype(int)\n",
    "data_test['Capital_Loss'] = data_test['Capital_Loss'].astype(int)\n",
    "data_test['Hours_per_week'] = data_test['Hours_per_week'].astype(int)"
   ]
  },
  {
   "cell_type": "markdown",
   "metadata": {},
   "source": [
    "#### Fill in missing data for continuous features with their median values, for categorical features with their mode."
   ]
  },
  {
   "cell_type": "code",
   "execution_count": 34,
   "metadata": {},
   "outputs": [
    {
     "name": "stdout",
     "output_type": "stream",
     "text": [
      "categorical_columns: ['Workclass', 'Education', 'Martial_Status', 'Occupation', 'Relationship', 'Race', 'Sex', 'Country']\n",
      "numerical_columns: ['Age', 'fnlwgt', 'Education_Num', 'Capital_Gain', 'Capital_Loss', 'Hours_per_week', 'Target']\n"
     ]
    }
   ],
   "source": [
    "# choose categorical and continuous features from data\n",
    "\n",
    "categorical_columns = [c for c in data_train.columns \n",
    "                       if data_train[c].dtype.name == 'object']\n",
    "numerical_columns = [c for c in data_train.columns \n",
    "                     if data_train[c].dtype.name != 'object']\n",
    "\n",
    "print('categorical_columns:', categorical_columns)\n",
    "print('numerical_columns:', numerical_columns)"
   ]
  },
  {
   "cell_type": "code",
   "execution_count": 35,
   "metadata": {},
   "outputs": [],
   "source": [
    "# fill missing data\n",
    "\n",
    "for c in categorical_columns:\n",
    "    data_train[c].fillna(data_train[c].mode(), inplace=True)\n",
    "    data_test[c].fillna(data_train[c].mode(), inplace=True)\n",
    "    \n",
    "for c in numerical_columns:\n",
    "    data_train[c].fillna(data_train[c].median(), inplace=True)\n",
    "    data_test[c].fillna(data_train[c].median(), inplace=True)"
   ]
  },
  {
   "cell_type": "markdown",
   "metadata": {},
   "source": [
    "We'll dummy code some categorical features: **Workclass**, **Education**, **Martial_Status**, **Occupation**, **Relationship**, **Race**, **Sex**, **Country**. It can be done via pandas method **get_dummies**"
   ]
  },
  {
   "cell_type": "code",
   "execution_count": 36,
   "metadata": {},
   "outputs": [],
   "source": [
    "data_train = pd.concat([\n",
    "    pd.get_dummies(data_train[categorical_columns]),\n",
    "    data_train[numerical_columns]], axis=1)\n",
    "\n",
    "data_test = pd.concat([\n",
    "    pd.get_dummies(data_test[categorical_columns]),\n",
    "    data_test[numerical_columns]], axis=1)"
   ]
  },
  {
   "cell_type": "code",
   "execution_count": 37,
   "metadata": {},
   "outputs": [
    {
     "data": {
      "text/plain": [
       "{'Country_ Holand-Netherlands'}"
      ]
     },
     "execution_count": 37,
     "metadata": {},
     "output_type": "execute_result"
    }
   ],
   "source": [
    "set(data_train.columns) - set(data_test.columns)"
   ]
  },
  {
   "cell_type": "code",
   "execution_count": 38,
   "metadata": {},
   "outputs": [
    {
     "data": {
      "text/plain": [
       "((32561, 106), (16281, 105))"
      ]
     },
     "execution_count": 38,
     "metadata": {},
     "output_type": "execute_result"
    }
   ],
   "source": [
    "data_train.shape, data_test.shape"
   ]
  },
  {
   "cell_type": "markdown",
   "metadata": {},
   "source": [
    "#### There is no Holland in the test data. Create new zero-valued feature."
   ]
  },
  {
   "cell_type": "code",
   "execution_count": 39,
   "metadata": {},
   "outputs": [],
   "source": [
    "data_test['Country_ Holand-Netherlands'] = 0"
   ]
  },
  {
   "cell_type": "code",
   "execution_count": 40,
   "metadata": {},
   "outputs": [
    {
     "data": {
      "text/plain": [
       "set()"
      ]
     },
     "execution_count": 40,
     "metadata": {},
     "output_type": "execute_result"
    }
   ],
   "source": [
    "set(data_train.columns) - set(data_test.columns)"
   ]
  },
  {
   "cell_type": "code",
   "execution_count": 41,
   "metadata": {},
   "outputs": [
    {
     "data": {
      "text/html": [
       "<div>\n",
       "<style scoped>\n",
       "    .dataframe tbody tr th:only-of-type {\n",
       "        vertical-align: middle;\n",
       "    }\n",
       "\n",
       "    .dataframe tbody tr th {\n",
       "        vertical-align: top;\n",
       "    }\n",
       "\n",
       "    .dataframe thead th {\n",
       "        text-align: right;\n",
       "    }\n",
       "</style>\n",
       "<table border=\"1\" class=\"dataframe\">\n",
       "  <thead>\n",
       "    <tr style=\"text-align: right;\">\n",
       "      <th></th>\n",
       "      <th>Workclass_ Federal-gov</th>\n",
       "      <th>Workclass_ Local-gov</th>\n",
       "      <th>Workclass_ Never-worked</th>\n",
       "      <th>Workclass_ Private</th>\n",
       "      <th>Workclass_ Self-emp-inc</th>\n",
       "      <th>Workclass_ Self-emp-not-inc</th>\n",
       "      <th>Workclass_ State-gov</th>\n",
       "      <th>Workclass_ Without-pay</th>\n",
       "      <th>Education_ 10th</th>\n",
       "      <th>Education_ 11th</th>\n",
       "      <th>...</th>\n",
       "      <th>Country_ United-States</th>\n",
       "      <th>Country_ Vietnam</th>\n",
       "      <th>Country_ Yugoslavia</th>\n",
       "      <th>Age</th>\n",
       "      <th>fnlwgt</th>\n",
       "      <th>Education_Num</th>\n",
       "      <th>Capital_Gain</th>\n",
       "      <th>Capital_Loss</th>\n",
       "      <th>Hours_per_week</th>\n",
       "      <th>Target</th>\n",
       "    </tr>\n",
       "  </thead>\n",
       "  <tbody>\n",
       "    <tr>\n",
       "      <th>0</th>\n",
       "      <td>0</td>\n",
       "      <td>0</td>\n",
       "      <td>0</td>\n",
       "      <td>0</td>\n",
       "      <td>0</td>\n",
       "      <td>0</td>\n",
       "      <td>1</td>\n",
       "      <td>0</td>\n",
       "      <td>0</td>\n",
       "      <td>0</td>\n",
       "      <td>...</td>\n",
       "      <td>1</td>\n",
       "      <td>0</td>\n",
       "      <td>0</td>\n",
       "      <td>39</td>\n",
       "      <td>77516</td>\n",
       "      <td>13</td>\n",
       "      <td>2174</td>\n",
       "      <td>0</td>\n",
       "      <td>40</td>\n",
       "      <td>0</td>\n",
       "    </tr>\n",
       "    <tr>\n",
       "      <th>1</th>\n",
       "      <td>0</td>\n",
       "      <td>0</td>\n",
       "      <td>0</td>\n",
       "      <td>0</td>\n",
       "      <td>0</td>\n",
       "      <td>1</td>\n",
       "      <td>0</td>\n",
       "      <td>0</td>\n",
       "      <td>0</td>\n",
       "      <td>0</td>\n",
       "      <td>...</td>\n",
       "      <td>1</td>\n",
       "      <td>0</td>\n",
       "      <td>0</td>\n",
       "      <td>50</td>\n",
       "      <td>83311</td>\n",
       "      <td>13</td>\n",
       "      <td>0</td>\n",
       "      <td>0</td>\n",
       "      <td>13</td>\n",
       "      <td>0</td>\n",
       "    </tr>\n",
       "  </tbody>\n",
       "</table>\n",
       "<p>2 rows × 106 columns</p>\n",
       "</div>"
      ],
      "text/plain": [
       "   Workclass_ Federal-gov  Workclass_ Local-gov  Workclass_ Never-worked  \\\n",
       "0                       0                     0                        0   \n",
       "1                       0                     0                        0   \n",
       "\n",
       "   Workclass_ Private  Workclass_ Self-emp-inc  Workclass_ Self-emp-not-inc  \\\n",
       "0                   0                        0                            0   \n",
       "1                   0                        0                            1   \n",
       "\n",
       "   Workclass_ State-gov  Workclass_ Without-pay  Education_ 10th  \\\n",
       "0                     1                       0                0   \n",
       "1                     0                       0                0   \n",
       "\n",
       "   Education_ 11th   ...    Country_ United-States  Country_ Vietnam  \\\n",
       "0                0   ...                         1                 0   \n",
       "1                0   ...                         1                 0   \n",
       "\n",
       "   Country_ Yugoslavia  Age  fnlwgt  Education_Num  Capital_Gain  \\\n",
       "0                    0   39   77516             13          2174   \n",
       "1                    0   50   83311             13             0   \n",
       "\n",
       "   Capital_Loss  Hours_per_week  Target  \n",
       "0             0              40       0  \n",
       "1             0              13       0  \n",
       "\n",
       "[2 rows x 106 columns]"
      ]
     },
     "execution_count": 41,
     "metadata": {},
     "output_type": "execute_result"
    }
   ],
   "source": [
    "data_train.head(2)"
   ]
  },
  {
   "cell_type": "code",
   "execution_count": 42,
   "metadata": {},
   "outputs": [
    {
     "data": {
      "text/html": [
       "<div>\n",
       "<style scoped>\n",
       "    .dataframe tbody tr th:only-of-type {\n",
       "        vertical-align: middle;\n",
       "    }\n",
       "\n",
       "    .dataframe tbody tr th {\n",
       "        vertical-align: top;\n",
       "    }\n",
       "\n",
       "    .dataframe thead th {\n",
       "        text-align: right;\n",
       "    }\n",
       "</style>\n",
       "<table border=\"1\" class=\"dataframe\">\n",
       "  <thead>\n",
       "    <tr style=\"text-align: right;\">\n",
       "      <th></th>\n",
       "      <th>Workclass_ Federal-gov</th>\n",
       "      <th>Workclass_ Local-gov</th>\n",
       "      <th>Workclass_ Never-worked</th>\n",
       "      <th>Workclass_ Private</th>\n",
       "      <th>Workclass_ Self-emp-inc</th>\n",
       "      <th>Workclass_ Self-emp-not-inc</th>\n",
       "      <th>Workclass_ State-gov</th>\n",
       "      <th>Workclass_ Without-pay</th>\n",
       "      <th>Education_ 10th</th>\n",
       "      <th>Education_ 11th</th>\n",
       "      <th>...</th>\n",
       "      <th>Country_ Vietnam</th>\n",
       "      <th>Country_ Yugoslavia</th>\n",
       "      <th>Age</th>\n",
       "      <th>fnlwgt</th>\n",
       "      <th>Education_Num</th>\n",
       "      <th>Capital_Gain</th>\n",
       "      <th>Capital_Loss</th>\n",
       "      <th>Hours_per_week</th>\n",
       "      <th>Target</th>\n",
       "      <th>Country_ Holand-Netherlands</th>\n",
       "    </tr>\n",
       "  </thead>\n",
       "  <tbody>\n",
       "    <tr>\n",
       "      <th>1</th>\n",
       "      <td>0</td>\n",
       "      <td>0</td>\n",
       "      <td>0</td>\n",
       "      <td>1</td>\n",
       "      <td>0</td>\n",
       "      <td>0</td>\n",
       "      <td>0</td>\n",
       "      <td>0</td>\n",
       "      <td>0</td>\n",
       "      <td>1</td>\n",
       "      <td>...</td>\n",
       "      <td>0</td>\n",
       "      <td>0</td>\n",
       "      <td>25</td>\n",
       "      <td>226802</td>\n",
       "      <td>7</td>\n",
       "      <td>0</td>\n",
       "      <td>0</td>\n",
       "      <td>40</td>\n",
       "      <td>0</td>\n",
       "      <td>0</td>\n",
       "    </tr>\n",
       "    <tr>\n",
       "      <th>2</th>\n",
       "      <td>0</td>\n",
       "      <td>0</td>\n",
       "      <td>0</td>\n",
       "      <td>1</td>\n",
       "      <td>0</td>\n",
       "      <td>0</td>\n",
       "      <td>0</td>\n",
       "      <td>0</td>\n",
       "      <td>0</td>\n",
       "      <td>0</td>\n",
       "      <td>...</td>\n",
       "      <td>0</td>\n",
       "      <td>0</td>\n",
       "      <td>38</td>\n",
       "      <td>89814</td>\n",
       "      <td>9</td>\n",
       "      <td>0</td>\n",
       "      <td>0</td>\n",
       "      <td>50</td>\n",
       "      <td>0</td>\n",
       "      <td>0</td>\n",
       "    </tr>\n",
       "  </tbody>\n",
       "</table>\n",
       "<p>2 rows × 106 columns</p>\n",
       "</div>"
      ],
      "text/plain": [
       "   Workclass_ Federal-gov  Workclass_ Local-gov  Workclass_ Never-worked  \\\n",
       "1                       0                     0                        0   \n",
       "2                       0                     0                        0   \n",
       "\n",
       "   Workclass_ Private  Workclass_ Self-emp-inc  Workclass_ Self-emp-not-inc  \\\n",
       "1                   1                        0                            0   \n",
       "2                   1                        0                            0   \n",
       "\n",
       "   Workclass_ State-gov  Workclass_ Without-pay  Education_ 10th  \\\n",
       "1                     0                       0                0   \n",
       "2                     0                       0                0   \n",
       "\n",
       "   Education_ 11th             ...               Country_ Vietnam  \\\n",
       "1                1             ...                              0   \n",
       "2                0             ...                              0   \n",
       "\n",
       "   Country_ Yugoslavia  Age  fnlwgt  Education_Num  Capital_Gain  \\\n",
       "1                    0   25  226802              7             0   \n",
       "2                    0   38   89814              9             0   \n",
       "\n",
       "   Capital_Loss  Hours_per_week  Target  Country_ Holand-Netherlands  \n",
       "1             0              40       0                            0  \n",
       "2             0              50       0                            0  \n",
       "\n",
       "[2 rows x 106 columns]"
      ]
     },
     "execution_count": 42,
     "metadata": {},
     "output_type": "execute_result"
    }
   ],
   "source": [
    "data_test.head(2)"
   ]
  },
  {
   "cell_type": "code",
   "execution_count": 43,
   "metadata": {},
   "outputs": [],
   "source": [
    "X_train = data_train.drop(['Target'], axis=1)\n",
    "y_train = data_train['Target']\n",
    "\n",
    "X_test = data_test.drop(['Target'], axis=1)\n",
    "y_test = data_test['Target']"
   ]
  },
  {
   "cell_type": "markdown",
   "metadata": {},
   "source": [
    "### 3.1 Decision tree without parameter tuning"
   ]
  },
  {
   "cell_type": "markdown",
   "metadata": {},
   "source": [
    "Train a decision tree **(DecisionTreeClassifier)** with a maximum depth of 3, and evaluate the accuracy metric on the test data. Use parameter **random_state = 17** for results reproducibility."
   ]
  },
  {
   "cell_type": "code",
   "execution_count": 44,
   "metadata": {},
   "outputs": [
    {
     "data": {
      "text/plain": [
       "DecisionTreeClassifier(class_weight=None, criterion='gini', max_depth=3,\n",
       "            max_features=None, max_leaf_nodes=None,\n",
       "            min_impurity_decrease=0.0, min_impurity_split=None,\n",
       "            min_samples_leaf=1, min_samples_split=2,\n",
       "            min_weight_fraction_leaf=0.0, presort=False, random_state=17,\n",
       "            splitter='best')"
      ]
     },
     "execution_count": 44,
     "metadata": {},
     "output_type": "execute_result"
    }
   ],
   "source": [
    "tree = DecisionTreeClassifier(random_state=17, max_depth=3)\n",
    "tree.fit(X_train.values, y_train.values)"
   ]
  },
  {
   "cell_type": "markdown",
   "metadata": {},
   "source": [
    "Make a prediction with the trained model on the test data."
   ]
  },
  {
   "cell_type": "code",
   "execution_count": 45,
   "metadata": {},
   "outputs": [],
   "source": [
    "tree_predictions = tree.predict(X_test)"
   ]
  },
  {
   "cell_type": "code",
   "execution_count": 46,
   "metadata": {},
   "outputs": [
    {
     "data": {
      "text/plain": [
       "0.7904305632332166"
      ]
     },
     "execution_count": 46,
     "metadata": {},
     "output_type": "execute_result"
    }
   ],
   "source": [
    "accuracy_score(y_test, tree_predictions)"
   ]
  },
  {
   "cell_type": "markdown",
   "metadata": {},
   "source": [
    "6\\. What is the test set accuracy of a decision tree with maximum tree depth of 3 and **random_state = 17**?"
   ]
  },
  {
   "cell_type": "code",
   "execution_count": 47,
   "metadata": {},
   "outputs": [],
   "source": [
    "# 0.79"
   ]
  },
  {
   "cell_type": "markdown",
   "metadata": {},
   "source": [
    "### 3.2 Decision tree with parameter tuning"
   ]
  },
  {
   "cell_type": "markdown",
   "metadata": {},
   "source": [
    "Train a decision tree **(DecisionTreeClassifier, random_state = 17).** Find the optimal maximum depth using 5-fold cross-validation **(GridSearchCV)**."
   ]
  },
  {
   "cell_type": "code",
   "execution_count": 48,
   "metadata": {},
   "outputs": [
    {
     "name": "stdout",
     "output_type": "stream",
     "text": [
      "Fitting 5 folds for each of 9 candidates, totalling 45 fits\n"
     ]
    },
    {
     "name": "stderr",
     "output_type": "stream",
     "text": [
      "[Parallel(n_jobs=-1)]: Done  38 out of  45 | elapsed:    1.9s remaining:    0.4s\n",
      "[Parallel(n_jobs=-1)]: Done  45 out of  45 | elapsed:    2.3s finished\n"
     ]
    },
    {
     "data": {
      "text/plain": [
       "GridSearchCV(cv=5, error_score='raise',\n",
       "       estimator=DecisionTreeClassifier(class_weight=None, criterion='gini', max_depth=3,\n",
       "            max_features=None, max_leaf_nodes=None,\n",
       "            min_impurity_decrease=0.0, min_impurity_split=None,\n",
       "            min_samples_leaf=1, min_samples_split=2,\n",
       "            min_weight_fraction_leaf=0.0, presort=False, random_state=17,\n",
       "            splitter='best'),\n",
       "       fit_params=None, iid=True, n_jobs=-1,\n",
       "       param_grid={'max_depth': range(2, 11)}, pre_dispatch='2*n_jobs',\n",
       "       refit=True, return_train_score='warn', scoring=None, verbose=True)"
      ]
     },
     "execution_count": 48,
     "metadata": {},
     "output_type": "execute_result"
    }
   ],
   "source": [
    "tree_params = {'max_depth': range(2,11)}\n",
    "\n",
    "locally_best_tree = GridSearchCV(tree, tree_params, cv=5, n_jobs=-1, verbose=True)                  \n",
    "\n",
    "locally_best_tree.fit(X_train, y_train)"
   ]
  },
  {
   "cell_type": "code",
   "execution_count": 49,
   "metadata": {},
   "outputs": [
    {
     "name": "stdout",
     "output_type": "stream",
     "text": [
      "Best params: {'max_depth': 9}\n",
      "Best cross validaton score 0.8561469242345137\n"
     ]
    }
   ],
   "source": [
    "print(\"Best params:\", locally_best_tree.best_params_)\n",
    "print(\"Best cross validaton score\", locally_best_tree.best_score_)"
   ]
  },
  {
   "cell_type": "markdown",
   "metadata": {},
   "source": [
    "Train a decision tree with maximum depth of 9 (it is the best **max_depth** in my case), and compute the test set accuracy. Use parameter **random_state = 17** for reproducibility."
   ]
  },
  {
   "cell_type": "code",
   "execution_count": 59,
   "metadata": {},
   "outputs": [
    {
     "data": {
      "text/plain": [
       "0.7879737116884712"
      ]
     },
     "execution_count": 59,
     "metadata": {},
     "output_type": "execute_result"
    }
   ],
   "source": [
    "tuned_tree = DecisionTreeClassifier(random_state=17, max_depth=9)\n",
    "tuned_tree.fit(X_train, y_train)\n",
    "tuned_tree_predictions = tuned_tree.predict(X_test)\n",
    "accuracy_score(y_test, tuned_tree_predictions)"
   ]
  },
  {
   "cell_type": "markdown",
   "metadata": {},
   "source": [
    "7\\. What is the test set accuracy of a decision tree with maximum depth of 9 and **random_state = 17**?"
   ]
  },
  {
   "cell_type": "code",
   "execution_count": null,
   "metadata": {},
   "outputs": [],
   "source": [
    "# 0.79"
   ]
  },
  {
   "cell_type": "markdown",
   "metadata": {},
   "source": [
    "### 3.3 (Optional) Random forest without parameter tuning"
   ]
  },
  {
   "cell_type": "markdown",
   "metadata": {},
   "source": [
    "Let's take a sneak peek of upcoming lectures and try to use a random forest for our task. For now, you can imagine a random forest as a bunch of decision trees, trained on slightly different subsets of the training data."
   ]
  },
  {
   "cell_type": "markdown",
   "metadata": {},
   "source": [
    "Train a random forest **(RandomForestClassifier)**. Set the number of trees to 100 and use **random_state = 17**."
   ]
  },
  {
   "cell_type": "code",
   "execution_count": 67,
   "metadata": {},
   "outputs": [
    {
     "data": {
      "text/plain": [
       "RandomForestClassifier(bootstrap=True, class_weight=None, criterion='gini',\n",
       "            max_depth=None, max_features='auto', max_leaf_nodes=None,\n",
       "            min_impurity_decrease=0.0, min_impurity_split=None,\n",
       "            min_samples_leaf=1, min_samples_split=2,\n",
       "            min_weight_fraction_leaf=0.0, n_estimators=100, n_jobs=1,\n",
       "            oob_score=False, random_state=17, verbose=0, warm_start=False)"
      ]
     },
     "execution_count": 67,
     "metadata": {},
     "output_type": "execute_result"
    }
   ],
   "source": [
    "rf = RandomForestClassifier(n_estimators=100, random_state=17)\n",
    "rf.fit(X_train, y_train)"
   ]
  },
  {
   "cell_type": "markdown",
   "metadata": {},
   "source": [
    "Make predictions for the test data."
   ]
  },
  {
   "cell_type": "code",
   "execution_count": 68,
   "metadata": {},
   "outputs": [],
   "source": [
    "forest_predictions = rf.predict(X_test)"
   ]
  },
  {
   "cell_type": "code",
   "execution_count": 69,
   "metadata": {},
   "outputs": [
    {
     "data": {
      "text/plain": [
       "0.7744610281923715"
      ]
     },
     "execution_count": 69,
     "metadata": {},
     "output_type": "execute_result"
    }
   ],
   "source": [
    "accuracy_score(y_test, forest_predictions)"
   ]
  },
  {
   "cell_type": "markdown",
   "metadata": {},
   "source": [
    "### 3.4 (Optional) Random forest with parameter tuning"
   ]
  },
  {
   "cell_type": "markdown",
   "metadata": {},
   "source": [
    "Train a random forest **(RandomForestClassifier)**. Tune the maximum depth and maximum number of features for each tree using **GridSearchCV**. "
   ]
  },
  {
   "cell_type": "code",
   "execution_count": 71,
   "metadata": {},
   "outputs": [
    {
     "name": "stdout",
     "output_type": "stream",
     "text": [
      "Fitting 5 folds for each of 55 candidates, totalling 275 fits\n"
     ]
    },
    {
     "name": "stderr",
     "output_type": "stream",
     "text": [
      "[Parallel(n_jobs=-1)]: Done  42 tasks      | elapsed:   27.9s\n",
      "[Parallel(n_jobs=-1)]: Done 192 tasks      | elapsed:  2.5min\n",
      "[Parallel(n_jobs=-1)]: Done 275 out of 275 | elapsed:  3.9min finished\n"
     ]
    },
    {
     "data": {
      "text/plain": [
       "GridSearchCV(cv=5, error_score='raise',\n",
       "       estimator=RandomForestClassifier(bootstrap=True, class_weight=None, criterion='gini',\n",
       "            max_depth=None, max_features='auto', max_leaf_nodes=None,\n",
       "            min_impurity_decrease=0.0, min_impurity_split=None,\n",
       "            min_samples_leaf=1, min_samples_split=2,\n",
       "            min_weight_fraction_leaf=0.0, n_estimators=100, n_jobs=1,\n",
       "            oob_score=False, random_state=17, verbose=0, warm_start=False),\n",
       "       fit_params=None, iid=True, n_jobs=-1,\n",
       "       param_grid={'max_depth': range(10, 21), 'max_features': range(5, 105, 20)},\n",
       "       pre_dispatch='2*n_jobs', refit=True, return_train_score='warn',\n",
       "       scoring=None, verbose=True)"
      ]
     },
     "execution_count": 71,
     "metadata": {},
     "output_type": "execute_result"
    }
   ],
   "source": [
    "forest_params = {'max_depth': range(10, 21),\n",
    "                'max_features': range(5, 105, 20)}\n",
    "\n",
    "locally_best_forest = GridSearchCV(rf, forest_params, cv=5, n_jobs=-1, verbose=True)\n",
    "\n",
    "locally_best_forest.fit(X_test, y_test)"
   ]
  },
  {
   "cell_type": "code",
   "execution_count": 72,
   "metadata": {},
   "outputs": [
    {
     "name": "stdout",
     "output_type": "stream",
     "text": [
      "Best params: {'max_depth': 16, 'max_features': 25}\n",
      "Best cross validaton score 0.8648731650390025\n"
     ]
    }
   ],
   "source": [
    "print(\"Best params:\", locally_best_forest.best_params_)\n",
    "print(\"Best cross validaton score\", locally_best_forest.best_score_)"
   ]
  },
  {
   "cell_type": "markdown",
   "metadata": {},
   "source": [
    "Make predictions for the test data."
   ]
  },
  {
   "cell_type": "code",
   "execution_count": 73,
   "metadata": {},
   "outputs": [
    {
     "data": {
      "text/plain": [
       "0.918002579694122"
      ]
     },
     "execution_count": 73,
     "metadata": {},
     "output_type": "execute_result"
    }
   ],
   "source": [
    "tuned_forest_predictions = locally_best_forest.predict(X_test)\n",
    "accuracy_score(y_test, tuned_forest_predictions)"
   ]
  }
 ],
 "metadata": {
  "kernelspec": {
   "display_name": "Python 3",
   "language": "python",
   "name": "python3"
  },
  "language_info": {
   "codemirror_mode": {
    "name": "ipython",
    "version": 3
   },
   "file_extension": ".py",
   "mimetype": "text/x-python",
   "name": "python",
   "nbconvert_exporter": "python",
   "pygments_lexer": "ipython3",
   "version": "3.5.2"
  }
 },
 "nbformat": 4,
 "nbformat_minor": 2
}
